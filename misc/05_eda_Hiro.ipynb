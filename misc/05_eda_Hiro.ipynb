{
 "cells": [
  {
   "cell_type": "markdown",
   "id": "64b4c822",
   "metadata": {},
   "source": [
    "# Exploratory Data analysis \n",
    "Hiro Naito"
   ]
  },
  {
   "cell_type": "markdown",
   "id": "927f0f55",
   "metadata": {},
   "source": [
    "## Summary\n",
    "\n",
    "* Several types of EDAs were performed: \n",
    "   * Feature correlation\n",
    "   * Feature values VS target distribution\n",
    "   * Simple logistic regression with one and two features\n",
    "   * Cluster analysis \n",
    "* Overall, there were no clear signs of strong features to predict heart disease, at least in its simplest form. \n",
    "   * Only exception was Heart Attack, but we will likely remove that as a feature since it won't be an \"early\" sign of getting heart disease. \n",
    "* This either means: \n",
    "   * The feature + target relationships are complex and therefore cannot be done with simple modeling\n",
    "   * We don't have enough features (or, feature engineering) to predict heart disease. \n",
    "* I noticed the age is capped at 80, and therefore all people that's older than 80 are put as 80. This is something to be cautious as we are using age (or similar) as a feature\n",
    "   * If age (or similar) becomes really important as a feature, we may need to discard it, as it is obvious to check for heart disase if you're (very senior), and therefore the prediction will not be super helpful "
   ]
  },
  {
   "cell_type": "markdown",
   "id": "1600f98f",
   "metadata": {},
   "source": [
    "## Prep"
   ]
  },
  {
   "cell_type": "code",
   "execution_count": 73,
   "id": "9572f614",
   "metadata": {},
   "outputs": [],
   "source": [
    "# Few configurable initializations\n",
    "\n",
    "TRAIN_PATH = '../data/processed/2021_data_train.csv' #Path to training data \n",
    "VAL_PATH = None #Path to validation data. If validation file doesn't exist, set as None\n",
    "VAL_SIZE = 0.2 #If validation data has not been created, enter a value between 0 and and 1 to make a validation set on the fly. \n",
    "TARGET_COL = TARGET_COL\n",
    "RANDOM_STATE = 1234"
   ]
  },
  {
   "cell_type": "code",
   "execution_count": 74,
   "id": "5e53c3c5",
   "metadata": {},
   "outputs": [],
   "source": [
    "#Library and data import \n",
    "\n",
    "import pandas as pd \n",
    "import numpy as np\n",
    "import altair as alt\n",
    "import seaborn as sns\n",
    "import matplotlib.pyplot as plt\n",
    "import ipywidgets as widgets\n",
    "import statsmodels.api as sm\n",
    "import statsmodels.formula.api as smf\n",
    "from IPython.display import display\n",
    "from sklearn.metrics import precision_score, recall_score, f1_score\n",
    "from sklearn.metrics import precision_recall_curve\n",
    "from sklearn.neighbors import NearestNeighbors, KNeighborsTransformer\n",
    "from sklearn.preprocessing import OneHotEncoder, StandardScaler\n",
    "from sklearn.cluster import DBSCAN\n",
    "\n",
    "#Creating temporary validation set for light evaluation as part of EDA. \n",
    "if VAL_PATH is None or VAL_PATH == '': \n",
    "    from sklearn.model_selection import train_test_split\n",
    "    trainval_df = pd.read_csv(TRAIN_PATH)\n",
    "    train_df, val_df = train_test_split(trainval_df,test_size=VAL_SIZE,\n",
    "        random_state=RANDOM_STATE,\n",
    "        shuffle=True,\n",
    "        stratify=trainval_df[TARGET_COL]\n",
    "    )\n",
    "    \n",
    "else:\n",
    "    train_df = pd.read_csv(TRAIN_PATH)\n",
    "    val_df = pd.read_csv(VAL_PATH)\n",
    "\n",
    "pd.set_option('display.max_columns', None)\n",
    "RANDOM_SEED = 0\n",
    "\n",
    "\n",
    "#Altair setup for themes\n",
    "alt.renderers.enable('mimetype')\n",
    "alt.theme.enable('default')\n",
    "def apply_alt_config(chart):\n",
    "    return chart.configure_axis(\n",
    "        labelFontSize=14,\n",
    "        titleFontSize=16\n",
    "    ).configure_axisX(\n",
    "        labelAngle=-45\n",
    "    ).configure_legend(\n",
    "        labelFontSize=12,\n",
    "        titleFontSize=14\n",
    "    ).configure_title(\n",
    "        fontSize=18,\n",
    "        anchor = 'middle'\n",
    "    )\n",
    "\n"
   ]
  },
  {
   "cell_type": "code",
   "execution_count": 75,
   "id": "3fc90017",
   "metadata": {},
   "outputs": [
    {
     "name": "stdout",
     "output_type": "stream",
     "text": [
      "Categorical columns (2)): ['MaritalStatus', 'Race']\n",
      "Binary columns except Heart Disease (15): ['Arthritis', 'AvoidedCareCost', 'Depression', 'Diabetes', 'DrankAlcohol', 'EverSmoked100Cigs', 'ExercisedPastMonth', 'HeartAttack', 'HighBloodPressure', 'HighCholesterol', 'ObeseFlag', 'OtherCancer', 'Sex', 'SkinCancer', 'Stroke']\n",
      "Quantitative columns (4): ['AgeGroup', 'BMI', 'HeightCm', 'WeightKg']\n",
      "Ordinal columns (12): ['AsthmaStatus', 'AvgDrinksPerDay', 'CheckupRecency', 'DrinksPerWeek', 'ECigUse', 'Education', 'GeneralHealth', 'Income', 'SmokelessTobacco', 'SmokingFrequency', 'SmokingQuantity', 'Unnamed: 0']\n"
     ]
    }
   ],
   "source": [
    "# Separate features by type of data for later analysis\n",
    "\n",
    "#Categorical\n",
    "cat_col = train_df.select_dtypes(include='object').columns.tolist()\n",
    "cat_col.sort()\n",
    "print(f\"Categorical columns ({len(cat_col)})): {cat_col}\")\n",
    "\n",
    "#Binary\n",
    "numeric_unique_count = train_df.select_dtypes(include='number').nunique()\n",
    "bin_col = numeric_unique_count[(numeric_unique_count == 2) & (~numeric_unique_count.index.isin([TARGET_COL]))].index.values.tolist()\n",
    "bin_col.sort()\n",
    "print(f\"Binary columns except Heart Disease ({len(bin_col)}): {bin_col}\")\n",
    "\n",
    "#We assume it's a quantitative column if it's a float or the minimum value is NOT 0 and 1 (in which case it's likely ordinal)\n",
    "\n",
    "floats_col_idx = ((train_df.select_dtypes(include='number') % 1.0).sum() != 0)\n",
    "float_col = floats_col_idx[floats_col_idx].index.to_list()\n",
    "min_notzerone_col_idx = (train_df.select_dtypes(include='number').min())>= 2\n",
    "min_notzerone_col = min_notzerone_col_idx[min_notzerone_col_idx].index.to_list()\n",
    "\n",
    "#Get quantitative column by \n",
    "quant_col = train_df[list((set(float_col) | set(min_notzerone_col)))].columns.tolist()\n",
    "quant_col.sort()\n",
    "print(f\"Quantitative columns ({len(quant_col)}): {quant_col}\")\n",
    "\n",
    "#Columns not identified by above are considered ordinal\n",
    "ord_col = train_df[list(set(train_df.columns.to_list()) - set(cat_col+bin_col+quant_col+[TARGET_COL]))].columns.tolist()\n",
    "ord_col.sort()\n",
    "print(f\"Ordinal columns ({len(ord_col)}): {ord_col}\")\n",
    "\n",
    "train_col = sorted(list(set(cat_col+bin_col+quant_col + ord_col)))"
   ]
  },
  {
   "cell_type": "markdown",
   "id": "e6cc0630",
   "metadata": {},
   "source": [
    "## Correlation"
   ]
  },
  {
   "cell_type": "markdown",
   "id": "00236dd3",
   "metadata": {},
   "source": [
    "### Heart disease VS numeric variables (heatmap)"
   ]
  },
  {
   "cell_type": "code",
   "execution_count": 76,
   "id": "6a8ee41e",
   "metadata": {},
   "outputs": [
    {
     "data": {
      "application/vnd.vegalite.v5+json": {
       "$schema": "https://vega.github.io/schema/vega-lite/v5.20.1.json",
       "config": {
        "axis": {
         "labelFontSize": 14,
         "titleFontSize": 16
        },
        "axisX": {
         "labelAngle": -45
        },
        "legend": {
         "labelFontSize": 12,
         "titleFontSize": 14
        },
        "title": {
         "anchor": "middle",
         "fontSize": 18
        },
        "view": {
         "continuousHeight": 300,
         "continuousWidth": 300
        }
       },
       "data": {
        "name": "data-724325ba86f5f6d6083607d0c86331b6"
       },
       "datasets": {
        "data-724325ba86f5f6d6083607d0c86331b6": [
         {
          "X": "Arthritis",
          "Y": "Arthritis",
          "r": 1
         },
         {
          "X": "AgeGroup",
          "Y": "Arthritis",
          "r": 0.373893901876135
         },
         {
          "X": "Arthritis",
          "Y": "AvoidedCareCost",
          "r": -0.002301624281398122
         },
         {
          "X": "AvoidedCareCost",
          "Y": "AvoidedCareCost",
          "r": 1
         },
         {
          "X": "AgeGroup",
          "Y": "AvoidedCareCost",
          "r": -0.14124169729232613
         },
         {
          "X": "AsthmaStatus",
          "Y": "AvoidedCareCost",
          "r": 0.05895835922694192
         },
         {
          "X": "AvgDrinksPerDay",
          "Y": "AvoidedCareCost",
          "r": 0.025514216758593885
         },
         {
          "X": "Arthritis",
          "Y": "Depression",
          "r": 0.1252891510637713
         },
         {
          "X": "AvoidedCareCost",
          "Y": "Depression",
          "r": 0.1308092490085389
         },
         {
          "X": "Depression",
          "Y": "Depression",
          "r": 1
         },
         {
          "X": "AgeGroup",
          "Y": "Depression",
          "r": -0.09718842410371166
         },
         {
          "X": "BMI",
          "Y": "Depression",
          "r": 0.10717272856431717
         },
         {
          "X": "AsthmaStatus",
          "Y": "Depression",
          "r": 0.1527428560320729
         },
         {
          "X": "AvgDrinksPerDay",
          "Y": "Depression",
          "r": 0.005988423388248675
         },
         {
          "X": "CheckupRecency",
          "Y": "Depression",
          "r": -0.03284814655689991
         },
         {
          "X": "Arthritis",
          "Y": "Diabetes",
          "r": 0.1456257581350392
         },
         {
          "X": "AvoidedCareCost",
          "Y": "Diabetes",
          "r": 0.013466078761581195
         },
         {
          "X": "Depression",
          "Y": "Diabetes",
          "r": 0.060624687865989256
         },
         {
          "X": "Diabetes",
          "Y": "Diabetes",
          "r": 1
         },
         {
          "X": "AgeGroup",
          "Y": "Diabetes",
          "r": 0.20140376438250443
         },
         {
          "X": "BMI",
          "Y": "Diabetes",
          "r": 0.21387244850827453
         },
         {
          "X": "AsthmaStatus",
          "Y": "Diabetes",
          "r": 0.05475684406171517
         },
         {
          "X": "AvgDrinksPerDay",
          "Y": "Diabetes",
          "r": -0.08620942718521983
         },
         {
          "X": "CheckupRecency",
          "Y": "Diabetes",
          "r": -0.13247395923070665
         },
         {
          "X": "Arthritis",
          "Y": "DrankAlcohol",
          "r": -0.0856507247898342
         },
         {
          "X": "AvoidedCareCost",
          "Y": "DrankAlcohol",
          "r": -0.01746450046926594
         },
         {
          "X": "Depression",
          "Y": "DrankAlcohol",
          "r": -0.023082564619174566
         },
         {
          "X": "Diabetes",
          "Y": "DrankAlcohol",
          "r": -0.13835238602176214
         },
         {
          "X": "DrankAlcohol",
          "Y": "DrankAlcohol",
          "r": 1
         },
         {
          "X": "AgeGroup",
          "Y": "DrankAlcohol",
          "r": -0.12686022823377766
         },
         {
          "X": "BMI",
          "Y": "DrankAlcohol",
          "r": -0.06833170575019411
         },
         {
          "X": "AsthmaStatus",
          "Y": "DrankAlcohol",
          "r": -0.032356251764292895
         },
         {
          "X": "AvgDrinksPerDay",
          "Y": "DrankAlcohol",
          "r": 0.5424330850903635
         },
         {
          "X": "CheckupRecency",
          "Y": "DrankAlcohol",
          "r": 0.04808740508905402
         },
         {
          "X": "Arthritis",
          "Y": "EverSmoked100Cigs",
          "r": 0.12100705281097043
         },
         {
          "X": "AvoidedCareCost",
          "Y": "EverSmoked100Cigs",
          "r": 0.051001826244608216
         },
         {
          "X": "Depression",
          "Y": "EverSmoked100Cigs",
          "r": 0.10672506059382982
         },
         {
          "X": "Diabetes",
          "Y": "EverSmoked100Cigs",
          "r": 0.055621083492451484
         },
         {
          "X": "DrankAlcohol",
          "Y": "EverSmoked100Cigs",
          "r": 0.04137862203824484
         },
         {
          "X": "EverSmoked100Cigs",
          "Y": "EverSmoked100Cigs",
          "r": 1
         },
         {
          "X": "AgeGroup",
          "Y": "EverSmoked100Cigs",
          "r": 0.13462912773660543
         },
         {
          "X": "BMI",
          "Y": "EverSmoked100Cigs",
          "r": 0.022132970043411963
         },
         {
          "X": "AsthmaStatus",
          "Y": "EverSmoked100Cigs",
          "r": 0.027474624884114493
         },
         {
          "X": "AvgDrinksPerDay",
          "Y": "EverSmoked100Cigs",
          "r": 0.09555475269974538
         },
         {
          "X": "CheckupRecency",
          "Y": "EverSmoked100Cigs",
          "r": 0.015282734444042044
         },
         {
          "X": "DrinksPerWeek",
          "Y": "EverSmoked100Cigs",
          "r": 0.1046099484998568
         },
         {
          "X": "ECigUse",
          "Y": "EverSmoked100Cigs",
          "r": 0.14696779836984888
         },
         {
          "X": "Education",
          "Y": "EverSmoked100Cigs",
          "r": -0.15691118420615882
         },
         {
          "X": "Arthritis",
          "Y": "ExercisedPastMonth",
          "r": -0.12195205794868116
         },
         {
          "X": "AvoidedCareCost",
          "Y": "ExercisedPastMonth",
          "r": -0.04772766405234848
         },
         {
          "X": "Depression",
          "Y": "ExercisedPastMonth",
          "r": -0.07973332935853178
         },
         {
          "X": "Diabetes",
          "Y": "ExercisedPastMonth",
          "r": -0.13553128573034992
         },
         {
          "X": "DrankAlcohol",
          "Y": "ExercisedPastMonth",
          "r": 0.16005078725999786
         },
         {
          "X": "EverSmoked100Cigs",
          "Y": "ExercisedPastMonth",
          "r": -0.09363355744633131
         },
         {
          "X": "ExercisedPastMonth",
          "Y": "ExercisedPastMonth",
          "r": 1
         },
         {
          "X": "AgeGroup",
          "Y": "ExercisedPastMonth",
          "r": -0.12222559119283233
         },
         {
          "X": "BMI",
          "Y": "ExercisedPastMonth",
          "r": -0.145416122391925
         },
         {
          "X": "AsthmaStatus",
          "Y": "ExercisedPastMonth",
          "r": -0.048361563563212535
         },
         {
          "X": "AvgDrinksPerDay",
          "Y": "ExercisedPastMonth",
          "r": 0.06395296038818718
         },
         {
          "X": "CheckupRecency",
          "Y": "ExercisedPastMonth",
          "r": 0.028169666376635667
         },
         {
          "X": "DrinksPerWeek",
          "Y": "ExercisedPastMonth",
          "r": 0.029751783959824158
         },
         {
          "X": "ECigUse",
          "Y": "ExercisedPastMonth",
          "r": -0.003106639836520574
         },
         {
          "X": "Education",
          "Y": "ExercisedPastMonth",
          "r": 0.2164924330726279
         },
         {
          "X": "Arthritis",
          "Y": "HeartAttack",
          "r": 0.11090024176476138
         },
         {
          "X": "AvoidedCareCost",
          "Y": "HeartAttack",
          "r": 0.01344038967679484
         },
         {
          "X": "Depression",
          "Y": "HeartAttack",
          "r": 0.029035668839360353
         },
         {
          "X": "Diabetes",
          "Y": "HeartAttack",
          "r": 0.1362809156742469
         },
         {
          "X": "DrankAlcohol",
          "Y": "HeartAttack",
          "r": -0.06742709746799112
         },
         {
          "X": "EverSmoked100Cigs",
          "Y": "HeartAttack",
          "r": 0.09618165118897995
         },
         {
          "X": "ExercisedPastMonth",
          "Y": "HeartAttack",
          "r": -0.0795569038378906
         },
         {
          "X": "HeartAttack",
          "Y": "HeartAttack",
          "r": 1
         },
         {
          "X": "AgeGroup",
          "Y": "HeartAttack",
          "r": 0.1685174776298608
         },
         {
          "X": "BMI",
          "Y": "HeartAttack",
          "r": 0.028113097582039795
         },
         {
          "X": "AsthmaStatus",
          "Y": "HeartAttack",
          "r": 0.03011286229241885
         },
         {
          "X": "AvgDrinksPerDay",
          "Y": "HeartAttack",
          "r": -0.040850441776949756
         },
         {
          "X": "CheckupRecency",
          "Y": "HeartAttack",
          "r": -0.06045348828875592
         },
         {
          "X": "DrinksPerWeek",
          "Y": "HeartAttack",
          "r": -0.016128950210646302
         },
         {
          "X": "ECigUse",
          "Y": "HeartAttack",
          "r": -0.018525250904524684
         },
         {
          "X": "Education",
          "Y": "HeartAttack",
          "r": -0.06821573339556984
         },
         {
          "X": "GeneralHealth",
          "Y": "HeartAttack",
          "r": -0.18345645806106933
         },
         {
          "X": "Arthritis",
          "Y": "HighBloodPressure",
          "r": 0.24852656114646
         },
         {
          "X": "AvoidedCareCost",
          "Y": "HighBloodPressure",
          "r": -0.012786439097906114
         },
         {
          "X": "Depression",
          "Y": "HighBloodPressure",
          "r": 0.04022600293250943
         },
         {
          "X": "Diabetes",
          "Y": "HighBloodPressure",
          "r": 0.26167139592988925
         },
         {
          "X": "DrankAlcohol",
          "Y": "HighBloodPressure",
          "r": -0.08860455098178967
         },
         {
          "X": "EverSmoked100Cigs",
          "Y": "HighBloodPressure",
          "r": 0.10268742059367554
         },
         {
          "X": "ExercisedPastMonth",
          "Y": "HighBloodPressure",
          "r": -0.12595595185217315
         },
         {
          "X": "HeartAttack",
          "Y": "HighBloodPressure",
          "r": 0.15657294578117986
         },
         {
          "X": "HighBloodPressure",
          "Y": "HighBloodPressure",
          "r": 1
         },
         {
          "X": "AgeGroup",
          "Y": "HighBloodPressure",
          "r": 0.37125482379679153
         },
         {
          "X": "BMI",
          "Y": "HighBloodPressure",
          "r": 0.22039897225059527
         },
         {
          "X": "HeightCm",
          "Y": "HighBloodPressure",
          "r": -0.02295274854944331
         },
         {
          "X": "AsthmaStatus",
          "Y": "HighBloodPressure",
          "r": 0.04438024409077336
         },
         {
          "X": "AvgDrinksPerDay",
          "Y": "HighBloodPressure",
          "r": -0.054899824144639446
         },
         {
          "X": "CheckupRecency",
          "Y": "HighBloodPressure",
          "r": -0.19486490101691745
         },
         {
          "X": "DrinksPerWeek",
          "Y": "HighBloodPressure",
          "r": -0.008428860741413116
         },
         {
          "X": "ECigUse",
          "Y": "HighBloodPressure",
          "r": -0.057282663722369384
         },
         {
          "X": "Education",
          "Y": "HighBloodPressure",
          "r": -0.07146574775590452
         },
         {
          "X": "GeneralHealth",
          "Y": "HighBloodPressure",
          "r": -0.27572973958122937
         },
         {
          "X": "HeartDisease",
          "Y": "HighBloodPressure",
          "r": 0.1785492653661078
         },
         {
          "X": "Arthritis",
          "Y": "HighCholesterol",
          "r": 0.18408087149972244
         },
         {
          "X": "AvoidedCareCost",
          "Y": "HighCholesterol",
          "r": -0.007167676615067583
         },
         {
          "X": "Depression",
          "Y": "HighCholesterol",
          "r": 0.07183896787105308
         },
         {
          "X": "Diabetes",
          "Y": "HighCholesterol",
          "r": 0.19815060940904652
         },
         {
          "X": "DrankAlcohol",
          "Y": "HighCholesterol",
          "r": -0.04250937529839922
         },
         {
          "X": "EverSmoked100Cigs",
          "Y": "HighCholesterol",
          "r": 0.0846005903712032
         },
         {
          "X": "ExercisedPastMonth",
          "Y": "HighCholesterol",
          "r": -0.07693860613475896
         },
         {
          "X": "HeartAttack",
          "Y": "HighCholesterol",
          "r": 0.1293809592729856
         },
         {
          "X": "HighBloodPressure",
          "Y": "HighCholesterol",
          "r": 0.28219189839339454
         },
         {
          "X": "HighCholesterol",
          "Y": "HighCholesterol",
          "r": 1
         },
         {
          "X": "AgeGroup",
          "Y": "HighCholesterol",
          "r": 0.28069867858664554
         },
         {
          "X": "BMI",
          "Y": "HighCholesterol",
          "r": 0.08816226155956021
         },
         {
          "X": "HeightCm",
          "Y": "HighCholesterol",
          "r": -0.043281738698739275
         },
         {
          "X": "AsthmaStatus",
          "Y": "HighCholesterol",
          "r": 0.033428332517590365
         },
         {
          "X": "AvgDrinksPerDay",
          "Y": "HighCholesterol",
          "r": -0.0445177045670147
         },
         {
          "X": "CheckupRecency",
          "Y": "HighCholesterol",
          "r": -0.14643485738886902
         },
         {
          "X": "DrinksPerWeek",
          "Y": "HighCholesterol",
          "r": -0.011122601684638366
         },
         {
          "X": "ECigUse",
          "Y": "HighCholesterol",
          "r": -0.03458227347660934
         },
         {
          "X": "Education",
          "Y": "HighCholesterol",
          "r": -0.03026015280375012
         },
         {
          "X": "GeneralHealth",
          "Y": "HighCholesterol",
          "r": -0.18538099576542102
         },
         {
          "X": "HeartDisease",
          "Y": "HighCholesterol",
          "r": 0.1582276182701238
         },
         {
          "X": "Arthritis",
          "Y": "ObeseFlag",
          "r": 0.09539803054959257
         },
         {
          "X": "AvoidedCareCost",
          "Y": "ObeseFlag",
          "r": 0.004500027697512133
         },
         {
          "X": "Depression",
          "Y": "ObeseFlag",
          "r": 0.03772215799945273
         },
         {
          "X": "Diabetes",
          "Y": "ObeseFlag",
          "r": 0.1477447726982767
         },
         {
          "X": "DrankAlcohol",
          "Y": "ObeseFlag",
          "r": -0.026616046645334273
         },
         {
          "X": "EverSmoked100Cigs",
          "Y": "ObeseFlag",
          "r": 0.025258020814976082
         },
         {
          "X": "ExercisedPastMonth",
          "Y": "ObeseFlag",
          "r": -0.0785708765891318
         },
         {
          "X": "HeartAttack",
          "Y": "ObeseFlag",
          "r": 0.03159464930732966
         },
         {
          "X": "HighBloodPressure",
          "Y": "ObeseFlag",
          "r": 0.18795401639822248
         },
         {
          "X": "HighCholesterol",
          "Y": "ObeseFlag",
          "r": 0.10552274610034106
         },
         {
          "X": "ObeseFlag",
          "Y": "ObeseFlag",
          "r": 1
         },
         {
          "X": "AgeGroup",
          "Y": "ObeseFlag",
          "r": 0.04376891596466968
         },
         {
          "X": "BMI",
          "Y": "ObeseFlag",
          "r": 0.6466929794351126
         },
         {
          "X": "HeightCm",
          "Y": "ObeseFlag",
          "r": 0.05187486166924419
         },
         {
          "X": "AsthmaStatus",
          "Y": "ObeseFlag",
          "r": 0.047258866456191415
         },
         {
          "X": "AvgDrinksPerDay",
          "Y": "ObeseFlag",
          "r": 0.009249977973483633
         },
         {
          "X": "CheckupRecency",
          "Y": "ObeseFlag",
          "r": -0.051491919361463453
         },
         {
          "X": "DrinksPerWeek",
          "Y": "ObeseFlag",
          "r": -0.01060360521489018
         },
         {
          "X": "ECigUse",
          "Y": "ObeseFlag",
          "r": -0.03023601834916613
         },
         {
          "X": "Education",
          "Y": "ObeseFlag",
          "r": -0.0509448945348185
         },
         {
          "X": "GeneralHealth",
          "Y": "ObeseFlag",
          "r": -0.14221881089018615
         },
         {
          "X": "Income",
          "Y": "ObeseFlag",
          "r": -0.013347084477387772
         },
         {
          "X": "HeartDisease",
          "Y": "ObeseFlag",
          "r": 0.03968188299828252
         },
         {
          "X": "Arthritis",
          "Y": "OtherCancer",
          "r": 0.13235478906122866
         },
         {
          "X": "AvoidedCareCost",
          "Y": "OtherCancer",
          "r": -0.025284227634293815
         },
         {
          "X": "Depression",
          "Y": "OtherCancer",
          "r": 0.017731123222542486
         },
         {
          "X": "Diabetes",
          "Y": "OtherCancer",
          "r": 0.06878330210973335
         },
         {
          "X": "DrankAlcohol",
          "Y": "OtherCancer",
          "r": -0.04789801697434904
         },
         {
          "X": "EverSmoked100Cigs",
          "Y": "OtherCancer",
          "r": 0.05735949753208033
         },
         {
          "X": "ExercisedPastMonth",
          "Y": "OtherCancer",
          "r": -0.05164182861731713
         },
         {
          "X": "HeartAttack",
          "Y": "OtherCancer",
          "r": 0.06969482557800755
         },
         {
          "X": "HighBloodPressure",
          "Y": "OtherCancer",
          "r": 0.11512952994376269
         },
         {
          "X": "HighCholesterol",
          "Y": "OtherCancer",
          "r": 0.0819947110670888
         },
         {
          "X": "ObeseFlag",
          "Y": "OtherCancer",
          "r": 0.002816928341880583
         },
         {
          "X": "OtherCancer",
          "Y": "OtherCancer",
          "r": 1
         },
         {
          "X": "AgeGroup",
          "Y": "OtherCancer",
          "r": 0.23200732305754562
         },
         {
          "X": "BMI",
          "Y": "OtherCancer",
          "r": 0.0010252256100817187
         },
         {
          "X": "HeightCm",
          "Y": "OtherCancer",
          "r": -0.04390084403291021
         },
         {
          "X": "AsthmaStatus",
          "Y": "OtherCancer",
          "r": 0.023105825191285626
         },
         {
          "X": "AvgDrinksPerDay",
          "Y": "OtherCancer",
          "r": -0.05525316943803668
         },
         {
          "X": "CheckupRecency",
          "Y": "OtherCancer",
          "r": -0.08872713227929158
         },
         {
          "X": "DrinksPerWeek",
          "Y": "OtherCancer",
          "r": -0.022606948317092236
         },
         {
          "X": "ECigUse",
          "Y": "OtherCancer",
          "r": -0.033020158524749675
         },
         {
          "X": "Education",
          "Y": "OtherCancer",
          "r": 0.0037821956128984316
         },
         {
          "X": "GeneralHealth",
          "Y": "OtherCancer",
          "r": -0.14383278191402807
         },
         {
          "X": "Income",
          "Y": "OtherCancer",
          "r": -0.050257303766570685
         },
         {
          "X": "HeartDisease",
          "Y": "OtherCancer",
          "r": 0.08273325339449294
         },
         {
          "X": "Arthritis",
          "Y": "Sex",
          "r": -0.10400318015525939
         },
         {
          "X": "AvoidedCareCost",
          "Y": "Sex",
          "r": -0.02221871300852968
         },
         {
          "X": "Depression",
          "Y": "Sex",
          "r": -0.12927828895895424
         },
         {
          "X": "Diabetes",
          "Y": "Sex",
          "r": -0.008906264413849363
         },
         {
          "X": "DrankAlcohol",
          "Y": "Sex",
          "r": 0.1078075856923549
         },
         {
          "X": "EverSmoked100Cigs",
          "Y": "Sex",
          "r": 0.08091098488468414
         },
         {
          "X": "ExercisedPastMonth",
          "Y": "Sex",
          "r": 0.056850802268855354
         },
         {
          "X": "HeartAttack",
          "Y": "Sex",
          "r": 0.07008783453961275
         },
         {
          "X": "HighBloodPressure",
          "Y": "Sex",
          "r": 0.028065051287433727
         },
         {
          "X": "HighCholesterol",
          "Y": "Sex",
          "r": 0.019249234955824382
         },
         {
          "X": "ObeseFlag",
          "Y": "Sex",
          "r": 0.1039487056361906
         },
         {
          "X": "OtherCancer",
          "Y": "Sex",
          "r": -0.044592700403058745
         },
         {
          "X": "Sex",
          "Y": "Sex",
          "r": 1
         },
         {
          "X": "AgeGroup",
          "Y": "Sex",
          "r": -0.06916487252711981
         },
         {
          "X": "BMI",
          "Y": "Sex",
          "r": 0.013215096311514116
         },
         {
          "X": "HeightCm",
          "Y": "Sex",
          "r": 0.6916716486532992
         },
         {
          "X": "AsthmaStatus",
          "Y": "Sex",
          "r": -0.08365906458135987
         },
         {
          "X": "AvgDrinksPerDay",
          "Y": "Sex",
          "r": 0.15206437599249378
         },
         {
          "X": "CheckupRecency",
          "Y": "Sex",
          "r": 0.11593949640935593
         },
         {
          "X": "DrinksPerWeek",
          "Y": "Sex",
          "r": 0.12910090443665695
         },
         {
          "X": "ECigUse",
          "Y": "Sex",
          "r": 0.035156577057921586
         },
         {
          "X": "Education",
          "Y": "Sex",
          "r": -0.022448611838795388
         },
         {
          "X": "GeneralHealth",
          "Y": "Sex",
          "r": 0.02131033879387886
         },
         {
          "X": "Income",
          "Y": "Sex",
          "r": 0.10635419344745654
         },
         {
          "X": "HeartDisease",
          "Y": "Sex",
          "r": 0.05472766455677857
         },
         {
          "X": "Arthritis",
          "Y": "SkinCancer",
          "r": 0.13636668985624353
         },
         {
          "X": "AvoidedCareCost",
          "Y": "SkinCancer",
          "r": -0.046139695391751515
         },
         {
          "X": "Depression",
          "Y": "SkinCancer",
          "r": -0.009379409140928123
         },
         {
          "X": "Diabetes",
          "Y": "SkinCancer",
          "r": 0.034868784289394696
         },
         {
          "X": "DrankAlcohol",
          "Y": "SkinCancer",
          "r": -0.0038839238085346902
         },
         {
          "X": "EverSmoked100Cigs",
          "Y": "SkinCancer",
          "r": 0.038101445423419034
         },
         {
          "X": "ExercisedPastMonth",
          "Y": "SkinCancer",
          "r": -0.005664842725708457
         },
         {
          "X": "HeartAttack",
          "Y": "SkinCancer",
          "r": 0.06373930373192291
         },
         {
          "X": "HighBloodPressure",
          "Y": "SkinCancer",
          "r": 0.10812632129145419
         },
         {
          "X": "HighCholesterol",
          "Y": "SkinCancer",
          "r": 0.09411000064756907
         },
         {
          "X": "ObeseFlag",
          "Y": "SkinCancer",
          "r": -0.016220367165880958
         },
         {
          "X": "OtherCancer",
          "Y": "SkinCancer",
          "r": 0.15201573139067212
         },
         {
          "X": "Sex",
          "Y": "SkinCancer",
          "r": 0.008059667616572976
         },
         {
          "X": "SkinCancer",
          "Y": "SkinCancer",
          "r": 1
         },
         {
          "X": "AgeGroup",
          "Y": "SkinCancer",
          "r": 0.26200568388680073
         },
         {
          "X": "BMI",
          "Y": "SkinCancer",
          "r": -0.03832756373695369
         },
         {
          "X": "HeightCm",
          "Y": "SkinCancer",
          "r": 0.00646547865256105
         },
         {
          "X": "AsthmaStatus",
          "Y": "SkinCancer",
          "r": 0.0032445365530397413
         },
         {
          "X": "AvgDrinksPerDay",
          "Y": "SkinCancer",
          "r": -0.038907010811982896
         },
         {
          "X": "CheckupRecency",
          "Y": "SkinCancer",
          "r": -0.08054365004478556
         },
         {
          "X": "DrinksPerWeek",
          "Y": "SkinCancer",
          "r": -0.004784790531076054
         },
         {
          "X": "ECigUse",
          "Y": "SkinCancer",
          "r": -0.041060789293931504
         },
         {
          "X": "Education",
          "Y": "SkinCancer",
          "r": 0.05219027792915637
         },
         {
          "X": "GeneralHealth",
          "Y": "SkinCancer",
          "r": -0.049361367865081295
         },
         {
          "X": "Income",
          "Y": "SkinCancer",
          "r": 0.021760132473378557
         },
         {
          "X": "HeartDisease",
          "Y": "SkinCancer",
          "r": 0.08622497336688044
         },
         {
          "X": "Arthritis",
          "Y": "Stroke",
          "r": 0.0996969924146999
         },
         {
          "X": "AvoidedCareCost",
          "Y": "Stroke",
          "r": 0.020905171124678504
         },
         {
          "X": "Depression",
          "Y": "Stroke",
          "r": 0.048398484678180954
         },
         {
          "X": "Diabetes",
          "Y": "Stroke",
          "r": 0.09613189593674547
         },
         {
          "X": "DrankAlcohol",
          "Y": "Stroke",
          "r": -0.06924117534563261
         },
         {
          "X": "EverSmoked100Cigs",
          "Y": "Stroke",
          "r": 0.061784423040399
         },
         {
          "X": "ExercisedPastMonth",
          "Y": "Stroke",
          "r": -0.08134746716736578
         },
         {
          "X": "HeartAttack",
          "Y": "Stroke",
          "r": 0.1795071597164334
         },
         {
          "X": "HighBloodPressure",
          "Y": "Stroke",
          "r": 0.13187183706234945
         },
         {
          "X": "HighCholesterol",
          "Y": "Stroke",
          "r": 0.08624507195818738
         },
         {
          "X": "ObeseFlag",
          "Y": "Stroke",
          "r": 0.008863077748344756
         },
         {
          "X": "OtherCancer",
          "Y": "Stroke",
          "r": 0.06138106737652322
         },
         {
          "X": "Sex",
          "Y": "Stroke",
          "r": -0.003738652982738661
         },
         {
          "X": "SkinCancer",
          "Y": "Stroke",
          "r": 0.045631731407242415
         },
         {
          "X": "Stroke",
          "Y": "Stroke",
          "r": 1
         },
         {
          "X": "AgeGroup",
          "Y": "Stroke",
          "r": 0.1331539700063963
         },
         {
          "X": "BMI",
          "Y": "Stroke",
          "r": 0.013286942204582012
         },
         {
          "X": "HeightCm",
          "Y": "Stroke",
          "r": -0.027650901384375093
         },
         {
          "X": "AsthmaStatus",
          "Y": "Stroke",
          "r": 0.042165123382001575
         },
         {
          "X": "AvgDrinksPerDay",
          "Y": "Stroke",
          "r": -0.041967818571657475
         },
         {
          "X": "CheckupRecency",
          "Y": "Stroke",
          "r": -0.05376655696160198
         },
         {
          "X": "DrinksPerWeek",
          "Y": "Stroke",
          "r": -0.018918081846658958
         },
         {
          "X": "ECigUse",
          "Y": "Stroke",
          "r": -0.013569506050600501
         },
         {
          "X": "Education",
          "Y": "Stroke",
          "r": -0.05557923381459376
         },
         {
          "X": "GeneralHealth",
          "Y": "Stroke",
          "r": -0.15713324292331216
         },
         {
          "X": "Income",
          "Y": "Stroke",
          "r": -0.10587677668231746
         },
         {
          "X": "SmokelessTobacco",
          "Y": "Stroke",
          "r": 0.000785227757896803
         },
         {
          "X": "SmokingFrequency",
          "Y": "Stroke",
          "r": 0.040678567306365994
         },
         {
          "X": "SmokingQuantity",
          "Y": "Stroke",
          "r": 0.036748969684684746
         },
         {
          "X": "HeartDisease",
          "Y": "Stroke",
          "r": 0.14650904689180227
         },
         {
          "X": "AgeGroup",
          "Y": "AgeGroup",
          "r": 1
         },
         {
          "X": "Arthritis",
          "Y": "BMI",
          "r": 0.13461775716990998
         },
         {
          "X": "AvoidedCareCost",
          "Y": "BMI",
          "r": 0.03754981514944478
         },
         {
          "X": "AgeGroup",
          "Y": "BMI",
          "r": -0.011197025489575524
         },
         {
          "X": "BMI",
          "Y": "BMI",
          "r": 1
         },
         {
          "X": "AsthmaStatus",
          "Y": "BMI",
          "r": 0.108490364849967
         },
         {
          "X": "AvgDrinksPerDay",
          "Y": "BMI",
          "r": -0.009971736814234468
         },
         {
          "X": "Arthritis",
          "Y": "HeightCm",
          "r": -0.09749540831967059
         },
         {
          "X": "AvoidedCareCost",
          "Y": "HeightCm",
          "r": -0.025941813747950033
         },
         {
          "X": "Depression",
          "Y": "HeightCm",
          "r": -0.08639880682226009
         },
         {
          "X": "Diabetes",
          "Y": "HeightCm",
          "r": -0.03907959478981419
         },
         {
          "X": "DrankAlcohol",
          "Y": "HeightCm",
          "r": 0.1282666639721088
         },
         {
          "X": "EverSmoked100Cigs",
          "Y": "HeightCm",
          "r": 0.056249793512782656
         },
         {
          "X": "ExercisedPastMonth",
          "Y": "HeightCm",
          "r": 0.09052614812800083
         },
         {
          "X": "HeartAttack",
          "Y": "HeightCm",
          "r": 0.019264078267277333
         },
         {
          "X": "AgeGroup",
          "Y": "HeightCm",
          "r": -0.12220281924455076
         },
         {
          "X": "BMI",
          "Y": "HeightCm",
          "r": -0.030098179660863967
         },
         {
          "X": "HeightCm",
          "Y": "HeightCm",
          "r": 1
         },
         {
          "X": "AsthmaStatus",
          "Y": "HeightCm",
          "r": -0.06242178719884959
         },
         {
          "X": "AvgDrinksPerDay",
          "Y": "HeightCm",
          "r": 0.14271149737389874
         },
         {
          "X": "CheckupRecency",
          "Y": "HeightCm",
          "r": 0.09741101059130108
         },
         {
          "X": "DrinksPerWeek",
          "Y": "HeightCm",
          "r": 0.11442076034722488
         },
         {
          "X": "ECigUse",
          "Y": "HeightCm",
          "r": 0.03787868755883928
         },
         {
          "X": "Education",
          "Y": "HeightCm",
          "r": 0.08542122494840597
         },
         {
          "X": "GeneralHealth",
          "Y": "HeightCm",
          "r": 0.06839494908326568
         },
         {
          "X": "HeartDisease",
          "Y": "HeightCm",
          "r": 0.011773123712602338
         },
         {
          "X": "Arthritis",
          "Y": "WeightKg",
          "r": 0.07210056170120331
         },
         {
          "X": "AvoidedCareCost",
          "Y": "WeightKg",
          "r": 0.016278839953738935
         },
         {
          "X": "Depression",
          "Y": "WeightKg",
          "r": 0.04734095091710028
         },
         {
          "X": "Diabetes",
          "Y": "WeightKg",
          "r": 0.16649638274440912
         },
         {
          "X": "DrankAlcohol",
          "Y": "WeightKg",
          "r": 0.005386437284623812
         },
         {
          "X": "EverSmoked100Cigs",
          "Y": "WeightKg",
          "r": 0.047954579798468226
         },
         {
          "X": "ExercisedPastMonth",
          "Y": "WeightKg",
          "r": -0.07900472553675024
         },
         {
          "X": "HeartAttack",
          "Y": "WeightKg",
          "r": 0.034054823760484035
         },
         {
          "X": "HighBloodPressure",
          "Y": "WeightKg",
          "r": 0.1868258930173923
         },
         {
          "X": "HighCholesterol",
          "Y": "WeightKg",
          "r": 0.057048372482455346
         },
         {
          "X": "ObeseFlag",
          "Y": "WeightKg",
          "r": 0.5958918042004573
         },
         {
          "X": "OtherCancer",
          "Y": "WeightKg",
          "r": -0.02091618002937718
         },
         {
          "X": "Sex",
          "Y": "WeightKg",
          "r": 0.3512271419489842
         },
         {
          "X": "SkinCancer",
          "Y": "WeightKg",
          "r": -0.028083786109768118
         },
         {
          "X": "Stroke",
          "Y": "WeightKg",
          "r": -0.00260735365831681
         },
         {
          "X": "AgeGroup",
          "Y": "WeightKg",
          "r": -0.06421277534144113
         },
         {
          "X": "BMI",
          "Y": "WeightKg",
          "r": 0.8583304970059626
         },
         {
          "X": "HeightCm",
          "Y": "WeightKg",
          "r": 0.4685307178109592
         },
         {
          "X": "WeightKg",
          "Y": "WeightKg",
          "r": 1
         },
         {
          "X": "AsthmaStatus",
          "Y": "WeightKg",
          "r": 0.06334371194357533
         },
         {
          "X": "AvgDrinksPerDay",
          "Y": "WeightKg",
          "r": 0.06115164754135175
         },
         {
          "X": "CheckupRecency",
          "Y": "WeightKg",
          "r": -0.00973689569491481
         },
         {
          "X": "DrinksPerWeek",
          "Y": "WeightKg",
          "r": 0.03029479336905053
         },
         {
          "X": "ECigUse",
          "Y": "WeightKg",
          "r": 0.0007019393272666165
         },
         {
          "X": "Education",
          "Y": "WeightKg",
          "r": -0.02041379751992382
         },
         {
          "X": "GeneralHealth",
          "Y": "WeightKg",
          "r": -0.16793444073466782
         },
         {
          "X": "Income",
          "Y": "WeightKg",
          "r": 0.0234421463612485
         },
         {
          "X": "SmokelessTobacco",
          "Y": "WeightKg",
          "r": 0.08459807739960094
         },
         {
          "X": "SmokingFrequency",
          "Y": "WeightKg",
          "r": -0.01395285301718334
         },
         {
          "X": "SmokingQuantity",
          "Y": "WeightKg",
          "r": 0.025356062173033714
         },
         {
          "X": "Unnamed: 0",
          "Y": "WeightKg",
          "r": 0.015413719604060263
         },
         {
          "X": "HeartDisease",
          "Y": "WeightKg",
          "r": 0.04033172153921617
         },
         {
          "X": "Arthritis",
          "Y": "AsthmaStatus",
          "r": 0.10859015593870897
         },
         {
          "X": "AgeGroup",
          "Y": "AsthmaStatus",
          "r": -0.04433315557344216
         },
         {
          "X": "AsthmaStatus",
          "Y": "AsthmaStatus",
          "r": 1
         },
         {
          "X": "Arthritis",
          "Y": "AvgDrinksPerDay",
          "r": -0.0819226021137327
         },
         {
          "X": "AgeGroup",
          "Y": "AvgDrinksPerDay",
          "r": -0.17292835293821046
         },
         {
          "X": "AsthmaStatus",
          "Y": "AvgDrinksPerDay",
          "r": -0.019903193123820242
         },
         {
          "X": "AvgDrinksPerDay",
          "Y": "AvgDrinksPerDay",
          "r": 1
         },
         {
          "X": "Arthritis",
          "Y": "CheckupRecency",
          "r": -0.15806323243525575
         },
         {
          "X": "AvoidedCareCost",
          "Y": "CheckupRecency",
          "r": 0.14070385626175852
         },
         {
          "X": "AgeGroup",
          "Y": "CheckupRecency",
          "r": -0.2329510303441031
         },
         {
          "X": "BMI",
          "Y": "CheckupRecency",
          "r": -0.06208255170265764
         },
         {
          "X": "AsthmaStatus",
          "Y": "CheckupRecency",
          "r": -0.03563480711916721
         },
         {
          "X": "AvgDrinksPerDay",
          "Y": "CheckupRecency",
          "r": 0.09342797478309654
         },
         {
          "X": "CheckupRecency",
          "Y": "CheckupRecency",
          "r": 1
         },
         {
          "X": "Arthritis",
          "Y": "DrinksPerWeek",
          "r": -0.03176941477512386
         },
         {
          "X": "AvoidedCareCost",
          "Y": "DrinksPerWeek",
          "r": 0.01156309850519421
         },
         {
          "X": "Depression",
          "Y": "DrinksPerWeek",
          "r": 0.006600118415469661
         },
         {
          "X": "Diabetes",
          "Y": "DrinksPerWeek",
          "r": -0.06154017440326741
         },
         {
          "X": "DrankAlcohol",
          "Y": "DrinksPerWeek",
          "r": 0.31575305624567
         },
         {
          "X": "AgeGroup",
          "Y": "DrinksPerWeek",
          "r": -0.055501272244943216
         },
         {
          "X": "BMI",
          "Y": "DrinksPerWeek",
          "r": -0.02775153487383127
         },
         {
          "X": "AsthmaStatus",
          "Y": "DrinksPerWeek",
          "r": -0.017543367830517055
         },
         {
          "X": "AvgDrinksPerDay",
          "Y": "DrinksPerWeek",
          "r": 0.7543790428360239
         },
         {
          "X": "CheckupRecency",
          "Y": "DrinksPerWeek",
          "r": 0.0753602812304238
         },
         {
          "X": "DrinksPerWeek",
          "Y": "DrinksPerWeek",
          "r": 1
         },
         {
          "X": "Arthritis",
          "Y": "ECigUse",
          "r": -0.045901092375066066
         },
         {
          "X": "AvoidedCareCost",
          "Y": "ECigUse",
          "r": 0.07956364026515819
         },
         {
          "X": "Depression",
          "Y": "ECigUse",
          "r": 0.10003076114436125
         },
         {
          "X": "Diabetes",
          "Y": "ECigUse",
          "r": -0.03502552492791441
         },
         {
          "X": "DrankAlcohol",
          "Y": "ECigUse",
          "r": 0.05152175295421423
         },
         {
          "X": "AgeGroup",
          "Y": "ECigUse",
          "r": -0.1943101105393277
         },
         {
          "X": "BMI",
          "Y": "ECigUse",
          "r": -0.018602440745391576
         },
         {
          "X": "AsthmaStatus",
          "Y": "ECigUse",
          "r": 0.025096022717374808
         },
         {
          "X": "AvgDrinksPerDay",
          "Y": "ECigUse",
          "r": 0.09750115381286882
         },
         {
          "X": "CheckupRecency",
          "Y": "ECigUse",
          "r": 0.07423643923522007
         },
         {
          "X": "DrinksPerWeek",
          "Y": "ECigUse",
          "r": 0.06073448135009142
         },
         {
          "X": "ECigUse",
          "Y": "ECigUse",
          "r": 1
         },
         {
          "X": "Arthritis",
          "Y": "Education",
          "r": -0.052271901351840885
         },
         {
          "X": "AvoidedCareCost",
          "Y": "Education",
          "r": -0.10542210163252748
         },
         {
          "X": "Depression",
          "Y": "Education",
          "r": -0.030607077584007002
         },
         {
          "X": "Diabetes",
          "Y": "Education",
          "r": -0.08947917608273773
         },
         {
          "X": "DrankAlcohol",
          "Y": "Education",
          "r": 0.19262058661756554
         },
         {
          "X": "AgeGroup",
          "Y": "Education",
          "r": 0.002515227718041347
         },
         {
          "X": "BMI",
          "Y": "Education",
          "r": -0.07931448460690312
         },
         {
          "X": "AsthmaStatus",
          "Y": "Education",
          "r": -0.016539361222745148
         },
         {
          "X": "AvgDrinksPerDay",
          "Y": "Education",
          "r": 0.027137961028578853
         },
         {
          "X": "CheckupRecency",
          "Y": "Education",
          "r": -0.04977471613627331
         },
         {
          "X": "DrinksPerWeek",
          "Y": "Education",
          "r": 0.014572778678478596
         },
         {
          "X": "ECigUse",
          "Y": "Education",
          "r": -0.06125965814477444
         },
         {
          "X": "Education",
          "Y": "Education",
          "r": 1
         },
         {
          "X": "Arthritis",
          "Y": "GeneralHealth",
          "r": -0.26670777279900193
         },
         {
          "X": "AvoidedCareCost",
          "Y": "GeneralHealth",
          "r": -0.13795215718239154
         },
         {
          "X": "Depression",
          "Y": "GeneralHealth",
          "r": -0.20679196732662963
         },
         {
          "X": "Diabetes",
          "Y": "GeneralHealth",
          "r": -0.26563037148038987
         },
         {
          "X": "DrankAlcohol",
          "Y": "GeneralHealth",
          "r": 0.17424458774184856
         },
         {
          "X": "EverSmoked100Cigs",
          "Y": "GeneralHealth",
          "r": -0.16340412447198124
         },
         {
          "X": "ExercisedPastMonth",
          "Y": "GeneralHealth",
          "r": 0.27752387202684753
         },
         {
          "X": "AgeGroup",
          "Y": "GeneralHealth",
          "r": -0.17019451111865536
         },
         {
          "X": "BMI",
          "Y": "GeneralHealth",
          "r": -0.23101606549188067
         },
         {
          "X": "AsthmaStatus",
          "Y": "GeneralHealth",
          "r": -0.1479078675447152
         },
         {
          "X": "AvgDrinksPerDay",
          "Y": "GeneralHealth",
          "r": 0.07184099765451553
         },
         {
          "X": "CheckupRecency",
          "Y": "GeneralHealth",
          "r": 0.08327641173802912
         },
         {
          "X": "DrinksPerWeek",
          "Y": "GeneralHealth",
          "r": 0.035414836947373934
         },
         {
          "X": "ECigUse",
          "Y": "GeneralHealth",
          "r": -0.019656993766361697
         },
         {
          "X": "Education",
          "Y": "GeneralHealth",
          "r": 0.2276100247191438
         },
         {
          "X": "GeneralHealth",
          "Y": "GeneralHealth",
          "r": 1
         },
         {
          "X": "Arthritis",
          "Y": "Income",
          "r": -0.1374553535489237
         },
         {
          "X": "AvoidedCareCost",
          "Y": "Income",
          "r": -0.18313566827937514
         },
         {
          "X": "Depression",
          "Y": "Income",
          "r": -0.14278334950976287
         },
         {
          "X": "Diabetes",
          "Y": "Income",
          "r": -0.13965474564859617
         },
         {
          "X": "DrankAlcohol",
          "Y": "Income",
          "r": 0.25387965789124656
         },
         {
          "X": "EverSmoked100Cigs",
          "Y": "Income",
          "r": -0.14071081378755432
         },
         {
          "X": "ExercisedPastMonth",
          "Y": "Income",
          "r": 0.23920088650663815
         },
         {
          "X": "HeartAttack",
          "Y": "Income",
          "r": -0.09884387058987615
         },
         {
          "X": "HighBloodPressure",
          "Y": "Income",
          "r": -0.12497328927271151
         },
         {
          "X": "HighCholesterol",
          "Y": "Income",
          "r": -0.06722808730585496
         },
         {
          "X": "AgeGroup",
          "Y": "Income",
          "r": -0.08788096381548949
         },
         {
          "X": "BMI",
          "Y": "Income",
          "r": -0.08099975833577916
         },
         {
          "X": "HeightCm",
          "Y": "Income",
          "r": 0.17854819196543742
         },
         {
          "X": "AsthmaStatus",
          "Y": "Income",
          "r": -0.07548290366452111
         },
         {
          "X": "AvgDrinksPerDay",
          "Y": "Income",
          "r": 0.09926158052258764
         },
         {
          "X": "CheckupRecency",
          "Y": "Income",
          "r": -0.014409441262644637
         },
         {
          "X": "DrinksPerWeek",
          "Y": "Income",
          "r": 0.06926332708429193
         },
         {
          "X": "ECigUse",
          "Y": "Income",
          "r": -0.03766887813669577
         },
         {
          "X": "Education",
          "Y": "Income",
          "r": 0.4272820281071941
         },
         {
          "X": "GeneralHealth",
          "Y": "Income",
          "r": 0.3246207634938827
         },
         {
          "X": "Income",
          "Y": "Income",
          "r": 1
         },
         {
          "X": "HeartDisease",
          "Y": "Income",
          "r": -0.0814768342339317
         },
         {
          "X": "Arthritis",
          "Y": "SmokelessTobacco",
          "r": -0.012111484764938328
         },
         {
          "X": "AvoidedCareCost",
          "Y": "SmokelessTobacco",
          "r": 0.012803422924589693
         },
         {
          "X": "Depression",
          "Y": "SmokelessTobacco",
          "r": -0.012295085306901652
         },
         {
          "X": "Diabetes",
          "Y": "SmokelessTobacco",
          "r": -0.005549994950399545
         },
         {
          "X": "DrankAlcohol",
          "Y": "SmokelessTobacco",
          "r": 0.04216971316790413
         },
         {
          "X": "EverSmoked100Cigs",
          "Y": "SmokelessTobacco",
          "r": 0.06074970528338267
         },
         {
          "X": "ExercisedPastMonth",
          "Y": "SmokelessTobacco",
          "r": -0.008847864676967654
         },
         {
          "X": "HeartAttack",
          "Y": "SmokelessTobacco",
          "r": 0.007873196778464623
         },
         {
          "X": "HighBloodPressure",
          "Y": "SmokelessTobacco",
          "r": 0.004765764880553571
         },
         {
          "X": "HighCholesterol",
          "Y": "SmokelessTobacco",
          "r": -0.012325036173256691
         },
         {
          "X": "ObeseFlag",
          "Y": "SmokelessTobacco",
          "r": 0.03714797053589702
         },
         {
          "X": "OtherCancer",
          "Y": "SmokelessTobacco",
          "r": -0.02255052384266218
         },
         {
          "X": "Sex",
          "Y": "SmokelessTobacco",
          "r": 0.14453294728518634
         },
         {
          "X": "SkinCancer",
          "Y": "SmokelessTobacco",
          "r": -0.018044048930634663
         },
         {
          "X": "AgeGroup",
          "Y": "SmokelessTobacco",
          "r": -0.05207278135626823
         },
         {
          "X": "BMI",
          "Y": "SmokelessTobacco",
          "r": 0.028126281471523833
         },
         {
          "X": "HeightCm",
          "Y": "SmokelessTobacco",
          "r": 0.11621122401456158
         },
         {
          "X": "AsthmaStatus",
          "Y": "SmokelessTobacco",
          "r": -0.004939236262292399
         },
         {
          "X": "AvgDrinksPerDay",
          "Y": "SmokelessTobacco",
          "r": 0.09661547122093717
         },
         {
          "X": "CheckupRecency",
          "Y": "SmokelessTobacco",
          "r": 0.05084816760997294
         },
         {
          "X": "DrinksPerWeek",
          "Y": "SmokelessTobacco",
          "r": 0.09399404533907067
         },
         {
          "X": "ECigUse",
          "Y": "SmokelessTobacco",
          "r": 0.03655429034653838
         },
         {
          "X": "Education",
          "Y": "SmokelessTobacco",
          "r": -0.06489224921143746
         },
         {
          "X": "GeneralHealth",
          "Y": "SmokelessTobacco",
          "r": -0.013404115362781212
         },
         {
          "X": "Income",
          "Y": "SmokelessTobacco",
          "r": 0.0001322309185911512
         },
         {
          "X": "SmokelessTobacco",
          "Y": "SmokelessTobacco",
          "r": 1
         },
         {
          "X": "HeartDisease",
          "Y": "SmokelessTobacco",
          "r": -0.002113550495292838
         },
         {
          "X": "Arthritis",
          "Y": "SmokingFrequency",
          "r": 0.028332891067605226
         },
         {
          "X": "AvoidedCareCost",
          "Y": "SmokingFrequency",
          "r": 0.10382387503613698
         },
         {
          "X": "Depression",
          "Y": "SmokingFrequency",
          "r": 0.12165092926023788
         },
         {
          "X": "Diabetes",
          "Y": "SmokingFrequency",
          "r": 0.002523110434952457
         },
         {
          "X": "DrankAlcohol",
          "Y": "SmokingFrequency",
          "r": 0.00027987133618427617
         },
         {
          "X": "EverSmoked100Cigs",
          "Y": "SmokingFrequency",
          "r": 0.45459209051367344
         },
         {
          "X": "ExercisedPastMonth",
          "Y": "SmokingFrequency",
          "r": -0.11102546205596268
         },
         {
          "X": "HeartAttack",
          "Y": "SmokingFrequency",
          "r": 0.041544848360617274
         },
         {
          "X": "HighBloodPressure",
          "Y": "SmokingFrequency",
          "r": 0.006490791882543393
         },
         {
          "X": "HighCholesterol",
          "Y": "SmokingFrequency",
          "r": 0.007889209505740942
         },
         {
          "X": "ObeseFlag",
          "Y": "SmokingFrequency",
          "r": -0.031376141003847245
         },
         {
          "X": "OtherCancer",
          "Y": "SmokingFrequency",
          "r": -0.009947055122946906
         },
         {
          "X": "Sex",
          "Y": "SmokingFrequency",
          "r": 0.02001763617016923
         },
         {
          "X": "SkinCancer",
          "Y": "SmokingFrequency",
          "r": -0.03795933726019139
         },
         {
          "X": "AgeGroup",
          "Y": "SmokingFrequency",
          "r": -0.05589497102669198
         },
         {
          "X": "BMI",
          "Y": "SmokingFrequency",
          "r": -0.019279507949692205
         },
         {
          "X": "HeightCm",
          "Y": "SmokingFrequency",
          "r": 0.009876396300685942
         },
         {
          "X": "AsthmaStatus",
          "Y": "SmokingFrequency",
          "r": 0.03261635308468717
         },
         {
          "X": "AvgDrinksPerDay",
          "Y": "SmokingFrequency",
          "r": 0.09614258420498606
         },
         {
          "X": "CheckupRecency",
          "Y": "SmokingFrequency",
          "r": 0.09671413518361503
         },
         {
          "X": "DrinksPerWeek",
          "Y": "SmokingFrequency",
          "r": 0.09750827977909866
         },
         {
          "X": "ECigUse",
          "Y": "SmokingFrequency",
          "r": 0.09681968047645667
         },
         {
          "X": "Education",
          "Y": "SmokingFrequency",
          "r": -0.1845991479207627
         },
         {
          "X": "GeneralHealth",
          "Y": "SmokingFrequency",
          "r": -0.13877069683288576
         },
         {
          "X": "Income",
          "Y": "SmokingFrequency",
          "r": -0.1868532816590419
         },
         {
          "X": "SmokelessTobacco",
          "Y": "SmokingFrequency",
          "r": 0.05175527127597766
         },
         {
          "X": "SmokingFrequency",
          "Y": "SmokingFrequency",
          "r": 1
         },
         {
          "X": "HeartDisease",
          "Y": "SmokingFrequency",
          "r": 0.010553566177855007
         },
         {
          "X": "Arthritis",
          "Y": "SmokingQuantity",
          "r": 0.06529381498718438
         },
         {
          "X": "AvoidedCareCost",
          "Y": "SmokingQuantity",
          "r": 0.002827329575065577
         },
         {
          "X": "Depression",
          "Y": "SmokingQuantity",
          "r": 0.04650648755036939
         },
         {
          "X": "Diabetes",
          "Y": "SmokingQuantity",
          "r": 0.033760096683639704
         },
         {
          "X": "DrankAlcohol",
          "Y": "SmokingQuantity",
          "r": 0.01048328274722663
         },
         {
          "X": "EverSmoked100Cigs",
          "Y": "SmokingQuantity",
          "r": 0.7734436268026432
         },
         {
          "X": "ExercisedPastMonth",
          "Y": "SmokingQuantity",
          "r": -0.04429355027746343
         },
         {
          "X": "HeartAttack",
          "Y": "SmokingQuantity",
          "r": 0.0642453676168454
         },
         {
          "X": "HighBloodPressure",
          "Y": "SmokingQuantity",
          "r": 0.0559193432695864
         },
         {
          "X": "HighCholesterol",
          "Y": "SmokingQuantity",
          "r": 0.04541411079200513
         },
         {
          "X": "ObeseFlag",
          "Y": "SmokingQuantity",
          "r": 0.018242003969219812
         },
         {
          "X": "OtherCancer",
          "Y": "SmokingQuantity",
          "r": 0.03500210711583051
         },
         {
          "X": "Sex",
          "Y": "SmokingQuantity",
          "r": 0.03594212654689481
         },
         {
          "X": "SkinCancer",
          "Y": "SmokingQuantity",
          "r": 0.024393726274501704
         },
         {
          "X": "AgeGroup",
          "Y": "SmokingQuantity",
          "r": 0.07401407940715284
         },
         {
          "X": "BMI",
          "Y": "SmokingQuantity",
          "r": 0.017562925252304105
         },
         {
          "X": "HeightCm",
          "Y": "SmokingQuantity",
          "r": 0.016061757891918153
         },
         {
          "X": "AsthmaStatus",
          "Y": "SmokingQuantity",
          "r": 0.017061530604785942
         },
         {
          "X": "AvgDrinksPerDay",
          "Y": "SmokingQuantity",
          "r": 0.03124654022797403
         },
         {
          "X": "CheckupRecency",
          "Y": "SmokingQuantity",
          "r": -0.011549421882539337
         },
         {
          "X": "DrinksPerWeek",
          "Y": "SmokingQuantity",
          "r": 0.048118754385058256
         },
         {
          "X": "ECigUse",
          "Y": "SmokingQuantity",
          "r": 0.04865468907661607
         },
         {
          "X": "Education",
          "Y": "SmokingQuantity",
          "r": -0.04859526775772407
         },
         {
          "X": "GeneralHealth",
          "Y": "SmokingQuantity",
          "r": -0.06221138998111446
         },
         {
          "X": "Income",
          "Y": "SmokingQuantity",
          "r": -0.04474959047918484
         },
         {
          "X": "SmokelessTobacco",
          "Y": "SmokingQuantity",
          "r": -0.0014661785776109955
         },
         {
          "X": "SmokingFrequency",
          "Y": "SmokingQuantity",
          "r": 0.360825579628298
         },
         {
          "X": "SmokingQuantity",
          "Y": "SmokingQuantity",
          "r": 1
         },
         {
          "X": "HeartDisease",
          "Y": "SmokingQuantity",
          "r": 0.06344101267182371
         },
         {
          "X": "Arthritis",
          "Y": "Unnamed: 0",
          "r": 0.010259764926297602
         },
         {
          "X": "AvoidedCareCost",
          "Y": "Unnamed: 0",
          "r": 0.0010657517428682012
         },
         {
          "X": "Depression",
          "Y": "Unnamed: 0",
          "r": 0.01685256771246109
         },
         {
          "X": "Diabetes",
          "Y": "Unnamed: 0",
          "r": 0.005567174974389266
         },
         {
          "X": "DrankAlcohol",
          "Y": "Unnamed: 0",
          "r": -0.01727267325505561
         },
         {
          "X": "EverSmoked100Cigs",
          "Y": "Unnamed: 0",
          "r": -0.01162140211154657
         },
         {
          "X": "ExercisedPastMonth",
          "Y": "Unnamed: 0",
          "r": -0.004468361060595515
         },
         {
          "X": "HeartAttack",
          "Y": "Unnamed: 0",
          "r": 0.0017501472392116816
         },
         {
          "X": "HighBloodPressure",
          "Y": "Unnamed: 0",
          "r": 0.003724545572182273
         },
         {
          "X": "HighCholesterol",
          "Y": "Unnamed: 0",
          "r": 0.003395150971169934
         },
         {
          "X": "ObeseFlag",
          "Y": "Unnamed: 0",
          "r": 0.017261523648303495
         },
         {
          "X": "OtherCancer",
          "Y": "Unnamed: 0",
          "r": -0.0022373945894201782
         },
         {
          "X": "Sex",
          "Y": "Unnamed: 0",
          "r": -0.0009077910330599633
         },
         {
          "X": "SkinCancer",
          "Y": "Unnamed: 0",
          "r": -0.00543490749985128
         },
         {
          "X": "Stroke",
          "Y": "Unnamed: 0",
          "r": -0.003939390441728361
         },
         {
          "X": "AgeGroup",
          "Y": "Unnamed: 0",
          "r": 0.004264109691325764
         },
         {
          "X": "BMI",
          "Y": "Unnamed: 0",
          "r": 0.018475618853518574
         },
         {
          "X": "HeightCm",
          "Y": "Unnamed: 0",
          "r": -0.0025374483386549312
         },
         {
          "X": "AsthmaStatus",
          "Y": "Unnamed: 0",
          "r": 0.003428843056934545
         },
         {
          "X": "AvgDrinksPerDay",
          "Y": "Unnamed: 0",
          "r": -0.0048556028585072615
         },
         {
          "X": "CheckupRecency",
          "Y": "Unnamed: 0",
          "r": -0.008986451586029742
         },
         {
          "X": "DrinksPerWeek",
          "Y": "Unnamed: 0",
          "r": -0.006844018561893859
         },
         {
          "X": "ECigUse",
          "Y": "Unnamed: 0",
          "r": -0.006037019727627266
         },
         {
          "X": "Education",
          "Y": "Unnamed: 0",
          "r": -0.006852361791926501
         },
         {
          "X": "GeneralHealth",
          "Y": "Unnamed: 0",
          "r": -0.0019364843752762493
         },
         {
          "X": "Income",
          "Y": "Unnamed: 0",
          "r": -0.02035562373535406
         },
         {
          "X": "SmokelessTobacco",
          "Y": "Unnamed: 0",
          "r": 0.009387446486902559
         },
         {
          "X": "SmokingFrequency",
          "Y": "Unnamed: 0",
          "r": -0.000662794975841141
         },
         {
          "X": "SmokingQuantity",
          "Y": "Unnamed: 0",
          "r": -0.03290045128102588
         },
         {
          "X": "Unnamed: 0",
          "Y": "Unnamed: 0",
          "r": 1
         },
         {
          "X": "HeartDisease",
          "Y": "Unnamed: 0",
          "r": 0.0013819460874649862
         },
         {
          "X": "Arthritis",
          "Y": "HeartDisease",
          "r": 0.13972718730209055
         },
         {
          "X": "AvoidedCareCost",
          "Y": "HeartDisease",
          "r": -0.0018444818685764738
         },
         {
          "X": "Depression",
          "Y": "HeartDisease",
          "r": 0.037739410663735706
         },
         {
          "X": "Diabetes",
          "Y": "HeartDisease",
          "r": 0.14179623591757642
         },
         {
          "X": "DrankAlcohol",
          "Y": "HeartDisease",
          "r": -0.0627084926865317
         },
         {
          "X": "EverSmoked100Cigs",
          "Y": "HeartDisease",
          "r": 0.08622337337106759
         },
         {
          "X": "ExercisedPastMonth",
          "Y": "HeartDisease",
          "r": -0.0751257199338894
         },
         {
          "X": "HeartAttack",
          "Y": "HeartDisease",
          "r": 0.44642312819867874
         },
         {
          "X": "AgeGroup",
          "Y": "HeartDisease",
          "r": 0.18854823231620302
         },
         {
          "X": "BMI",
          "Y": "HeartDisease",
          "r": 0.03903806755252703
         },
         {
          "X": "AsthmaStatus",
          "Y": "HeartDisease",
          "r": 0.04352905858125387
         },
         {
          "X": "AvgDrinksPerDay",
          "Y": "HeartDisease",
          "r": -0.04814763158127557
         },
         {
          "X": "CheckupRecency",
          "Y": "HeartDisease",
          "r": -0.07442604125230297
         },
         {
          "X": "DrinksPerWeek",
          "Y": "HeartDisease",
          "r": -0.02190796766330406
         },
         {
          "X": "ECigUse",
          "Y": "HeartDisease",
          "r": -0.023388171606225586
         },
         {
          "X": "Education",
          "Y": "HeartDisease",
          "r": -0.0368270866526092
         },
         {
          "X": "GeneralHealth",
          "Y": "HeartDisease",
          "r": -0.19905586224128258
         },
         {
          "X": "HeartDisease",
          "Y": "HeartDisease",
          "r": 1
         }
        ]
       },
       "encoding": {
        "color": {
         "field": "r",
         "scale": {
          "domain": [
           -1,
           1
          ],
          "scheme": "redblue"
         },
         "type": "quantitative"
        },
        "tooltip": [
         {
          "field": "X",
          "type": "nominal"
         },
         {
          "field": "Y",
          "type": "nominal"
         },
         {
          "field": "r",
          "type": "quantitative"
         }
        ],
        "x": {
         "field": "X",
         "title": "X",
         "type": "ordinal"
        },
        "y": {
         "field": "Y",
         "title": "Y",
         "type": "ordinal"
        }
       },
       "height": 500,
       "mark": {
        "type": "rect"
       },
       "title": "Correlation Heatmap",
       "width": 500
      },
      "text/plain": [
       "<VegaLite 5 object>\n",
       "\n",
       "If you see this message, it means the renderer has not been properly enabled\n",
       "for the frontend that you are using. For more information, see\n",
       "https://altair-viz.github.io/user_guide/display_frontends.html#troubleshooting\n"
      ]
     },
     "execution_count": 76,
     "metadata": {},
     "output_type": "execute_result"
    }
   ],
   "source": [
    "\n",
    "#Create (pearson) correlation matrics for numeric columns including binary and ordinal\n",
    "corr_df = train_df[bin_col + quant_col + ord_col + [TARGET_COL]].corr(numeric_only=True).reset_index(names=['X']).melt(id_vars=['X'],var_name='Y',value_name='r')\n",
    "\n",
    "corr_df = corr_df[corr_df['X'] <= corr_df['Y']]\n",
    "heatmap = alt.Chart(corr_df).mark_rect().encode(\n",
    "    x=alt.X('X:O', title='X'),\n",
    "    y=alt.Y('Y:O', title='Y'),\n",
    "    color=alt.Color('r:Q', scale=alt.Scale(scheme='redblue', domain=(-1, 1))),\n",
    "    tooltip=['X', 'Y', 'r']\n",
    ").properties(\n",
    "    title='Correlation Heatmap',\n",
    "    width=500,\n",
    "    height=500\n",
    ")\n",
    "heatmap = apply_alt_config(heatmap)\n",
    "heatmap\n"
   ]
  },
  {
   "cell_type": "markdown",
   "id": "ec5b4c51",
   "metadata": {},
   "source": [
    "__Insights:__\n",
    "* No variable has  high correlation with heart disease, except for heart attack. \n",
    "* There were few other variables that has mid/high correlation but nothing surprising (e.g. BMI and Obese, Sex and Height, etc)"
   ]
  },
  {
   "cell_type": "markdown",
   "id": "f6da6410",
   "metadata": {},
   "source": [
    "### Heart disease VS ordinal & quantitative variables (area charts)"
   ]
  },
  {
   "cell_type": "code",
   "execution_count": 77,
   "id": "cdbe36b1",
   "metadata": {},
   "outputs": [
    {
     "data": {
      "application/vnd.jupyter.widget-view+json": {
       "model_id": "701fabf977534b11a8de99312b959d31",
       "version_major": 2,
       "version_minor": 0
      },
      "text/plain": [
       "interactive(children=(Dropdown(description='X-axis:', options=('AgeGroup', 'BMI', 'HeightCm', 'WeightKg', 'Ast…"
      ]
     },
     "metadata": {},
     "output_type": "display_data"
    },
    {
     "data": {
      "text/plain": [
       "<function __main__.update_chart(x_col)>"
      ]
     },
     "execution_count": 77,
     "metadata": {},
     "output_type": "execute_result"
    }
   ],
   "source": [
    "# Create dropdown widget\n",
    "x_axis_widget = widgets.Dropdown(\n",
    "    options=quant_col + ord_col,\n",
    "    value=quant_col[0],\n",
    "    description='X-axis:'\n",
    ")\n",
    "alt.renderers.enable('default')\n",
    "def update_chart(x_col):\n",
    "    # Aggregate data by selected x column\n",
    "    round_df = train_df[[TARGET_COL,x_col]].round(0)\n",
    "    agg_df = round_df.groupby([TARGET_COL,x_col]).size().reset_index(name='count')\n",
    " \n",
    "\n",
    "    # Build chart\n",
    "    chart1 = alt.Chart(agg_df).mark_bar().encode(\n",
    "        x=alt.X(f'{x_col}:O', title=x_col),\n",
    "        y=alt.Y('count:Q', title='Count'),\n",
    "        color=alt.Color('HeartDisease:N'),\n",
    "        tooltip=[x_col, alt.Tooltip('count', title='Count')]\n",
    "    ).properties(\n",
    "        width=500,\n",
    "        height=300,\n",
    "        title=f\"Hearts disease vs {x_col}\"\n",
    "    )\n",
    "\n",
    "    chart2 = chart1.encode(y=alt.Y('SOURCE:Q', title=\"Percentage\", stack='normalize')).properties(title=f\"Hearts disease vs {x_col} (100% chart)\",)\n",
    "\n",
    "    return apply_alt_config(chart1 | chart2)\n",
    "\n",
    "# Tie widget to chart update\n",
    "widgets.interact(update_chart, x_col=x_axis_widget)\n"
   ]
  },
  {
   "cell_type": "markdown",
   "id": "27e253d3",
   "metadata": {},
   "source": [
    "__Insights:__\n",
    "* vs Age group reveals there are a lot of patients that's 80, as there is a cap of age 80. Not sure if this may cause unnecessary bias when using Age group\n",
    "* There are a few ordinal features that seems counterintuitive to chances of having heart disease. Features AvgDrinksPerDay, CheckupRecency, and ECigUse have higher ratio of ppl with heart disease when the value is zero (which is better). This may be due to older people living more healthier, but due to age they had more chances of heart disease. "
   ]
  },
  {
   "cell_type": "markdown",
   "id": "ece1a579",
   "metadata": {},
   "source": [
    "### Heart disease VS categorical variables (bar charts)"
   ]
  },
  {
   "cell_type": "code",
   "execution_count": 78,
   "id": "f0d92a21",
   "metadata": {},
   "outputs": [
    {
     "data": {
      "text/html": [
       "\n",
       "<style>\n",
       "  #altair-viz-c2a321aaeb1144cb8f89077feb462d8b.vega-embed {\n",
       "    width: 100%;\n",
       "    display: flex;\n",
       "  }\n",
       "\n",
       "  #altair-viz-c2a321aaeb1144cb8f89077feb462d8b.vega-embed details,\n",
       "  #altair-viz-c2a321aaeb1144cb8f89077feb462d8b.vega-embed details summary {\n",
       "    position: relative;\n",
       "  }\n",
       "</style>\n",
       "<div id=\"altair-viz-c2a321aaeb1144cb8f89077feb462d8b\"></div>\n",
       "<script type=\"text/javascript\">\n",
       "  var VEGA_DEBUG = (typeof VEGA_DEBUG == \"undefined\") ? {} : VEGA_DEBUG;\n",
       "  (function(spec, embedOpt){\n",
       "    let outputDiv = document.currentScript.previousElementSibling;\n",
       "    if (outputDiv.id !== \"altair-viz-c2a321aaeb1144cb8f89077feb462d8b\") {\n",
       "      outputDiv = document.getElementById(\"altair-viz-c2a321aaeb1144cb8f89077feb462d8b\");\n",
       "    }\n",
       "\n",
       "    const paths = {\n",
       "      \"vega\": \"https://cdn.jsdelivr.net/npm/vega@5?noext\",\n",
       "      \"vega-lib\": \"https://cdn.jsdelivr.net/npm/vega-lib?noext\",\n",
       "      \"vega-lite\": \"https://cdn.jsdelivr.net/npm/vega-lite@5.20.1?noext\",\n",
       "      \"vega-embed\": \"https://cdn.jsdelivr.net/npm/vega-embed@6?noext\",\n",
       "    };\n",
       "\n",
       "    function maybeLoadScript(lib, version) {\n",
       "      var key = `${lib.replace(\"-\", \"\")}_version`;\n",
       "      return (VEGA_DEBUG[key] == version) ?\n",
       "        Promise.resolve(paths[lib]) :\n",
       "        new Promise(function(resolve, reject) {\n",
       "          var s = document.createElement('script');\n",
       "          document.getElementsByTagName(\"head\")[0].appendChild(s);\n",
       "          s.async = true;\n",
       "          s.onload = () => {\n",
       "            VEGA_DEBUG[key] = version;\n",
       "            return resolve(paths[lib]);\n",
       "          };\n",
       "          s.onerror = () => reject(`Error loading script: ${paths[lib]}`);\n",
       "          s.src = paths[lib];\n",
       "        });\n",
       "    }\n",
       "\n",
       "    function showError(err) {\n",
       "      outputDiv.innerHTML = `<div class=\"error\" style=\"color:red;\">${err}</div>`;\n",
       "      throw err;\n",
       "    }\n",
       "\n",
       "    function displayChart(vegaEmbed) {\n",
       "      vegaEmbed(outputDiv, spec, embedOpt)\n",
       "        .catch(err => showError(`Javascript Error: ${err.message}<br>This usually means there's a typo in your chart specification. See the javascript console for the full traceback.`));\n",
       "    }\n",
       "\n",
       "    if(typeof define === \"function\" && define.amd) {\n",
       "      requirejs.config({paths});\n",
       "      let deps = [\"vega-embed\"];\n",
       "      require(deps, displayChart, err => showError(`Error loading script: ${err.message}`));\n",
       "    } else {\n",
       "      maybeLoadScript(\"vega\", \"5\")\n",
       "        .then(() => maybeLoadScript(\"vega-lite\", \"5.20.1\"))\n",
       "        .then(() => maybeLoadScript(\"vega-embed\", \"6\"))\n",
       "        .catch(showError)\n",
       "        .then(() => displayChart(vegaEmbed));\n",
       "    }\n",
       "  })({\"config\": {\"view\": {\"continuousWidth\": 300, \"continuousHeight\": 300}}, \"hconcat\": [{\"vconcat\": [{\"data\": {\"name\": \"data-9a1965b7620edbf2c262b1a9fbdac0d1\"}, \"mark\": {\"type\": \"bar\"}, \"encoding\": {\"color\": {\"field\": \"HeartDisease\", \"type\": \"nominal\"}, \"tooltip\": [{\"field\": \"MaritalStatus\", \"title\": \"MaritalStatus\", \"type\": \"nominal\"}, {\"field\": \"count\", \"title\": \"Count\", \"type\": \"quantitative\"}, {\"field\": \"HeartDisease\", \"title\": \"Heart Disease\", \"type\": \"nominal\"}], \"x\": {\"field\": \"MaritalStatus\", \"title\": \"MaritalStatus\", \"type\": \"nominal\"}, \"y\": {\"field\": \"count\", \"title\": \"Count\", \"type\": \"quantitative\"}}, \"height\": 300, \"title\": \"Hearts disease vs MaritalStatus\", \"width\": 300}, {\"data\": {\"name\": \"data-2032be31adb0a2678d6c1b121948ada4\"}, \"mark\": {\"type\": \"bar\"}, \"encoding\": {\"color\": {\"field\": \"HeartDisease\", \"type\": \"nominal\"}, \"tooltip\": [{\"field\": \"Race\", \"title\": \"Race\", \"type\": \"nominal\"}, {\"field\": \"count\", \"title\": \"Count\", \"type\": \"quantitative\"}, {\"field\": \"HeartDisease\", \"title\": \"Heart Disease\", \"type\": \"nominal\"}], \"x\": {\"field\": \"Race\", \"title\": \"Race\", \"type\": \"nominal\"}, \"y\": {\"field\": \"count\", \"title\": \"Count\", \"type\": \"quantitative\"}}, \"height\": 300, \"title\": \"Hearts disease vs Race\", \"width\": 300}]}, {\"vconcat\": [{\"data\": {\"name\": \"data-9a1965b7620edbf2c262b1a9fbdac0d1\"}, \"mark\": {\"type\": \"bar\"}, \"encoding\": {\"color\": {\"field\": \"HeartDisease\", \"type\": \"nominal\"}, \"tooltip\": [{\"field\": \"MaritalStatus\", \"title\": \"MaritalStatus\", \"type\": \"nominal\"}, {\"field\": \"count\", \"title\": \"Count\", \"type\": \"quantitative\"}, {\"field\": \"HeartDisease\", \"title\": \"Heart Disease\", \"type\": \"nominal\"}], \"x\": {\"field\": \"MaritalStatus\", \"title\": \"MaritalStatus\", \"type\": \"nominal\"}, \"y\": {\"field\": \"count\", \"stack\": \"normalize\", \"title\": \"Percentage\", \"type\": \"quantitative\"}}, \"height\": 300, \"title\": \"Hearts disease vs MaritalStatus (100% chart)\", \"width\": 300}, {\"data\": {\"name\": \"data-2032be31adb0a2678d6c1b121948ada4\"}, \"mark\": {\"type\": \"bar\"}, \"encoding\": {\"color\": {\"field\": \"HeartDisease\", \"type\": \"nominal\"}, \"tooltip\": [{\"field\": \"Race\", \"title\": \"Race\", \"type\": \"nominal\"}, {\"field\": \"count\", \"title\": \"Count\", \"type\": \"quantitative\"}, {\"field\": \"HeartDisease\", \"title\": \"Heart Disease\", \"type\": \"nominal\"}], \"x\": {\"field\": \"Race\", \"title\": \"Race\", \"type\": \"nominal\"}, \"y\": {\"field\": \"count\", \"stack\": \"normalize\", \"title\": \"Percentage\", \"type\": \"quantitative\"}}, \"height\": 300, \"title\": \"Hearts disease vs Race (100% chart)\", \"width\": 300}]}], \"$schema\": \"https://vega.github.io/schema/vega-lite/v5.20.1.json\", \"datasets\": {\"data-9a1965b7620edbf2c262b1a9fbdac0d1\": [{\"HeartDisease\": 0.0, \"MaritalStatus\": \"Divorced\", \"count\": 24502}, {\"HeartDisease\": 0.0, \"MaritalStatus\": \"Married\", \"count\": 102636}, {\"HeartDisease\": 0.0, \"MaritalStatus\": \"NeverMarried\", \"count\": 36315}, {\"HeartDisease\": 0.0, \"MaritalStatus\": \"Separated\", \"count\": 3808}, {\"HeartDisease\": 0.0, \"MaritalStatus\": \"UnmarriedCouple\", \"count\": 8168}, {\"HeartDisease\": 0.0, \"MaritalStatus\": \"Widowed\", \"count\": 19863}, {\"HeartDisease\": 1.0, \"MaritalStatus\": \"Divorced\", \"count\": 1742}, {\"HeartDisease\": 1.0, \"MaritalStatus\": \"Married\", \"count\": 5539}, {\"HeartDisease\": 1.0, \"MaritalStatus\": \"NeverMarried\", \"count\": 832}, {\"HeartDisease\": 1.0, \"MaritalStatus\": \"Separated\", \"count\": 228}, {\"HeartDisease\": 1.0, \"MaritalStatus\": \"UnmarriedCouple\", \"count\": 193}, {\"HeartDisease\": 1.0, \"MaritalStatus\": \"Widowed\", \"count\": 2369}], \"data-2032be31adb0a2678d6c1b121948ada4\": [{\"HeartDisease\": 0.0, \"Race\": \"Black\", \"count\": 14917}, {\"HeartDisease\": 0.0, \"Race\": \"Hispanic\", \"count\": 17770}, {\"HeartDisease\": 0.0, \"Race\": \"Multiracial\", \"count\": 4163}, {\"HeartDisease\": 0.0, \"Race\": \"Other\", \"count\": 11223}, {\"HeartDisease\": 0.0, \"Race\": \"White\", \"count\": 144582}, {\"HeartDisease\": 1.0, \"Race\": \"Black\", \"count\": 664}, {\"HeartDisease\": 1.0, \"Race\": \"Hispanic\", \"count\": 485}, {\"HeartDisease\": 1.0, \"Race\": \"Multiracial\", \"count\": 221}, {\"HeartDisease\": 1.0, \"Race\": \"Other\", \"count\": 433}, {\"HeartDisease\": 1.0, \"Race\": \"White\", \"count\": 8896}]}}, {\"mode\": \"vega-lite\"});\n",
       "</script>"
      ],
      "text/plain": [
       "alt.HConcatChart(...)"
      ]
     },
     "execution_count": 78,
     "metadata": {},
     "output_type": "execute_result"
    }
   ],
   "source": [
    "# Create 2d list to store the charts\n",
    "charts = []\n",
    "\n",
    "# Convert to a regular Python list of lists\n",
    "for i, col in enumerate(cat_col): \n",
    "    agg_df = train_df.groupby([TARGET_COL,col]).size().reset_index(name='count')\n",
    "    x = (f'{col}:N',col)\n",
    "    y = (f'count:Q','Count')\n",
    "    color = (f'{TARGET_COL}:N','Heart Disease')\n",
    "\n",
    "    chart1 = alt.Chart(agg_df).mark_bar().encode(\n",
    "        x=alt.X(x[0], title=x[1]),\n",
    "        y=alt.Y(y[0], title=y[1]),\n",
    "        color=alt.Color(color[0]),\n",
    "        tooltip=[\n",
    "            alt.Tooltip(x[0], title=x[1]),\n",
    "            alt.Tooltip(y[0], title=y[1]),\n",
    "            alt.Tooltip(color[0], title = color[1]),\n",
    "        ]\n",
    "    ).properties(\n",
    "        title=f\"Hearts disease vs {col}\",\n",
    "        width=300,\n",
    "        height=300\n",
    "    )\n",
    "\n",
    "    chart2 = chart1.encode(y=alt.Y(y[0], title=\"Percentage\", stack='normalize')).properties(title=f\"Hearts disease vs {col} (100% chart)\",)\n",
    "    charts.append([chart1,chart2])\n",
    "\n",
    "\n",
    "for col in range(0, len(charts[0])):\n",
    "    for row in range(0, len(charts)):\n",
    "        if row == 0:\n",
    "            combined_col = charts[row][col]\n",
    "        else:\n",
    "            combined_col = combined_col & charts[row][col] \n",
    "    if col == 0: \n",
    "        combined_all = combined_col\n",
    "    else:\n",
    "        combined_all = combined_all | combined_col\n",
    "\n",
    "combined_all\n",
    "#apply_alt_config(combined_all).properties(title = 'Heart disease VS Race (Count and 100% stack)')\n"
   ]
  },
  {
   "cell_type": "markdown",
   "id": "6d970ce2",
   "metadata": {},
   "source": [
    "__Insights:__\n",
    "* Nothing striking here"
   ]
  },
  {
   "cell_type": "markdown",
   "id": "3e79e588",
   "metadata": {},
   "source": [
    "## Logistic regression analysis"
   ]
  },
  {
   "cell_type": "markdown",
   "id": "44e9dba8",
   "metadata": {},
   "source": [
    "### One feature"
   ]
  },
  {
   "cell_type": "code",
   "execution_count": 79,
   "id": "bd5afd14",
   "metadata": {},
   "outputs": [
    {
     "name": "stdout",
     "output_type": "stream",
     "text": [
      "Unnamed: 0 done\n",
      "HeartAttack done\n",
      "Stroke done\n",
      "OtherCancer done\n",
      "SkinCancer done\n",
      "Arthritis done\n",
      "Depression done\n",
      "Diabetes done\n",
      "HighBloodPressure done\n",
      "HighCholesterol done\n",
      "EverSmoked100Cigs done\n",
      "SmokingFrequency done\n",
      "ECigUse done\n",
      "SmokelessTobacco done\n",
      "SmokingQuantity done\n",
      "DrankAlcohol done\n",
      "AvgDrinksPerDay done\n",
      "DrinksPerWeek done\n",
      "ExercisedPastMonth done\n",
      "GeneralHealth done\n",
      "CheckupRecency done\n",
      "AvoidedCareCost done\n",
      "BMI done\n",
      "ObeseFlag done\n",
      "Sex done\n",
      "AgeGroup done\n",
      "Education done\n",
      "Income done\n",
      "Race done\n",
      "MaritalStatus done\n",
      "AsthmaStatus done\n",
      "HeightCm done\n",
      "WeightKg done\n"
     ]
    }
   ],
   "source": [
    "results = []\n",
    "from sklearn.metrics import precision_recall_curve\n",
    "X = None\n",
    "y = None\n",
    "\n",
    "#Go through each column/feature to create a univariate logistic regression model and evaluate\n",
    "#Note that the script doesn't do any imputation of the features in both training and test set. We simply remove them. \n",
    "\n",
    "for col in train_df.drop(TARGET_COL,axis=1).columns.to_list():\n",
    "    try:\n",
    "        feature = col if col not in cat_col else 'C('+col+')'\n",
    "        model = smf.logit(f\"{TARGET_COL} ~ {feature}\", missing='drop', data=train_df).fit(disp=0)\n",
    "\n",
    "        X_val = val_df.loc[~val_df[col].isna(), [col]].copy()\n",
    "        y_val = val_df.loc[X_val.index,TARGET_COL].astype(bool)\n",
    "        y_pred = model.predict(X_val)\n",
    "\n",
    "        \n",
    "        #calcualte metrics and choose best threshold based on f1 score. \n",
    "        precisions, recalls, thresholds = precision_recall_curve(y_val, y_pred)\n",
    "        f1_scores = 2 * (precisions * recalls) / (precisions + recalls + 1e-10)\n",
    "        best_idx = np.argmax(f1_scores)\n",
    "        best_thresh = thresholds[best_idx]\n",
    "\n",
    "        #Make prediction based on best threshold, and store results into an array\n",
    "        y_pred = (y_pred > best_thresh).astype(bool)\n",
    "        results.append({\n",
    "            'feature': col,\n",
    "            'precision': precisions[best_idx],\n",
    "            'recall': recalls[best_idx],\n",
    "            'f1': f1_scores[best_idx],\n",
    "            'threshold': best_thresh,\n",
    "            'Predict_T': (y_pred==True).sum(),\n",
    "            'Predict_F': (y_pred==False).sum(),\n",
    "        })\n",
    "        print(f\"{col} done\")\n",
    "    except Exception as e:\n",
    "        results.append({'feature': col, 'error': str(e)})\n",
    "\n",
    "uni_results_df = pd.DataFrame(results)\n",
    "\n"
   ]
  },
  {
   "cell_type": "code",
   "execution_count": 80,
   "id": "d77fdf9d",
   "metadata": {},
   "outputs": [
    {
     "data": {
      "text/html": [
       "<div>\n",
       "<style scoped>\n",
       "    .dataframe tbody tr th:only-of-type {\n",
       "        vertical-align: middle;\n",
       "    }\n",
       "\n",
       "    .dataframe tbody tr th {\n",
       "        vertical-align: top;\n",
       "    }\n",
       "\n",
       "    .dataframe thead th {\n",
       "        text-align: right;\n",
       "    }\n",
       "</style>\n",
       "<table border=\"1\" class=\"dataframe\">\n",
       "  <thead>\n",
       "    <tr style=\"text-align: right;\">\n",
       "      <th></th>\n",
       "      <th>feature</th>\n",
       "      <th>precision</th>\n",
       "      <th>recall</th>\n",
       "      <th>f1</th>\n",
       "      <th>threshold</th>\n",
       "      <th>Predict_T</th>\n",
       "      <th>Predict_F</th>\n",
       "    </tr>\n",
       "  </thead>\n",
       "  <tbody>\n",
       "    <tr>\n",
       "      <th>1</th>\n",
       "      <td>HeartAttack</td>\n",
       "      <td>0.472222</td>\n",
       "      <td>0.447700</td>\n",
       "      <td>0.459634</td>\n",
       "      <td>0.483551</td>\n",
       "      <td>0</td>\n",
       "      <td>51881</td>\n",
       "    </tr>\n",
       "    <tr>\n",
       "      <th>19</th>\n",
       "      <td>GeneralHealth</td>\n",
       "      <td>0.150000</td>\n",
       "      <td>0.464573</td>\n",
       "      <td>0.226778</td>\n",
       "      <td>0.118841</td>\n",
       "      <td>2120</td>\n",
       "      <td>49886</td>\n",
       "    </tr>\n",
       "    <tr>\n",
       "      <th>25</th>\n",
       "      <td>AgeGroup</td>\n",
       "      <td>0.126913</td>\n",
       "      <td>0.440845</td>\n",
       "      <td>0.197087</td>\n",
       "      <td>0.101928</td>\n",
       "      <td>8527</td>\n",
       "      <td>43603</td>\n",
       "    </tr>\n",
       "    <tr>\n",
       "      <th>7</th>\n",
       "      <td>Diabetes</td>\n",
       "      <td>0.125588</td>\n",
       "      <td>0.379650</td>\n",
       "      <td>0.188741</td>\n",
       "      <td>0.124814</td>\n",
       "      <td>0</td>\n",
       "      <td>52026</td>\n",
       "    </tr>\n",
       "    <tr>\n",
       "      <th>9</th>\n",
       "      <td>HighCholesterol</td>\n",
       "      <td>0.101504</td>\n",
       "      <td>0.702260</td>\n",
       "      <td>0.177371</td>\n",
       "      <td>0.103472</td>\n",
       "      <td>0</td>\n",
       "      <td>44467</td>\n",
       "    </tr>\n",
       "    <tr>\n",
       "      <th>8</th>\n",
       "      <td>HighBloodPressure</td>\n",
       "      <td>0.098589</td>\n",
       "      <td>0.764082</td>\n",
       "      <td>0.174644</td>\n",
       "      <td>0.100748</td>\n",
       "      <td>0</td>\n",
       "      <td>51917</td>\n",
       "    </tr>\n",
       "    <tr>\n",
       "      <th>2</th>\n",
       "      <td>Stroke</td>\n",
       "      <td>0.202779</td>\n",
       "      <td>0.144164</td>\n",
       "      <td>0.168520</td>\n",
       "      <td>0.215878</td>\n",
       "      <td>0</td>\n",
       "      <td>52022</td>\n",
       "    </tr>\n",
       "    <tr>\n",
       "      <th>5</th>\n",
       "      <td>Arthritis</td>\n",
       "      <td>0.097532</td>\n",
       "      <td>0.591941</td>\n",
       "      <td>0.167470</td>\n",
       "      <td>0.097582</td>\n",
       "      <td>0</td>\n",
       "      <td>51833</td>\n",
       "    </tr>\n",
       "    <tr>\n",
       "      <th>29</th>\n",
       "      <td>MaritalStatus</td>\n",
       "      <td>0.108794</td>\n",
       "      <td>0.219861</td>\n",
       "      <td>0.145560</td>\n",
       "      <td>0.106558</td>\n",
       "      <td>0</td>\n",
       "      <td>51560</td>\n",
       "    </tr>\n",
       "    <tr>\n",
       "      <th>4</th>\n",
       "      <td>SkinCancer</td>\n",
       "      <td>0.110599</td>\n",
       "      <td>0.193407</td>\n",
       "      <td>0.140725</td>\n",
       "      <td>0.112546</td>\n",
       "      <td>0</td>\n",
       "      <td>51994</td>\n",
       "    </tr>\n",
       "    <tr>\n",
       "      <th>3</th>\n",
       "      <td>OtherCancer</td>\n",
       "      <td>0.107655</td>\n",
       "      <td>0.195167</td>\n",
       "      <td>0.138766</td>\n",
       "      <td>0.109163</td>\n",
       "      <td>0</td>\n",
       "      <td>51984</td>\n",
       "    </tr>\n",
       "    <tr>\n",
       "      <th>10</th>\n",
       "      <td>EverSmoked100Cigs</td>\n",
       "      <td>0.076973</td>\n",
       "      <td>0.582384</td>\n",
       "      <td>0.135975</td>\n",
       "      <td>0.076899</td>\n",
       "      <td>0</td>\n",
       "      <td>49210</td>\n",
       "    </tr>\n",
       "    <tr>\n",
       "      <th>18</th>\n",
       "      <td>ExercisedPastMonth</td>\n",
       "      <td>0.080416</td>\n",
       "      <td>0.370655</td>\n",
       "      <td>0.132159</td>\n",
       "      <td>0.082258</td>\n",
       "      <td>0</td>\n",
       "      <td>52026</td>\n",
       "    </tr>\n",
       "    <tr>\n",
       "      <th>27</th>\n",
       "      <td>Income</td>\n",
       "      <td>0.085149</td>\n",
       "      <td>0.271293</td>\n",
       "      <td>0.129616</td>\n",
       "      <td>0.072625</td>\n",
       "      <td>4480</td>\n",
       "      <td>36524</td>\n",
       "    </tr>\n",
       "    <tr>\n",
       "      <th>16</th>\n",
       "      <td>AvgDrinksPerDay</td>\n",
       "      <td>0.067682</td>\n",
       "      <td>0.619930</td>\n",
       "      <td>0.122039</td>\n",
       "      <td>0.064098</td>\n",
       "      <td>0</td>\n",
       "      <td>48033</td>\n",
       "    </tr>\n",
       "    <tr>\n",
       "      <th>17</th>\n",
       "      <td>DrinksPerWeek</td>\n",
       "      <td>0.067682</td>\n",
       "      <td>0.619930</td>\n",
       "      <td>0.122039</td>\n",
       "      <td>0.056453</td>\n",
       "      <td>0</td>\n",
       "      <td>48033</td>\n",
       "    </tr>\n",
       "    <tr>\n",
       "      <th>15</th>\n",
       "      <td>DrankAlcohol</td>\n",
       "      <td>0.067477</td>\n",
       "      <td>0.608746</td>\n",
       "      <td>0.121488</td>\n",
       "      <td>0.068178</td>\n",
       "      <td>0</td>\n",
       "      <td>48527</td>\n",
       "    </tr>\n",
       "    <tr>\n",
       "      <th>24</th>\n",
       "      <td>Sex</td>\n",
       "      <td>0.065362</td>\n",
       "      <td>0.577357</td>\n",
       "      <td>0.117429</td>\n",
       "      <td>0.065830</td>\n",
       "      <td>0</td>\n",
       "      <td>52130</td>\n",
       "    </tr>\n",
       "    <tr>\n",
       "      <th>32</th>\n",
       "      <td>WeightKg</td>\n",
       "      <td>0.065275</td>\n",
       "      <td>0.534241</td>\n",
       "      <td>0.116336</td>\n",
       "      <td>0.053476</td>\n",
       "      <td>20617</td>\n",
       "      <td>26648</td>\n",
       "    </tr>\n",
       "    <tr>\n",
       "      <th>20</th>\n",
       "      <td>CheckupRecency</td>\n",
       "      <td>0.061375</td>\n",
       "      <td>0.906043</td>\n",
       "      <td>0.114963</td>\n",
       "      <td>0.061623</td>\n",
       "      <td>0</td>\n",
       "      <td>51461</td>\n",
       "    </tr>\n",
       "    <tr>\n",
       "      <th>22</th>\n",
       "      <td>BMI</td>\n",
       "      <td>0.062956</td>\n",
       "      <td>0.620338</td>\n",
       "      <td>0.114311</td>\n",
       "      <td>0.051941</td>\n",
       "      <td>25080</td>\n",
       "      <td>21448</td>\n",
       "    </tr>\n",
       "    <tr>\n",
       "      <th>23</th>\n",
       "      <td>ObeseFlag</td>\n",
       "      <td>0.061119</td>\n",
       "      <td>0.767962</td>\n",
       "      <td>0.113227</td>\n",
       "      <td>0.060539</td>\n",
       "      <td>0</td>\n",
       "      <td>46528</td>\n",
       "    </tr>\n",
       "    <tr>\n",
       "      <th>6</th>\n",
       "      <td>Depression</td>\n",
       "      <td>0.070985</td>\n",
       "      <td>0.263350</td>\n",
       "      <td>0.111827</td>\n",
       "      <td>0.069703</td>\n",
       "      <td>0</td>\n",
       "      <td>51879</td>\n",
       "    </tr>\n",
       "    <tr>\n",
       "      <th>26</th>\n",
       "      <td>Education</td>\n",
       "      <td>0.063760</td>\n",
       "      <td>0.383072</td>\n",
       "      <td>0.109324</td>\n",
       "      <td>0.060554</td>\n",
       "      <td>3072</td>\n",
       "      <td>48794</td>\n",
       "    </tr>\n",
       "    <tr>\n",
       "      <th>28</th>\n",
       "      <td>Race</td>\n",
       "      <td>0.057753</td>\n",
       "      <td>0.826687</td>\n",
       "      <td>0.107963</td>\n",
       "      <td>0.057963</td>\n",
       "      <td>0</td>\n",
       "      <td>50875</td>\n",
       "    </tr>\n",
       "    <tr>\n",
       "      <th>31</th>\n",
       "      <td>HeightCm</td>\n",
       "      <td>0.060271</td>\n",
       "      <td>0.500378</td>\n",
       "      <td>0.107583</td>\n",
       "      <td>0.054084</td>\n",
       "      <td>18268</td>\n",
       "      <td>30950</td>\n",
       "    </tr>\n",
       "    <tr>\n",
       "      <th>12</th>\n",
       "      <td>ECigUse</td>\n",
       "      <td>0.054909</td>\n",
       "      <td>0.974660</td>\n",
       "      <td>0.103962</td>\n",
       "      <td>0.054479</td>\n",
       "      <td>0</td>\n",
       "      <td>49275</td>\n",
       "    </tr>\n",
       "    <tr>\n",
       "      <th>13</th>\n",
       "      <td>SmokelessTobacco</td>\n",
       "      <td>0.054082</td>\n",
       "      <td>0.975840</td>\n",
       "      <td>0.102484</td>\n",
       "      <td>0.053395</td>\n",
       "      <td>0</td>\n",
       "      <td>49388</td>\n",
       "    </tr>\n",
       "    <tr>\n",
       "      <th>11</th>\n",
       "      <td>SmokingFrequency</td>\n",
       "      <td>0.053460</td>\n",
       "      <td>1.000000</td>\n",
       "      <td>0.101493</td>\n",
       "      <td>0.052422</td>\n",
       "      <td>6467</td>\n",
       "      <td>42673</td>\n",
       "    </tr>\n",
       "    <tr>\n",
       "      <th>30</th>\n",
       "      <td>AsthmaStatus</td>\n",
       "      <td>0.077547</td>\n",
       "      <td>0.144171</td>\n",
       "      <td>0.100849</td>\n",
       "      <td>0.081069</td>\n",
       "      <td>0</td>\n",
       "      <td>51732</td>\n",
       "    </tr>\n",
       "    <tr>\n",
       "      <th>0</th>\n",
       "      <td>Unnamed: 0</td>\n",
       "      <td>0.052695</td>\n",
       "      <td>1.000000</td>\n",
       "      <td>0.100115</td>\n",
       "      <td>0.052695</td>\n",
       "      <td>0</td>\n",
       "      <td>52130</td>\n",
       "    </tr>\n",
       "    <tr>\n",
       "      <th>21</th>\n",
       "      <td>AvoidedCareCost</td>\n",
       "      <td>0.052658</td>\n",
       "      <td>1.000000</td>\n",
       "      <td>0.100048</td>\n",
       "      <td>0.051200</td>\n",
       "      <td>48074</td>\n",
       "      <td>3903</td>\n",
       "    </tr>\n",
       "    <tr>\n",
       "      <th>14</th>\n",
       "      <td>SmokingQuantity</td>\n",
       "      <td>0.075124</td>\n",
       "      <td>0.087894</td>\n",
       "      <td>0.081009</td>\n",
       "      <td>0.039446</td>\n",
       "      <td>1368</td>\n",
       "      <td>29324</td>\n",
       "    </tr>\n",
       "  </tbody>\n",
       "</table>\n",
       "</div>"
      ],
      "text/plain": [
       "               feature  precision    recall        f1  threshold  Predict_T  \\\n",
       "1          HeartAttack   0.472222  0.447700  0.459634   0.483551          0   \n",
       "19       GeneralHealth   0.150000  0.464573  0.226778   0.118841       2120   \n",
       "25            AgeGroup   0.126913  0.440845  0.197087   0.101928       8527   \n",
       "7             Diabetes   0.125588  0.379650  0.188741   0.124814          0   \n",
       "9      HighCholesterol   0.101504  0.702260  0.177371   0.103472          0   \n",
       "8    HighBloodPressure   0.098589  0.764082  0.174644   0.100748          0   \n",
       "2               Stroke   0.202779  0.144164  0.168520   0.215878          0   \n",
       "5            Arthritis   0.097532  0.591941  0.167470   0.097582          0   \n",
       "29       MaritalStatus   0.108794  0.219861  0.145560   0.106558          0   \n",
       "4           SkinCancer   0.110599  0.193407  0.140725   0.112546          0   \n",
       "3          OtherCancer   0.107655  0.195167  0.138766   0.109163          0   \n",
       "10   EverSmoked100Cigs   0.076973  0.582384  0.135975   0.076899          0   \n",
       "18  ExercisedPastMonth   0.080416  0.370655  0.132159   0.082258          0   \n",
       "27              Income   0.085149  0.271293  0.129616   0.072625       4480   \n",
       "16     AvgDrinksPerDay   0.067682  0.619930  0.122039   0.064098          0   \n",
       "17       DrinksPerWeek   0.067682  0.619930  0.122039   0.056453          0   \n",
       "15        DrankAlcohol   0.067477  0.608746  0.121488   0.068178          0   \n",
       "24                 Sex   0.065362  0.577357  0.117429   0.065830          0   \n",
       "32            WeightKg   0.065275  0.534241  0.116336   0.053476      20617   \n",
       "20      CheckupRecency   0.061375  0.906043  0.114963   0.061623          0   \n",
       "22                 BMI   0.062956  0.620338  0.114311   0.051941      25080   \n",
       "23           ObeseFlag   0.061119  0.767962  0.113227   0.060539          0   \n",
       "6           Depression   0.070985  0.263350  0.111827   0.069703          0   \n",
       "26           Education   0.063760  0.383072  0.109324   0.060554       3072   \n",
       "28                Race   0.057753  0.826687  0.107963   0.057963          0   \n",
       "31            HeightCm   0.060271  0.500378  0.107583   0.054084      18268   \n",
       "12             ECigUse   0.054909  0.974660  0.103962   0.054479          0   \n",
       "13    SmokelessTobacco   0.054082  0.975840  0.102484   0.053395          0   \n",
       "11    SmokingFrequency   0.053460  1.000000  0.101493   0.052422       6467   \n",
       "30        AsthmaStatus   0.077547  0.144171  0.100849   0.081069          0   \n",
       "0           Unnamed: 0   0.052695  1.000000  0.100115   0.052695          0   \n",
       "21     AvoidedCareCost   0.052658  1.000000  0.100048   0.051200      48074   \n",
       "14     SmokingQuantity   0.075124  0.087894  0.081009   0.039446       1368   \n",
       "\n",
       "    Predict_F  \n",
       "1       51881  \n",
       "19      49886  \n",
       "25      43603  \n",
       "7       52026  \n",
       "9       44467  \n",
       "8       51917  \n",
       "2       52022  \n",
       "5       51833  \n",
       "29      51560  \n",
       "4       51994  \n",
       "3       51984  \n",
       "10      49210  \n",
       "18      52026  \n",
       "27      36524  \n",
       "16      48033  \n",
       "17      48033  \n",
       "15      48527  \n",
       "24      52130  \n",
       "32      26648  \n",
       "20      51461  \n",
       "22      21448  \n",
       "23      46528  \n",
       "6       51879  \n",
       "26      48794  \n",
       "28      50875  \n",
       "31      30950  \n",
       "12      49275  \n",
       "13      49388  \n",
       "11      42673  \n",
       "30      51732  \n",
       "0       52130  \n",
       "21       3903  \n",
       "14      29324  "
      ]
     },
     "execution_count": 80,
     "metadata": {},
     "output_type": "execute_result"
    }
   ],
   "source": [
    "uni_results_df.sort_values(by='f1',ascending=False)"
   ]
  },
  {
   "cell_type": "markdown",
   "id": "bb1e441d",
   "metadata": {},
   "source": [
    "__Insights:__\n",
    "* None of them really performed well, with majority of them only classifying as negative (i.e. not HeartDisease)"
   ]
  },
  {
   "cell_type": "markdown",
   "id": "52388bbb",
   "metadata": {},
   "source": [
    "### Two (i.e. pairs of) features"
   ]
  },
  {
   "cell_type": "code",
   "execution_count": 81,
   "id": "0bb5b711",
   "metadata": {},
   "outputs": [
    {
     "name": "stdout",
     "output_type": "stream",
     "text": [
      "AgeGroup START  Arthritis,   AsthmaStatus,   AvgDrinksPerDay,   AvoidedCareCost,   BMI,   CheckupRecency,   Depression,   Diabetes,   DrankAlcohol,   DrinksPerWeek,   ECigUse,   Education,   EverSmoked100Cigs,   ExercisedPastMonth,   GeneralHealth,   HeartAttack,   HeightCm,   HighBloodPressure,   HighCholesterol,   Income,   MaritalStatus,   ObeseFlag,   OtherCancer,   Race,   Sex,   SkinCancer,   SmokelessTobacco,   SmokingFrequency,   SmokingQuantity,   Stroke,   Unnamed: 0,   WeightKg,  DONE\n",
      "Arthritis START  AsthmaStatus,   AvgDrinksPerDay,   AvoidedCareCost,   BMI,   CheckupRecency,   Depression,   Diabetes,   DrankAlcohol,   DrinksPerWeek,   ECigUse,   Education,   EverSmoked100Cigs,   ExercisedPastMonth,   GeneralHealth,   HeartAttack,   HeightCm,   HighBloodPressure,   HighCholesterol,   Income,   MaritalStatus,   ObeseFlag,   OtherCancer,   Race,   Sex,   SkinCancer,   SmokelessTobacco,   SmokingFrequency,   SmokingQuantity,   Stroke,   Unnamed: 0,   WeightKg,  DONE\n",
      "AsthmaStatus START  AvgDrinksPerDay,   AvoidedCareCost,   BMI,   CheckupRecency,   Depression,   Diabetes,   DrankAlcohol,   DrinksPerWeek,   ECigUse,   Education,   EverSmoked100Cigs,   ExercisedPastMonth,   GeneralHealth,   HeartAttack,   HeightCm,   HighBloodPressure,   HighCholesterol,   Income,   MaritalStatus,   ObeseFlag,   OtherCancer,   Race,   Sex,   SkinCancer,   SmokelessTobacco,   SmokingFrequency,   SmokingQuantity,   Stroke,   Unnamed: 0,   WeightKg,  DONE\n",
      "AvgDrinksPerDay START  AvoidedCareCost,   BMI,   CheckupRecency,   Depression,   Diabetes,   DrankAlcohol,   DrinksPerWeek,   ECigUse,   Education,   EverSmoked100Cigs,   ExercisedPastMonth,   GeneralHealth,   HeartAttack,   HeightCm,   HighBloodPressure,   HighCholesterol,   Income,   MaritalStatus,   ObeseFlag,   OtherCancer,   Race,   Sex,   SkinCancer,   SmokelessTobacco,   SmokingFrequency,   SmokingQuantity,   Stroke,   Unnamed: 0,   WeightKg,  DONE\n",
      "AvoidedCareCost START  BMI,   CheckupRecency,   Depression,   Diabetes,   DrankAlcohol,   DrinksPerWeek,   ECigUse,   Education,   EverSmoked100Cigs,   ExercisedPastMonth,   GeneralHealth,   HeartAttack,   HeightCm,   HighBloodPressure,   HighCholesterol,   Income,   MaritalStatus,   ObeseFlag,   OtherCancer,   Race,   Sex,   SkinCancer,   SmokelessTobacco,   SmokingFrequency,   SmokingQuantity,   Stroke,   Unnamed: 0,   WeightKg,  DONE\n",
      "BMI START  CheckupRecency,   Depression,   Diabetes,   DrankAlcohol,   DrinksPerWeek,   ECigUse,   Education,   EverSmoked100Cigs,   ExercisedPastMonth,   GeneralHealth,   HeartAttack,   HeightCm,   HighBloodPressure,   HighCholesterol,   Income,   MaritalStatus,   ObeseFlag,   OtherCancer,   Race,   Sex,   SkinCancer,   SmokelessTobacco,   SmokingFrequency,   SmokingQuantity,   Stroke,   Unnamed: 0,   WeightKg,  DONE\n",
      "CheckupRecency START  Depression,   Diabetes,   DrankAlcohol,   DrinksPerWeek,   ECigUse,   Education,   EverSmoked100Cigs,   ExercisedPastMonth,   GeneralHealth,   HeartAttack,   HeightCm,   HighBloodPressure,   HighCholesterol,   Income,   MaritalStatus,   ObeseFlag,   OtherCancer,   Race,   Sex,   SkinCancer,   SmokelessTobacco,   SmokingFrequency,   SmokingQuantity,   Stroke,   Unnamed: 0,   WeightKg,  DONE\n",
      "Depression START  Diabetes,   DrankAlcohol,   DrinksPerWeek,   ECigUse,   Education,   EverSmoked100Cigs,   ExercisedPastMonth,   GeneralHealth,   HeartAttack,   HeightCm,   HighBloodPressure,   HighCholesterol,   Income,   MaritalStatus,   ObeseFlag,   OtherCancer,   Race,   Sex,   SkinCancer,   SmokelessTobacco,   SmokingFrequency,   SmokingQuantity,   Stroke,   Unnamed: 0,   WeightKg,  DONE\n",
      "Diabetes START  DrankAlcohol,   DrinksPerWeek,   ECigUse,   Education,   EverSmoked100Cigs,   ExercisedPastMonth,   GeneralHealth,   HeartAttack,   HeightCm,   HighBloodPressure,   HighCholesterol,   Income,   MaritalStatus,   ObeseFlag,   OtherCancer,   Race,   Sex,   SkinCancer,   SmokelessTobacco,   SmokingFrequency,   SmokingQuantity,   Stroke,   Unnamed: 0,   WeightKg,  DONE\n",
      "DrankAlcohol START  DrinksPerWeek,   ECigUse,   Education,   EverSmoked100Cigs,   ExercisedPastMonth,   GeneralHealth,   HeartAttack,   HeightCm,   HighBloodPressure,   HighCholesterol,   Income,   MaritalStatus,   ObeseFlag,   OtherCancer,   Race,   Sex,   SkinCancer,   SmokelessTobacco,   SmokingFrequency,   SmokingQuantity,   Stroke,   Unnamed: 0,   WeightKg,  DONE\n",
      "DrinksPerWeek START  ECigUse,   Education,   EverSmoked100Cigs,   ExercisedPastMonth,   GeneralHealth,   HeartAttack,   HeightCm,   HighBloodPressure,   HighCholesterol,   Income,   MaritalStatus,   ObeseFlag,   OtherCancer,   Race,   Sex,   SkinCancer,   SmokelessTobacco,   SmokingFrequency,   SmokingQuantity,   Stroke,   Unnamed: 0,   WeightKg,  DONE\n",
      "ECigUse START  Education,   EverSmoked100Cigs,   ExercisedPastMonth,   GeneralHealth,   HeartAttack,   HeightCm,   HighBloodPressure,   HighCholesterol,   Income,   MaritalStatus,   ObeseFlag,   OtherCancer,   Race,   Sex,   SkinCancer,   SmokelessTobacco,   SmokingFrequency,   SmokingQuantity,   Stroke,   Unnamed: 0,   WeightKg,  DONE\n",
      "Education START  EverSmoked100Cigs,   ExercisedPastMonth,   GeneralHealth,   HeartAttack,   HeightCm,   HighBloodPressure,   HighCholesterol,   Income,   MaritalStatus,   ObeseFlag,   OtherCancer,   Race,   Sex,   SkinCancer,   SmokelessTobacco,   SmokingFrequency,   SmokingQuantity,   Stroke,   Unnamed: 0,   WeightKg,  DONE\n",
      "EverSmoked100Cigs START  ExercisedPastMonth,   GeneralHealth,   HeartAttack,   HeightCm,   HighBloodPressure,   HighCholesterol,   Income,   MaritalStatus,   ObeseFlag,   OtherCancer,   Race,   Sex,   SkinCancer,   SmokelessTobacco,   SmokingFrequency,   SmokingQuantity,   Stroke,   Unnamed: 0,   WeightKg,  DONE\n",
      "ExercisedPastMonth START  GeneralHealth,   HeartAttack,   HeightCm,   HighBloodPressure,   HighCholesterol,   Income,   MaritalStatus,   ObeseFlag,   OtherCancer,   Race,   Sex,   SkinCancer,   SmokelessTobacco,   SmokingFrequency,   SmokingQuantity,   Stroke,   Unnamed: 0,   WeightKg,  DONE\n",
      "GeneralHealth START  HeartAttack,   HeightCm,   HighBloodPressure,   HighCholesterol,   Income,   MaritalStatus,   ObeseFlag,   OtherCancer,   Race,   Sex,   SkinCancer,   SmokelessTobacco,   SmokingFrequency,   SmokingQuantity,   Stroke,   Unnamed: 0,   WeightKg,  DONE\n",
      "HeartAttack START  HeightCm,   HighBloodPressure,   HighCholesterol,   Income,   MaritalStatus,   ObeseFlag,   OtherCancer,   Race,   Sex,   SkinCancer,   SmokelessTobacco,   SmokingFrequency,   SmokingQuantity,   Stroke,   Unnamed: 0,   WeightKg,  DONE\n",
      "HeightCm START  HighBloodPressure,   HighCholesterol,   Income,   MaritalStatus,   ObeseFlag,   OtherCancer,   Race,   Sex,   SkinCancer,   SmokelessTobacco,   SmokingFrequency,   SmokingQuantity,   Stroke,   Unnamed: 0,   WeightKg,  DONE\n",
      "HighBloodPressure START  HighCholesterol,   Income,   MaritalStatus,   ObeseFlag,   OtherCancer,   Race,   Sex,   SkinCancer,   SmokelessTobacco,   SmokingFrequency,   SmokingQuantity,   Stroke,   Unnamed: 0,   WeightKg,  DONE\n",
      "HighCholesterol START  Income,   MaritalStatus,   ObeseFlag,   OtherCancer,   Race,   Sex,   SkinCancer,   SmokelessTobacco,   SmokingFrequency,   SmokingQuantity,   Stroke,   Unnamed: 0,   WeightKg,  DONE\n",
      "Income START  MaritalStatus,   ObeseFlag,   OtherCancer,   Race,   Sex,   SkinCancer,   SmokelessTobacco,   SmokingFrequency,   SmokingQuantity,   Stroke,   Unnamed: 0,   WeightKg,  DONE\n",
      "MaritalStatus START  ObeseFlag,   OtherCancer,   Race,   Sex,   SkinCancer,   SmokelessTobacco,   SmokingFrequency,   SmokingQuantity,   Stroke,   Unnamed: 0,   WeightKg,  DONE\n",
      "ObeseFlag START  OtherCancer,   Race,   Sex,   SkinCancer,   SmokelessTobacco,   SmokingFrequency,   SmokingQuantity,   Stroke,   Unnamed: 0,   WeightKg,  DONE\n",
      "OtherCancer START  Race,   Sex,   SkinCancer,   SmokelessTobacco,   SmokingFrequency,   SmokingQuantity,   Stroke,   Unnamed: 0,   WeightKg,  DONE\n",
      "Race START  Sex,   SkinCancer,   SmokelessTobacco,   SmokingFrequency,   SmokingQuantity,   Stroke,   Unnamed: 0,   WeightKg,  DONE\n",
      "Sex START  SkinCancer,   SmokelessTobacco,   SmokingFrequency,   SmokingQuantity,   Stroke,   Unnamed: 0,   WeightKg,  DONE\n",
      "SkinCancer START  SmokelessTobacco,   SmokingFrequency,   SmokingQuantity,   Stroke,   Unnamed: 0,   WeightKg,  DONE\n",
      "SmokelessTobacco START  SmokingFrequency,   SmokingQuantity,   Stroke,   Unnamed: 0,   WeightKg,  DONE\n",
      "SmokingFrequency START  SmokingQuantity,   Stroke,   Unnamed: 0,   WeightKg,  DONE\n",
      "SmokingQuantity START  Stroke,   Unnamed: 0,   WeightKg,  DONE\n",
      "Stroke START  Unnamed: 0,   WeightKg,  DONE\n",
      "Unnamed: 0 START  WeightKg,  DONE\n",
      "WeightKg START DONE\n"
     ]
    }
   ],
   "source": [
    "#Now create logistic regression models for all pairs of features (+ interactive variable) to see if it reveals anything more than the univariate analysis. \n",
    "#Note that the script doesn't do any imputation of the features in both training and test set. We simply remove them. \n",
    "results = []\n",
    "for col1 in train_col:\n",
    "    print(f\"{col1} START\", end=\" \")\n",
    "    for col2 in train_col:\n",
    "        if col1 >= col2: # This is to avoid redundant model building/fitting\n",
    "            continue \n",
    "        try:\n",
    "            print(f\" {col2}, \", end=\" \")\n",
    "            feature1 = col1 if col1 not in cat_col else 'C('+col1+')'\n",
    "            feature2 = col2 if col2 not in cat_col else 'C('+col2+')'\n",
    "            #We will fit the two features with HeartDisease, including the interaction variable. \n",
    "            model = smf.logit(f\"{TARGET_COL} ~ {feature1} * {feature2}\", missing='drop', data=train_df).fit(disp=0)\n",
    "\n",
    "            #Remove columns that had NaN before prediction. \n",
    "            X_val = val_df.loc[~val_df[col1].isna() & ~val_df[col2].isna(), [col1, col2]].copy()\n",
    "            y_val = val_df.loc[X_val.index,TARGET_COL].astype(bool)\n",
    "            y_pred = model.predict(X_val)\n",
    "\n",
    "\n",
    "            precisions, recalls, thresholds = precision_recall_curve(y_val, y_pred)\n",
    "            f1_scores = 2 * (precisions * recalls) / (precisions + recalls + 1e-10)\n",
    "            best_idx = np.argmax(f1_scores)\n",
    "            best_thresh = thresholds[best_idx]\n",
    "\n",
    "            y_pred = (y_pred > best_thresh).astype(bool)\n",
    "            results.append({\n",
    "                'feature1': col1,\n",
    "                'feature2': col2,\n",
    "                'precision': precisions[best_idx],\n",
    "                'recall': recalls[best_idx],\n",
    "                'f1': f1_scores[best_idx],\n",
    "                'threshold': best_thresh,\n",
    "                'Predict_T': (y_pred==True).sum(),\n",
    "                'Predict_F': (y_pred==False).sum(),\n",
    "            })\n",
    "        except Exception as e:\n",
    "            results.append({'feature1': col1,'feature2': col2, 'error': str(e)})\n",
    "    print(f\"DONE\")\n",
    "\n",
    "\n",
    "bi_results_df = pd.DataFrame(results)\n",
    "\n"
   ]
  },
  {
   "cell_type": "code",
   "execution_count": 82,
   "id": "e9c2a714",
   "metadata": {},
   "outputs": [
    {
     "data": {
      "text/html": [
       "\n",
       "<style>\n",
       "  #altair-viz-af0ae7778c704b91a01aed3a9a2af4bf.vega-embed {\n",
       "    width: 100%;\n",
       "    display: flex;\n",
       "  }\n",
       "\n",
       "  #altair-viz-af0ae7778c704b91a01aed3a9a2af4bf.vega-embed details,\n",
       "  #altair-viz-af0ae7778c704b91a01aed3a9a2af4bf.vega-embed details summary {\n",
       "    position: relative;\n",
       "  }\n",
       "</style>\n",
       "<div id=\"altair-viz-af0ae7778c704b91a01aed3a9a2af4bf\"></div>\n",
       "<script type=\"text/javascript\">\n",
       "  var VEGA_DEBUG = (typeof VEGA_DEBUG == \"undefined\") ? {} : VEGA_DEBUG;\n",
       "  (function(spec, embedOpt){\n",
       "    let outputDiv = document.currentScript.previousElementSibling;\n",
       "    if (outputDiv.id !== \"altair-viz-af0ae7778c704b91a01aed3a9a2af4bf\") {\n",
       "      outputDiv = document.getElementById(\"altair-viz-af0ae7778c704b91a01aed3a9a2af4bf\");\n",
       "    }\n",
       "\n",
       "    const paths = {\n",
       "      \"vega\": \"https://cdn.jsdelivr.net/npm/vega@5?noext\",\n",
       "      \"vega-lib\": \"https://cdn.jsdelivr.net/npm/vega-lib?noext\",\n",
       "      \"vega-lite\": \"https://cdn.jsdelivr.net/npm/vega-lite@5.20.1?noext\",\n",
       "      \"vega-embed\": \"https://cdn.jsdelivr.net/npm/vega-embed@6?noext\",\n",
       "    };\n",
       "\n",
       "    function maybeLoadScript(lib, version) {\n",
       "      var key = `${lib.replace(\"-\", \"\")}_version`;\n",
       "      return (VEGA_DEBUG[key] == version) ?\n",
       "        Promise.resolve(paths[lib]) :\n",
       "        new Promise(function(resolve, reject) {\n",
       "          var s = document.createElement('script');\n",
       "          document.getElementsByTagName(\"head\")[0].appendChild(s);\n",
       "          s.async = true;\n",
       "          s.onload = () => {\n",
       "            VEGA_DEBUG[key] = version;\n",
       "            return resolve(paths[lib]);\n",
       "          };\n",
       "          s.onerror = () => reject(`Error loading script: ${paths[lib]}`);\n",
       "          s.src = paths[lib];\n",
       "        });\n",
       "    }\n",
       "\n",
       "    function showError(err) {\n",
       "      outputDiv.innerHTML = `<div class=\"error\" style=\"color:red;\">${err}</div>`;\n",
       "      throw err;\n",
       "    }\n",
       "\n",
       "    function displayChart(vegaEmbed) {\n",
       "      vegaEmbed(outputDiv, spec, embedOpt)\n",
       "        .catch(err => showError(`Javascript Error: ${err.message}<br>This usually means there's a typo in your chart specification. See the javascript console for the full traceback.`));\n",
       "    }\n",
       "\n",
       "    if(typeof define === \"function\" && define.amd) {\n",
       "      requirejs.config({paths});\n",
       "      let deps = [\"vega-embed\"];\n",
       "      require(deps, displayChart, err => showError(`Error loading script: ${err.message}`));\n",
       "    } else {\n",
       "      maybeLoadScript(\"vega\", \"5\")\n",
       "        .then(() => maybeLoadScript(\"vega-lite\", \"5.20.1\"))\n",
       "        .then(() => maybeLoadScript(\"vega-embed\", \"6\"))\n",
       "        .catch(showError)\n",
       "        .then(() => displayChart(vegaEmbed));\n",
       "    }\n",
       "  })({\"config\": {\"view\": {\"continuousWidth\": 300, \"continuousHeight\": 300}, \"axis\": {\"labelFontSize\": 14, \"titleFontSize\": 16}, \"axisX\": {\"labelAngle\": -45}, \"legend\": {\"labelFontSize\": 12, \"titleFontSize\": 14}, \"title\": {\"anchor\": \"middle\", \"fontSize\": 18}}, \"data\": {\"name\": \"data-63ce18dd49869984514009931d40ca8f\"}, \"mark\": {\"type\": \"rect\"}, \"encoding\": {\"color\": {\"field\": \"f1\", \"scale\": {\"domain\": [-1, 1], \"scheme\": \"redblue\"}, \"type\": \"quantitative\"}, \"tooltip\": [{\"field\": \"feature1\", \"type\": \"ordinal\"}, {\"field\": \"feature2\", \"type\": \"ordinal\"}, {\"field\": \"precision\", \"type\": \"quantitative\"}, {\"field\": \"recall\", \"type\": \"quantitative\"}, {\"field\": \"f1\", \"type\": \"quantitative\"}, {\"field\": \"threshold\", \"type\": \"quantitative\"}, {\"field\": \"Predict_T\", \"type\": \"quantitative\"}, {\"field\": \"Predict_F\", \"type\": \"quantitative\"}], \"x\": {\"field\": \"feature1\", \"title\": \"Feature\", \"type\": \"ordinal\"}, \"y\": {\"field\": \"feature2\", \"title\": \"Feature\", \"type\": \"ordinal\"}}, \"height\": 500, \"title\": \"Two feature logistic regression\", \"width\": 500, \"$schema\": \"https://vega.github.io/schema/vega-lite/v5.20.1.json\", \"datasets\": {\"data-63ce18dd49869984514009931d40ca8f\": [{\"feature1\": \"AgeGroup\", \"feature2\": \"Arthritis\", \"precision\": 0.13034816431078644, \"recall\": 0.5032967032967033, \"f1\": 0.20706804306882062, \"threshold\": 0.10122843127228981, \"Predict_T\": 10227.0, \"Predict_F\": 41606.0, \"error\": null}, {\"feature1\": \"AgeGroup\", \"feature2\": \"AsthmaStatus\", \"precision\": 0.1251278237426792, \"recall\": 0.49503493931592496, \"f1\": 0.1997625407810864, \"threshold\": 0.09435515592877007, \"Predict_T\": 10717.0, \"Predict_F\": 41015.0, \"error\": null}, {\"feature1\": \"AgeGroup\", \"feature2\": \"AvgDrinksPerDay\", \"precision\": 0.13009571074087203, \"recall\": 0.42526071842410196, \"f1\": 0.19923995653307075, \"threshold\": 0.10303825053498125, \"Predict_T\": 8459.0, \"Predict_F\": 39574.0, \"error\": null}, {\"feature1\": \"AgeGroup\", \"feature2\": \"AvoidedCareCost\", \"precision\": 0.12337662337662338, \"recall\": 0.4928754110339788, \"f1\": 0.1973520590711866, \"threshold\": 0.09252794537808884, \"Predict_T\": 10861.0, \"Predict_F\": 41116.0, \"error\": null}, {\"feature1\": \"AgeGroup\", \"feature2\": \"BMI\", \"precision\": 0.12931905435441504, \"recall\": 0.5025520219866509, \"f1\": 0.20570510241822854, \"threshold\": 0.09555617454494109, \"Predict_T\": 9896.0, \"Predict_F\": 36632.0, \"error\": null}, {\"feature1\": \"AgeGroup\", \"feature2\": \"CheckupRecency\", \"precision\": 0.12959818902093945, \"recall\": 0.4218865143699337, \"f1\": 0.19828556581390225, \"threshold\": 0.10700107652505192, \"Predict_T\": 7927.0, \"Predict_F\": 43534.0, \"error\": null}, {\"feature1\": \"AgeGroup\", \"feature2\": \"Depression\", \"precision\": 0.13240157900352076, \"recall\": 0.45391367959034384, \"f1\": 0.20500536875994702, \"threshold\": 0.10229306167028876, \"Predict_T\": 9170.0, \"Predict_F\": 42709.0, \"error\": null}, {\"feature1\": \"AgeGroup\", \"feature2\": \"Diabetes\", \"precision\": 0.14170375737501295, \"recall\": 0.49927060539752005, \"f1\": 0.22075304358403916, \"threshold\": 0.10543023082595299, \"Predict_T\": 9162.0, \"Predict_F\": 42864.0, \"error\": null}, {\"feature1\": \"AgeGroup\", \"feature2\": \"DrankAlcohol\", \"precision\": 0.13126861226920786, \"recall\": 0.42270809359416955, \"f1\": 0.20032721319779578, \"threshold\": 0.10716475881361089, \"Predict_T\": 7872.0, \"Predict_F\": 40655.0, \"error\": null}, {\"feature1\": \"AgeGroup\", \"feature2\": \"DrinksPerWeek\", \"precision\": 0.13058419243986255, \"recall\": 0.4256469679412901, \"f1\": 0.19985491472649275, \"threshold\": 0.10486364185782608, \"Predict_T\": 7878.0, \"Predict_F\": 40155.0, \"error\": null}, {\"feature1\": \"AgeGroup\", \"feature2\": \"ECigUse\", \"precision\": 0.1280017385635119, \"recall\": 0.4455370650529501, \"f1\": 0.19886891192615996, \"threshold\": 0.10238055026983457, \"Predict_T\": 8244.0, \"Predict_F\": 41031.0, \"error\": null}, {\"feature1\": \"AgeGroup\", \"feature2\": \"Education\", \"precision\": 0.12971672317620037, \"recall\": 0.43268879970813573, \"f1\": 0.19959609555522048, \"threshold\": 0.10174066036231068, \"Predict_T\": 8879.0, \"Predict_F\": 42987.0, \"error\": null}, {\"feature1\": \"AgeGroup\", \"feature2\": \"EverSmoked100Cigs\", \"precision\": 0.1327534430982707, \"recall\": 0.486712224753227, \"f1\": 0.2086079244639244, \"threshold\": 0.10003165390991624, \"Predict_T\": 9185.0, \"Predict_F\": 40025.0, \"error\": null}, {\"feature1\": \"AgeGroup\", \"feature2\": \"ExercisedPastMonth\", \"precision\": 0.13021106794077497, \"recall\": 0.4537138675448225, \"f1\": 0.2023498694170437, \"threshold\": 0.10058155478400461, \"Predict_T\": 9253.0, \"Predict_F\": 42773.0, \"error\": null}, {\"feature1\": \"AgeGroup\", \"feature2\": \"GeneralHealth\", \"precision\": 0.233991462113127, \"recall\": 0.32030679327976624, \"f1\": 0.27042861543070673, \"threshold\": 0.15304099281161154, \"Predict_T\": 3612.0, \"Predict_F\": 48394.0, \"error\": null}, {\"feature1\": \"AgeGroup\", \"feature2\": \"HeartAttack\", \"precision\": 0.4722222222222222, \"recall\": 0.44770029673590506, \"f1\": 0.45963442493099516, \"threshold\": 0.25993507059015997, \"Predict_T\": 2554.0, \"Predict_F\": 49327.0, \"error\": null}, {\"feature1\": \"AgeGroup\", \"feature2\": \"HeightCm\", \"precision\": 0.1389124379314521, \"recall\": 0.4338124054462935, \"f1\": 0.2104394091917676, \"threshold\": 0.10411449199702975, \"Predict_T\": 8182.0, \"Predict_F\": 41036.0, \"error\": null}, {\"feature1\": \"AgeGroup\", \"feature2\": \"HighBloodPressure\", \"precision\": 0.1411740808450132, \"recall\": 0.5084125822970007, \"f1\": 0.22098569153990744, \"threshold\": 0.10602225837488216, \"Predict_T\": 9233.0, \"Predict_F\": 42684.0, \"error\": null}, {\"feature1\": \"AgeGroup\", \"feature2\": \"HighCholesterol\", \"precision\": 0.14719791912981792, \"recall\": 0.485190958690569, \"f1\": 0.22587082725020455, \"threshold\": 0.10495414070219938, \"Predict_T\": 7946.0, \"Predict_F\": 36521.0, \"error\": null}, {\"feature1\": \"AgeGroup\", \"feature2\": \"Income\", \"precision\": 0.13517513566847558, \"recall\": 0.49391617845876523, \"f1\": 0.2122591265277003, \"threshold\": 0.09837138084806148, \"Predict_T\": 8025.0, \"Predict_F\": 32979.0, \"error\": null}, {\"feature1\": \"AgeGroup\", \"feature2\": \"MaritalStatus\", \"precision\": 0.12706237424547284, \"recall\": 0.4628068889703188, \"f1\": 0.19938432390652536, \"threshold\": 0.09814614167495764, \"Predict_T\": 9926.0, \"Predict_F\": 41634.0, \"error\": null}, {\"feature1\": \"AgeGroup\", \"feature2\": \"ObeseFlag\", \"precision\": 0.1291131621187801, \"recall\": 0.5053003533568905, \"f1\": 0.2056731921369773, \"threshold\": 0.09822463571922131, \"Predict_T\": 9191.0, \"Predict_F\": 37337.0, \"error\": null}, {\"feature1\": \"AgeGroup\", \"feature2\": \"OtherCancer\", \"precision\": 0.12744498777506114, \"recall\": 0.4580739655803735, \"f1\": 0.1994102175478351, \"threshold\": 0.09825492167530513, \"Predict_T\": 9680.0, \"Predict_F\": 42304.0, \"error\": null}, {\"feature1\": \"AgeGroup\", \"feature2\": \"Race\", \"precision\": 0.12794133741928423, \"recall\": 0.4357062989191204, \"f1\": 0.19780033837438254, \"threshold\": 0.10062544110164467, \"Predict_T\": 9104.0, \"Predict_F\": 41771.0, \"error\": null}, {\"feature1\": \"AgeGroup\", \"feature2\": \"Sex\", \"precision\": 0.13985711192898895, \"recall\": 0.4703312704768839, \"f1\": 0.2156028368440988, \"threshold\": 0.10132094220127084, \"Predict_T\": 8705.0, \"Predict_F\": 43425.0, \"error\": null}, {\"feature1\": \"AgeGroup\", \"feature2\": \"SkinCancer\", \"precision\": 0.13262536873156341, \"recall\": 0.4117216117216117, \"f1\": 0.2006247210697928, \"threshold\": 0.10570180868076326, \"Predict_T\": 8285.0, \"Predict_F\": 43709.0, \"error\": null}, {\"feature1\": \"AgeGroup\", \"feature2\": \"SmokelessTobacco\", \"precision\": 0.1276988174026256, \"recall\": 0.444318610796527, \"f1\": 0.1983819315345082, \"threshold\": 0.10152834579077999, \"Predict_T\": 9210.0, \"Predict_F\": 40178.0, \"error\": null}, {\"feature1\": \"AgeGroup\", \"feature2\": \"SmokingFrequency\", \"precision\": 0.12801580698835274, \"recall\": 0.46859535591929957, \"f1\": 0.20109450294758932, \"threshold\": 0.09962951597420121, \"Predict_T\": 8735.0, \"Predict_F\": 40405.0, \"error\": null}, {\"feature1\": \"AgeGroup\", \"feature2\": \"SmokingQuantity\", \"precision\": 0.11562150055991041, \"recall\": 0.34245439469320066, \"f1\": 0.17287568016318136, \"threshold\": 0.10287816349643164, \"Predict_T\": 3564.0, \"Predict_F\": 27128.0, \"error\": null}, {\"feature1\": \"AgeGroup\", \"feature2\": \"Stroke\", \"precision\": 0.13978980675782574, \"recall\": 0.4526161727039883, \"f1\": 0.21360732167003807, \"threshold\": 0.10426431215159221, \"Predict_T\": 8074.0, \"Predict_F\": 43948.0, \"error\": null}, {\"feature1\": \"AgeGroup\", \"feature2\": \"Unnamed: 0\", \"precision\": 0.12691259693984488, \"recall\": 0.44084455769930836, \"f1\": 0.1970868255816917, \"threshold\": 0.10192800665878703, \"Predict_T\": 8527.0, \"Predict_F\": 43603.0, \"error\": null}, {\"feature1\": \"AgeGroup\", \"feature2\": \"WeightKg\", \"precision\": 0.14660862238449657, \"recall\": 0.40622568093385214, \"f1\": 0.21545764107133528, \"threshold\": 0.11240328405447113, \"Predict_T\": 7106.0, \"Predict_F\": 40159.0, \"error\": null}, {\"feature1\": \"Arthritis\", \"feature2\": \"AsthmaStatus\", \"precision\": 0.09716722509899482, \"recall\": 0.5903034789045152, \"f1\": 0.16686718624972435, \"threshold\": 0.09121184706114634, \"Predict_T\": 3054.0, \"Predict_F\": 48392.0, \"error\": null}, {\"feature1\": \"Arthritis\", \"feature2\": \"AvgDrinksPerDay\", \"precision\": 0.11285229797684482, \"recall\": 0.3749028749028749, \"f1\": 0.17348314603184806, \"threshold\": 0.1095292407161595, \"Predict_T\": 0.0, \"Predict_F\": 47762.0, \"error\": null}, {\"feature1\": \"Arthritis\", \"feature2\": \"AvoidedCareCost\", \"precision\": 0.09736013562605958, \"recall\": 0.5911764705882353, \"f1\": 0.16718652524084646, \"threshold\": 0.09716988695582446, \"Predict_T\": 1224.0, \"Predict_F\": 50460.0, \"error\": null}, {\"feature1\": \"Arthritis\", \"feature2\": \"BMI\", \"precision\": 0.10624214495182237, \"recall\": 0.500394632991318, \"f1\": 0.17527126958199993, \"threshold\": 0.09493896356748999, \"Predict_T\": 11929.0, \"Predict_F\": 34353.0, \"error\": null}, {\"feature1\": \"Arthritis\", \"feature2\": \"CheckupRecency\", \"precision\": 0.10233693756539937, \"recall\": 0.5439377085650723, \"f1\": 0.17226397366991622, \"threshold\": 0.1029332669384502, \"Predict_T\": 0.0, \"Predict_F\": 51175.0, \"error\": null}, {\"feature1\": \"Arthritis\", \"feature2\": \"Depression\", \"precision\": 0.09752989014990593, \"recall\": 0.5914611704085388, \"f1\": 0.16744816085930606, \"threshold\": 0.0922494966545322, \"Predict_T\": 4510.0, \"Predict_F\": 47083.0, \"error\": null}, {\"feature1\": \"Arthritis\", \"feature2\": \"Diabetes\", \"precision\": 0.17016914402870323, \"recall\": 0.2436697247706422, \"f1\": 0.20039233434119547, \"threshold\": 0.16337064676616925, \"Predict_T\": 0.0, \"Predict_F\": 51737.0, \"error\": null}, {\"feature1\": \"Arthritis\", \"feature2\": \"DrankAlcohol\", \"precision\": 0.11259294228726544, \"recall\": 0.3680555555555556, \"f1\": 0.17243560773637923, \"threshold\": 0.11629394829441354, \"Predict_T\": 0.0, \"Predict_F\": 48254.0, \"error\": null}, {\"feature1\": \"Arthritis\", \"feature2\": \"DrinksPerWeek\", \"precision\": 0.10866429464371574, \"recall\": 0.439005439005439, \"f1\": 0.17420797036825272, \"threshold\": 0.10094812337270169, \"Predict_T\": 10096.0, \"Predict_F\": 37666.0, \"error\": null}, {\"feature1\": \"Arthritis\", \"feature2\": \"ECigUse\", \"precision\": 0.09872756933115824, \"recall\": 0.5755039939140357, \"f1\": 0.1685418290938617, \"threshold\": 0.0988086251124473, \"Predict_T\": 0.0, \"Predict_F\": 48998.0, \"error\": null}, {\"feature1\": \"Arthritis\", \"feature2\": \"Education\", \"precision\": 0.10599866907500713, \"recall\": 0.4091743119266055, \"f1\": 0.16837813346172875, \"threshold\": 0.09610878246973208, \"Predict_T\": 5587.0, \"Predict_F\": 45993.0, \"error\": null}, {\"feature1\": \"Arthritis\", \"feature2\": \"EverSmoked100Cigs\", \"precision\": 0.12362847665220719, \"recall\": 0.3699885452462772, \"f1\": 0.18533040065098857, \"threshold\": 0.1190088969673778, \"Predict_T\": 0.0, \"Predict_F\": 48942.0, \"error\": null}, {\"feature1\": \"Arthritis\", \"feature2\": \"ExercisedPastMonth\", \"precision\": 0.12797562369072557, \"recall\": 0.24742268041237114, \"f1\": 0.16869587042073306, \"threshold\": 0.12809125333083998, \"Predict_T\": 0.0, \"Predict_F\": 51732.0, \"error\": null}, {\"feature1\": \"Arthritis\", \"feature2\": \"GeneralHealth\", \"precision\": 0.18286350148367952, \"recall\": 0.36236677692024993, \"f1\": 0.24306668305661508, \"threshold\": 0.15450790067118805, \"Predict_T\": 2100.0, \"Predict_F\": 49610.0, \"error\": null}, {\"feature1\": \"Arthritis\", \"feature2\": \"HeartAttack\", \"precision\": 0.4734565473849784, \"recall\": 0.44925373134328356, \"f1\": 0.46103771773674695, \"threshold\": 0.4367047660125083, \"Predict_T\": 1411.0, \"Predict_F\": 50185.0, \"error\": null}, {\"feature1\": \"Arthritis\", \"feature2\": \"HeightCm\", \"precision\": 0.1037985488689714, \"recall\": 0.46253328261696464, \"f1\": 0.1695482431379371, \"threshold\": 0.09195083540627547, \"Predict_T\": 10210.0, \"Predict_F\": 38740.0, \"error\": null}, {\"feature1\": \"Arthritis\", \"feature2\": \"HighBloodPressure\", \"precision\": 0.13231024471173786, \"recall\": 0.46963562753036436, \"f1\": 0.2064557883323389, \"threshold\": 0.13564283350726705, \"Predict_T\": 0.0, \"Predict_F\": 51633.0, \"error\": null}, {\"feature1\": \"Arthritis\", \"feature2\": \"HighCholesterol\", \"precision\": 0.13843443241882708, \"recall\": 0.43103448275862066, \"f1\": 0.20956372638728094, \"threshold\": 0.13885898815931116, \"Predict_T\": 0.0, \"Predict_F\": 44242.0, \"error\": null}, {\"feature1\": \"Arthritis\", \"feature2\": \"Income\", \"precision\": 0.11342592592592593, \"recall\": 0.46603260869565216, \"f1\": 0.18244680847915254, \"threshold\": 0.088218051348968, \"Predict_T\": 6766.0, \"Predict_F\": 34061.0, \"error\": null}, {\"feature1\": \"Arthritis\", \"feature2\": \"MaritalStatus\", \"precision\": 0.10198123044838374, \"recall\": 0.5407298193881312, \"f1\": 0.17159901740223982, \"threshold\": 0.09172703230999195, \"Predict_T\": 5814.0, \"Predict_F\": 45464.0, \"error\": null}, {\"feature1\": \"Arthritis\", \"feature2\": \"ObeseFlag\", \"precision\": 0.10674206945303526, \"recall\": 0.47671665351223363, \"f1\": 0.17442783911529258, \"threshold\": 0.10374929073370855, \"Predict_T\": 0.0, \"Predict_F\": 46282.0, \"error\": null}, {\"feature1\": \"Arthritis\", \"feature2\": \"OtherCancer\", \"precision\": 0.09726683231319314, \"recall\": 0.5913780397936624, \"f1\": 0.16705698670485908, \"threshold\": 0.08956349415127744, \"Predict_T\": 2529.0, \"Predict_F\": 49165.0, \"error\": null}, {\"feature1\": \"Arthritis\", \"feature2\": \"Race\", \"precision\": 0.09865208048446962, \"recall\": 0.5678410794602698, \"f1\": 0.16809986127852325, \"threshold\": 0.08190171793847194, \"Predict_T\": 14197.0, \"Predict_F\": 36400.0, \"error\": null}, {\"feature1\": \"Arthritis\", \"feature2\": \"Sex\", \"precision\": 0.12979214780600462, \"recall\": 0.3087912087912088, \"f1\": 0.18276422760060493, \"threshold\": 0.12979945964458317, \"Predict_T\": 0.0, \"Predict_F\": 51833.0, \"error\": null}, {\"feature1\": \"Arthritis\", \"feature2\": \"SkinCancer\", \"precision\": 0.09586926434578942, \"recall\": 0.6633517495395949, \"f1\": 0.16752709174110814, \"threshold\": 0.07765830346475508, \"Predict_T\": 16504.0, \"Predict_F\": 35203.0, \"error\": null}, {\"feature1\": \"Arthritis\", \"feature2\": \"SmokelessTobacco\", \"precision\": 0.09846055163566389, \"recall\": 0.5827638572513287, \"f1\": 0.1684591746899331, \"threshold\": 0.09694520086167899, \"Predict_T\": 15429.0, \"Predict_F\": 33683.0, \"error\": null}, {\"feature1\": \"Arthritis\", \"feature2\": \"SmokingFrequency\", \"precision\": 0.09766440913981897, \"recall\": 0.5907350689127105, \"f1\": 0.16761718535395762, \"threshold\": 0.09788225163491417, \"Predict_T\": 2288.0, \"Predict_F\": 46584.0, \"error\": null}, {\"feature1\": \"Arthritis\", \"feature2\": \"SmokingQuantity\", \"precision\": 0.07619932628644442, \"recall\": 0.5462114904246461, \"f1\": 0.13374108050858377, \"threshold\": 0.07818001106942334, \"Predict_T\": 625.0, \"Predict_F\": 29907.0, \"error\": null}, {\"feature1\": \"Arthritis\", \"feature2\": \"Stroke\", \"precision\": 0.10043165467625899, \"recall\": 0.6424889543446245, \"f1\": 0.17370962120005137, \"threshold\": 0.08594957072999798, \"Predict_T\": 1931.0, \"Predict_F\": 49803.0, \"error\": null}, {\"feature1\": \"Arthritis\", \"feature2\": \"Unnamed: 0\", \"precision\": 0.0975315347938922, \"recall\": 0.591941391941392, \"f1\": 0.16746981706467878, \"threshold\": 0.09758230681430768, \"Predict_T\": 0.0, \"Predict_F\": 51833.0, \"error\": null}, {\"feature1\": \"Arthritis\", \"feature2\": \"WeightKg\", \"precision\": 0.1088880693343168, \"recall\": 0.4618693781775518, \"f1\": 0.17622920238649287, \"threshold\": 0.09376059575328205, \"Predict_T\": 10747.0, \"Predict_F\": 36267.0, \"error\": null}, {\"feature1\": \"AsthmaStatus\", \"feature2\": \"AvgDrinksPerDay\", \"precision\": 0.06708906444239483, \"recall\": 0.6530054644808743, \"f1\": 0.1216771518795352, \"threshold\": 0.05912838341670279, \"Predict_T\": 4794.0, \"Predict_F\": 42881.0, \"error\": null}, {\"feature1\": \"AsthmaStatus\", \"feature2\": \"AvoidedCareCost\", \"precision\": 0.07764098490865766, \"recall\": 0.14433370247323735, \"f1\": 0.10096836664269948, \"threshold\": 0.08011526631506373, \"Predict_T\": 606.0, \"Predict_F\": 50978.0, \"error\": null}, {\"feature1\": \"AsthmaStatus\", \"feature2\": \"BMI\", \"precision\": 0.06204379562043796, \"recall\": 0.6678571428571428, \"f1\": 0.1135397692619187, \"threshold\": 0.04905725183147407, \"Predict_T\": 27106.0, \"Predict_F\": 19071.0, \"error\": null}, {\"feature1\": \"AsthmaStatus\", \"feature2\": \"CheckupRecency\", \"precision\": 0.06117576092693593, \"recall\": 0.905842947525121, \"f1\": 0.11461129160184107, \"threshold\": 0.05769167003122133, \"Predict_T\": 5592.0, \"Predict_F\": 45486.0, \"error\": null}, {\"feature1\": \"AsthmaStatus\", \"feature2\": \"Depression\", \"precision\": 0.07059270516717325, \"recall\": 0.34318433690432215, \"f1\": 0.11709838025782858, \"threshold\": 0.06245744723062103, \"Predict_T\": 5597.0, \"Predict_F\": 45898.0, \"error\": null}, {\"feature1\": \"AsthmaStatus\", \"feature2\": \"Diabetes\", \"precision\": 0.12496960855823, \"recall\": 0.37877671333824614, \"f1\": 0.1879341864343563, \"threshold\": 0.11710228743814509, \"Predict_T\": 1403.0, \"Predict_F\": 50232.0, \"error\": null}, {\"feature1\": \"AsthmaStatus\", \"feature2\": \"DrankAlcohol\", \"precision\": 0.06724920757303178, \"recall\": 0.6087630864676231, \"f1\": 0.12111861136106118, \"threshold\": 0.06256273585822925, \"Predict_T\": 3380.0, \"Predict_F\": 44778.0, \"error\": null}, {\"feature1\": \"AsthmaStatus\", \"feature2\": \"DrinksPerWeek\", \"precision\": 0.06496308915388983, \"recall\": 0.6697892271662763, \"f1\": 0.11843876176046188, \"threshold\": 0.052291713038544796, \"Predict_T\": 6272.0, \"Predict_F\": 41403.0, \"error\": null}, {\"feature1\": \"AsthmaStatus\", \"feature2\": \"ECigUse\", \"precision\": 0.05463838159189085, \"recall\": 0.9766819571865444, \"f1\": 0.10348738303504634, \"threshold\": 0.050751629594044376, \"Predict_T\": 6425.0, \"Predict_F\": 42474.0, \"error\": null}, {\"feature1\": \"AsthmaStatus\", \"feature2\": \"Education\", \"precision\": 0.064, \"recall\": 0.47752394988946206, \"f1\": 0.11287232187429676, \"threshold\": 0.05511301757930651, \"Predict_T\": 8721.0, \"Predict_F\": 42749.0, \"error\": null}, {\"feature1\": \"AsthmaStatus\", \"feature2\": \"EverSmoked100Cigs\", \"precision\": 0.0768256862149296, \"recall\": 0.5818948983505946, \"f1\": 0.13573122173933747, \"threshold\": 0.07232811258248951, \"Predict_T\": 2846.0, \"Predict_F\": 45992.0, \"error\": null}, {\"feature1\": \"AsthmaStatus\", \"feature2\": \"ExercisedPastMonth\", \"precision\": 0.08061159141850785, \"recall\": 0.37199852234946434, \"f1\": 0.13250871764951808, \"threshold\": 0.07415723727902233, \"Predict_T\": 1999.0, \"Predict_F\": 49637.0, \"error\": null}, {\"feature1\": \"AsthmaStatus\", \"feature2\": \"GeneralHealth\", \"precision\": 0.15036426609339543, \"recall\": 0.46440427886388785, \"f1\": 0.22717430526799123, \"threshold\": 0.11617597253530854, \"Predict_T\": 3434.0, \"Predict_F\": 48175.0, \"error\": null}, {\"feature1\": \"AsthmaStatus\", \"feature2\": \"HeartAttack\", \"precision\": 0.4715415019762846, \"recall\": 0.4471514242878561, \"f1\": 0.45902270098889636, \"threshold\": 0.4764216041729427, \"Predict_T\": 451.0, \"Predict_F\": 51041.0, \"error\": null}, {\"feature1\": \"AsthmaStatus\", \"feature2\": \"HeightCm\", \"precision\": 0.0625522736276797, \"recall\": 0.5429881543752388, \"f1\": 0.11218125836941134, \"threshold\": 0.0515966487356876, \"Predict_T\": 19656.0, \"Predict_F\": 29187.0, \"error\": null}, {\"feature1\": \"AsthmaStatus\", \"feature2\": \"HighBloodPressure\", \"precision\": 0.09831073043064478, \"recall\": 0.7632065016623568, \"f1\": 0.17418430147206734, \"threshold\": 0.09510768719464657, \"Predict_T\": 3198.0, \"Predict_F\": 48335.0, \"error\": null}, {\"feature1\": \"AsthmaStatus\", \"feature2\": \"HighCholesterol\", \"precision\": 0.10105537902859736, \"recall\": 0.7003539127015336, \"f1\": 0.17662517972705571, \"threshold\": 0.0972858455247134, \"Predict_T\": 2573.0, \"Predict_F\": 41598.0, \"error\": null}, {\"feature1\": \"AsthmaStatus\", \"feature2\": \"Income\", \"precision\": 0.08489513609995537, \"recall\": 0.34606639381537063, \"f1\": 0.13634327686525452, \"threshold\": 0.06555200717553887, \"Predict_T\": 8322.0, \"Predict_F\": 32394.0, \"error\": null}, {\"feature1\": \"AsthmaStatus\", \"feature2\": \"MaritalStatus\", \"precision\": 0.10739409098014695, \"recall\": 0.2542561065877128, \"f1\": 0.15100560496978513, \"threshold\": 0.09845043494480264, \"Predict_T\": 1616.0, \"Predict_F\": 49552.0, \"error\": null}, {\"feature1\": \"AsthmaStatus\", \"feature2\": \"ObeseFlag\", \"precision\": 0.06071015990758193, \"recall\": 0.7924603174603174, \"f1\": 0.11278025638255675, \"threshold\": 0.056378149772313924, \"Predict_T\": 5767.0, \"Predict_F\": 40410.0, \"error\": null}, {\"feature1\": \"AsthmaStatus\", \"feature2\": \"OtherCancer\", \"precision\": 0.08966840814585776, \"recall\": 0.3111357750647429, \"f1\": 0.1392153616603496, \"threshold\": 0.06879649567472279, \"Predict_T\": 4905.0, \"Predict_F\": 46687.0, \"error\": null}, {\"feature1\": \"AsthmaStatus\", \"feature2\": \"Race\", \"precision\": 0.057817034700315455, \"recall\": 0.8625753012048193, \"f1\": 0.1083701899080478, \"threshold\": 0.054658426313451115, \"Predict_T\": 6591.0, \"Predict_F\": 43901.0, \"error\": null}, {\"feature1\": \"AsthmaStatus\", \"feature2\": \"Sex\", \"precision\": 0.06622299803622081, \"recall\": 0.6697315189407871, \"f1\": 0.12052817948522793, \"threshold\": 0.06295012222111465, \"Predict_T\": 6066.0, \"Predict_F\": 45666.0, \"error\": null}, {\"feature1\": \"AsthmaStatus\", \"feature2\": \"SkinCancer\", \"precision\": 0.11066610455311973, \"recall\": 0.19430051813471502, \"f1\": 0.14101531018744293, \"threshold\": 0.10608205713036233, \"Predict_T\": 647.0, \"Predict_F\": 50955.0, \"error\": null}, {\"feature1\": \"AsthmaStatus\", \"feature2\": \"SmokelessTobacco\", \"precision\": 0.053999580096577786, \"recall\": 0.9813048454788249, \"f1\": 0.102366122057335, \"threshold\": 0.04978085355855041, \"Predict_T\": 6725.0, \"Predict_F\": 42286.0, \"error\": null}, {\"feature1\": \"AsthmaStatus\", \"feature2\": \"SmokingFrequency\", \"precision\": 0.06452833759106821, \"recall\": 0.2623076923076923, \"f1\": 0.10357658133363698, \"threshold\": 0.05225043503792147, \"Predict_T\": 6700.0, \"Predict_F\": 42070.0, \"error\": null}, {\"feature1\": \"AsthmaStatus\", \"feature2\": \"SmokingQuantity\", \"precision\": 0.06403810531886743, \"recall\": 0.20251046025104602, \"f1\": 0.0973059911174949, \"threshold\": 0.05141053482930588, \"Predict_T\": 3522.0, \"Predict_F\": 26967.0, \"error\": null}, {\"feature1\": \"AsthmaStatus\", \"feature2\": \"Stroke\", \"precision\": 0.2018681888946549, \"recall\": 0.14380776340110907, \"f1\": 0.16796200340564202, \"threshold\": 0.20241416529487768, \"Predict_T\": 409.0, \"Predict_F\": 51223.0, \"error\": null}, {\"feature1\": \"AsthmaStatus\", \"feature2\": \"Unnamed: 0\", \"precision\": 0.07754698318496538, \"recall\": 0.14417065097462303, \"f1\": 0.10084898374664228, \"threshold\": 0.08106893090540643, \"Predict_T\": 0.0, \"Predict_F\": 51732.0, \"error\": null}, {\"feature1\": \"AsthmaStatus\", \"feature2\": \"WeightKg\", \"precision\": 0.06464713439144669, \"recall\": 0.6136900078678206, \"f1\": 0.11697221908072027, \"threshold\": 0.0499718849721607, \"Predict_T\": 23783.0, \"Predict_F\": 23124.0, \"error\": null}, {\"feature1\": \"AvgDrinksPerDay\", \"feature2\": \"AvoidedCareCost\", \"precision\": 0.06767394616556628, \"recall\": 0.6192873741285825, \"f1\": 0.12201449826533657, \"threshold\": 0.058543074518544194, \"Predict_T\": 21752.0, \"Predict_F\": 26153.0, \"error\": null}, {\"feature1\": \"AvgDrinksPerDay\", \"feature2\": \"BMI\", \"precision\": 0.07529516596123859, \"recall\": 0.5502645502645502, \"f1\": 0.13246460586722905, \"threshold\": 0.06027745636620862, \"Predict_T\": 17954.0, \"Predict_F\": 26582.0, \"error\": null}, {\"feature1\": \"AvgDrinksPerDay\", \"feature2\": \"CheckupRecency\", \"precision\": 0.07610082961072112, \"recall\": 0.5592028135990621, \"f1\": 0.13396994801991793, \"threshold\": 0.07364839103048745, \"Predict_T\": 0.0, \"Predict_F\": 47460.0, \"error\": null}, {\"feature1\": \"AvgDrinksPerDay\", \"feature2\": \"Depression\", \"precision\": 0.0943664836282286, \"recall\": 0.18005432673651534, \"f1\": 0.12383239920761052, \"threshold\": 0.08413616742801067, \"Predict_T\": 0.0, \"Predict_F\": 47814.0, \"error\": null}, {\"feature1\": \"AvgDrinksPerDay\", \"feature2\": \"Diabetes\", \"precision\": 0.13001938521185266, \"recall\": 0.36339009287925694, \"f1\": 0.19151539869665338, \"threshold\": 0.10989448746388107, \"Predict_T\": 6499.0, \"Predict_F\": 41443.0, \"error\": null}, {\"feature1\": \"AvgDrinksPerDay\", \"feature2\": \"DrankAlcohol\", \"precision\": null, \"recall\": null, \"f1\": null, \"threshold\": null, \"Predict_T\": null, \"Predict_F\": null, \"error\": \"Singular matrix\"}, {\"feature1\": \"AvgDrinksPerDay\", \"feature2\": \"DrinksPerWeek\", \"precision\": 0.06767868437697659, \"recall\": 0.6199304750869061, \"f1\": 0.12203467151509903, \"threshold\": 0.06511551454676584, \"Predict_T\": 1.0, \"Predict_F\": 48032.0, \"error\": null}, {\"feature1\": \"AvgDrinksPerDay\", \"feature2\": \"ECigUse\", \"precision\": 0.06899272376610853, \"recall\": 0.6084267491302667, \"f1\": 0.12393212863805737, \"threshold\": 0.06527637080291189, \"Predict_T\": 0.0, \"Predict_F\": 47974.0, \"error\": null}, {\"feature1\": \"AvgDrinksPerDay\", \"feature2\": \"Education\", \"precision\": 0.07222393109812365, \"recall\": 0.4541586073500967, \"f1\": 0.1246284500824807, \"threshold\": 0.06381816018671152, \"Predict_T\": 9534.0, \"Predict_F\": 38330.0, \"error\": null}, {\"feature1\": \"AvgDrinksPerDay\", \"feature2\": \"EverSmoked100Cigs\", \"precision\": 0.09960247349823322, \"recall\": 0.35097276264591437, \"f1\": 0.15516944775499938, \"threshold\": 0.09473627268471412, \"Predict_T\": 0.0, \"Predict_F\": 47729.0, \"error\": null}, {\"feature1\": \"AvgDrinksPerDay\", \"feature2\": \"ExercisedPastMonth\", \"precision\": 0.08975057183313365, \"recall\": 0.3198757763975155, \"f1\": 0.14017181250299246, \"threshold\": 0.07998345063094604, \"Predict_T\": 7366.0, \"Predict_F\": 40577.0, \"error\": null}, {\"feature1\": \"AvgDrinksPerDay\", \"feature2\": \"GeneralHealth\", \"precision\": 0.1591317572238352, \"recall\": 0.4457784663051898, \"f1\": 0.2345389709240395, \"threshold\": 0.09969339665318057, \"Predict_T\": 7228.0, \"Predict_F\": 40702.0, \"error\": null}, {\"feature1\": \"AvgDrinksPerDay\", \"feature2\": \"HeartAttack\", \"precision\": 0.47333333333333333, \"recall\": 0.4474202441906262, \"f1\": 0.4600121481581789, \"threshold\": 0.20556226773786726, \"Predict_T\": 2399.0, \"Predict_F\": 45402.0, \"error\": null}, {\"feature1\": \"AvgDrinksPerDay\", \"feature2\": \"HeightCm\", \"precision\": 0.06790535528853286, \"recall\": 0.7191673212882954, \"f1\": 0.12409352760199022, \"threshold\": 0.05500552875921882, \"Predict_T\": 26199.0, \"Predict_F\": 20795.0, \"error\": null}, {\"feature1\": \"AvgDrinksPerDay\", \"feature2\": \"HighBloodPressure\", \"precision\": 0.11635249326771288, \"recall\": 0.48584722760759985, \"f1\": 0.18774348213843714, \"threshold\": 0.11431074596046278, \"Predict_T\": 0.0, \"Predict_F\": 47858.0, \"error\": null}, {\"feature1\": \"AvgDrinksPerDay\", \"feature2\": \"HighCholesterol\", \"precision\": 0.12439418416801293, \"recall\": 0.444903012794057, \"f1\": 0.1944269095158524, \"threshold\": 0.11730148285117033, \"Predict_T\": 0.0, \"Predict_F\": 41144.0, \"error\": null}, {\"feature1\": \"AvgDrinksPerDay\", \"feature2\": \"Income\", \"precision\": 0.08397675023857032, \"recall\": 0.45275958840037417, \"f1\": 0.14167581409727784, \"threshold\": 0.0647634700207959, \"Predict_T\": 8691.0, \"Predict_F\": 30413.0, \"error\": null}, {\"feature1\": \"AvgDrinksPerDay\", \"feature2\": \"MaritalStatus\", \"precision\": 0.09975874547647769, \"recall\": 0.3212898212898213, \"f1\": 0.15224594989020354, \"threshold\": 0.06831634566681631, \"Predict_T\": 8247.0, \"Predict_F\": 39376.0, \"error\": null}, {\"feature1\": \"AvgDrinksPerDay\", \"feature2\": \"ObeseFlag\", \"precision\": 0.07736598279285242, \"recall\": 0.4757834757834758, \"f1\": 0.13309045366752031, \"threshold\": 0.0733111133954906, \"Predict_T\": 0.0, \"Predict_F\": 44536.0, \"error\": null}, {\"feature1\": \"AvgDrinksPerDay\", \"feature2\": \"OtherCancer\", \"precision\": 0.10810810810810811, \"recall\": 0.19409937888198758, \"f1\": 0.13886960139829213, \"threshold\": 0.057823601687485265, \"Predict_T\": 4615.0, \"Predict_F\": 43288.0, \"error\": null}, {\"feature1\": \"AvgDrinksPerDay\", \"feature2\": \"Race\", \"precision\": 0.075199618639018, \"recall\": 0.4980268350434096, \"f1\": 0.13066887552079548, \"threshold\": 0.07230996973300811, \"Predict_T\": 0.0, \"Predict_F\": 47006.0, \"error\": null}, {\"feature1\": \"AvgDrinksPerDay\", \"feature2\": \"Sex\", \"precision\": 0.08064629434492449, \"recall\": 0.44341444573194283, \"f1\": 0.13647170705907533, \"threshold\": 0.06935491402032716, \"Predict_T\": 9666.0, \"Predict_F\": 38367.0, \"error\": null}, {\"feature1\": \"AvgDrinksPerDay\", \"feature2\": \"SkinCancer\", \"precision\": 0.1111111111111111, \"recall\": 0.1919937815779246, \"f1\": 0.1407607920891922, \"threshold\": 0.057666887724594135, \"Predict_T\": 4422.0, \"Predict_F\": 43491.0, \"error\": null}, {\"feature1\": \"AvgDrinksPerDay\", \"feature2\": \"SmokelessTobacco\", \"precision\": 0.06776224071648854, \"recall\": 0.6197836166924265, \"f1\": 0.12216763774452238, \"threshold\": 0.06402164655217224, \"Predict_T\": 568.0, \"Predict_F\": 47411.0, \"error\": null}, {\"feature1\": \"AvgDrinksPerDay\", \"feature2\": \"SmokingFrequency\", \"precision\": 0.06757043899536781, \"recall\": 0.6196414653156664, \"f1\": 0.12185308654394222, \"threshold\": 0.06395575746479798, \"Predict_T\": 2995.0, \"Predict_F\": 44696.0, \"error\": null}, {\"feature1\": \"AvgDrinksPerDay\", \"feature2\": \"SmokingQuantity\", \"precision\": 0.05033214103219213, \"recall\": 0.6644182124789207, \"f1\": 0.09357558483431323, \"threshold\": 0.03658324010536288, \"Predict_T\": 15649.0, \"Predict_F\": 14235.0, \"error\": null}, {\"feature1\": \"AvgDrinksPerDay\", \"feature2\": \"Stroke\", \"precision\": 0.20087815587266739, \"recall\": 0.1420256111757858, \"f1\": 0.16640145482758106, \"threshold\": 0.11943361759291056, \"Predict_T\": 1815.0, \"Predict_F\": 46117.0, \"error\": null}, {\"feature1\": \"AvgDrinksPerDay\", \"feature2\": \"Unnamed: 0\", \"precision\": 0.06768153833178712, \"recall\": 0.6199304750869061, \"f1\": 0.12203931108744884, \"threshold\": 0.06409819687740467, \"Predict_T\": 0.0, \"Predict_F\": 48033.0, \"error\": null}, {\"feature1\": \"AvgDrinksPerDay\", \"feature2\": \"WeightKg\", \"precision\": 0.07599712540424003, \"recall\": 0.5125201938610663, \"f1\": 0.1323667466135781, \"threshold\": 0.06089897982865759, \"Predict_T\": 16552.0, \"Predict_F\": 28565.0, \"error\": null}, {\"feature1\": \"AvoidedCareCost\", \"feature2\": \"BMI\", \"precision\": 0.06314118221787983, \"recall\": 0.6103896103896104, \"f1\": 0.1144438295347516, \"threshold\": 0.05200712544738638, \"Predict_T\": 24562.0, \"Predict_F\": 21849.0, \"error\": null}, {\"feature1\": \"AvoidedCareCost\", \"feature2\": \"CheckupRecency\", \"precision\": 0.06131131131131131, \"recall\": 0.9060650887573964, \"f1\": 0.11485092817113902, \"threshold\": 0.06140615299513094, \"Predict_T\": 2217.0, \"Predict_F\": 49099.0, \"error\": null}, {\"feature1\": \"AvoidedCareCost\", \"feature2\": \"Depression\", \"precision\": 0.07076405384006335, \"recall\": 0.26248164464023493, \"f1\": 0.11147489862573177, \"threshold\": 0.06888196607822777, \"Predict_T\": 8662.0, \"Predict_F\": 43068.0, \"error\": null}, {\"feature1\": \"AvoidedCareCost\", \"feature2\": \"Diabetes\", \"precision\": 0.12496972632598692, \"recall\": 0.37774524158125916, \"f1\": 0.18780709732387893, \"threshold\": 0.12429836799584701, \"Predict_T\": 649.0, \"Predict_F\": 51225.0, \"error\": null}, {\"feature1\": \"AvoidedCareCost\", \"feature2\": \"DrankAlcohol\", \"precision\": 0.06746607493385678, \"recall\": 0.6080769230769231, \"f1\": 0.12145655679234584, \"threshold\": 0.06568438446708887, \"Predict_T\": 21576.0, \"Predict_F\": 26822.0, \"error\": null}, {\"feature1\": \"AvoidedCareCost\", \"feature2\": \"DrinksPerWeek\", \"precision\": 0.06776388378080177, \"recall\": 0.570875290472502, \"f1\": 0.1211473658066242, \"threshold\": 0.05690077534654506, \"Predict_T\": 0.0, \"Predict_F\": 47905.0, \"error\": null}, {\"feature1\": \"AvoidedCareCost\", \"feature2\": \"ECigUse\", \"precision\": 0.05490631743115346, \"recall\": 0.9745923397800531, \"f1\": 0.10395599060554826, \"threshold\": 0.05327813845360827, \"Predict_T\": 43511.0, \"Predict_F\": 5632.0, \"error\": null}, {\"feature1\": \"AvoidedCareCost\", \"feature2\": \"Education\", \"precision\": 0.06526606954689146, \"recall\": 0.36273792093704244, \"f1\": 0.11062737215544317, \"threshold\": 0.06117058476948638, \"Predict_T\": 3048.0, \"Predict_F\": 48670.0, \"error\": null}, {\"feature1\": \"AvoidedCareCost\", \"feature2\": \"EverSmoked100Cigs\", \"precision\": 0.07810251300786007, \"recall\": 0.5371145793681005, \"f1\": 0.13637461941435752, \"threshold\": 0.07806789600211221, \"Predict_T\": 0.0, \"Predict_F\": 49079.0, \"error\": null}, {\"feature1\": \"AvoidedCareCost\", \"feature2\": \"ExercisedPastMonth\", \"precision\": 0.08050746030479534, \"recall\": 0.37054719059860447, \"f1\": 0.13227582587523623, \"threshold\": 0.077830676878493, \"Predict_T\": 11302.0, \"Predict_F\": 40576.0, \"error\": null}, {\"feature1\": \"AvoidedCareCost\", \"feature2\": \"GeneralHealth\", \"precision\": 0.1593551797040169, \"recall\": 0.44208211143695014, \"f1\": 0.23426573422678326, \"threshold\": 0.12557690610161767, \"Predict_T\": 2104.0, \"Predict_F\": 49752.0, \"error\": null}, {\"feature1\": \"AvoidedCareCost\", \"feature2\": \"HeartAttack\", \"precision\": 0.4716981132075472, \"recall\": 0.4467609828741623, \"f1\": 0.4588910133343581, \"threshold\": 0.4097826086956522, \"Predict_T\": 2339.0, \"Predict_F\": 49392.0, \"error\": null}, {\"feature1\": \"AvoidedCareCost\", \"feature2\": \"HeightCm\", \"precision\": 0.060431189695766586, \"recall\": 0.4965857359635812, \"f1\": 0.10774992795530297, \"threshold\": 0.05411385451397167, \"Predict_T\": 18225.0, \"Predict_F\": 30866.0, \"error\": null}, {\"feature1\": \"AvoidedCareCost\", \"feature2\": \"HighBloodPressure\", \"precision\": 0.0983909133932797, \"recall\": 0.763215859030837, \"f1\": 0.17431038817462116, \"threshold\": 0.10024248117914392, \"Predict_T\": 1473.0, \"Predict_F\": 50298.0, \"error\": null}, {\"feature1\": \"AvoidedCareCost\", \"feature2\": \"HighCholesterol\", \"precision\": 0.10140670018643015, \"recall\": 0.7019945248337895, \"f1\": 0.17721394014972602, \"threshold\": 0.10267252535588538, \"Predict_T\": 1090.0, \"Predict_F\": 43264.0, \"error\": null}, {\"feature1\": \"AvoidedCareCost\", \"feature2\": \"Income\", \"precision\": 0.07417631879013382, \"recall\": 0.5580135440180587, \"f1\": 0.1309460747753458, \"threshold\": 0.05651468249541838, \"Predict_T\": 11514.0, \"Predict_F\": 29400.0, \"error\": null}, {\"feature1\": \"AvoidedCareCost\", \"feature2\": \"MaritalStatus\", \"precision\": 0.104404309252218, \"recall\": 0.24236851783744023, \"f1\": 0.14594175613109556, \"threshold\": 0.07137573964497042, \"Predict_T\": 5666.0, \"Predict_F\": 45752.0, \"error\": null}, {\"feature1\": \"AvoidedCareCost\", \"feature2\": \"ObeseFlag\", \"precision\": 0.061074918566775244, \"recall\": 0.7674144037780402, \"f1\": 0.1131451448991634, \"threshold\": 0.05703422053231935, \"Predict_T\": 29541.0, \"Predict_F\": 16870.0, \"error\": null}, {\"feature1\": \"AvoidedCareCost\", \"feature2\": \"OtherCancer\", \"precision\": 0.10715009114847072, \"recall\": 0.1944138184490996, \"f1\": 0.13815617650158815, \"threshold\": 0.10780216873842896, \"Predict_T\": 275.0, \"Predict_F\": 51558.0, \"error\": null}, {\"feature1\": \"AvoidedCareCost\", \"feature2\": \"Race\", \"precision\": 0.058099512624941486, \"recall\": 0.7890800299177263, \"f1\": 0.1082301043702874, \"threshold\": 0.05800063744578252, \"Predict_T\": 252.0, \"Predict_F\": 50487.0, \"error\": null}, {\"feature1\": \"AvoidedCareCost\", \"feature2\": \"Sex\", \"precision\": 0.06621603593187175, \"recall\": 0.5440263061746438, \"f1\": 0.11806216299999989, \"threshold\": 0.06612277562271454, \"Predict_T\": 0.0, \"Predict_F\": 51977.0, \"error\": null}, {\"feature1\": \"AvoidedCareCost\", \"feature2\": \"SkinCancer\", \"precision\": 0.11052852348993289, \"recall\": 0.19375, \"f1\": 0.14075854696228723, \"threshold\": 0.11123589496764534, \"Predict_T\": 188.0, \"Predict_F\": 51655.0, \"error\": null}, {\"feature1\": \"AvoidedCareCost\", \"feature2\": \"SmokelessTobacco\", \"precision\": 0.054030041943015354, \"recall\": 0.9897804693414081, \"f1\": 0.10246664445247843, \"threshold\": 0.05085730935109693, \"Predict_T\": 44840.0, \"Predict_F\": 4416.0, \"error\": null}, {\"feature1\": \"AvoidedCareCost\", \"feature2\": \"SmokingFrequency\", \"precision\": 0.053755316163295264, \"recall\": 0.950381679389313, \"f1\": 0.10175517458785172, \"threshold\": 0.052749619768404, \"Predict_T\": 6440.0, \"Predict_F\": 42570.0, \"error\": null}, {\"feature1\": \"AvoidedCareCost\", \"feature2\": \"SmokingQuantity\", \"precision\": 0.07539118065433854, \"recall\": 0.08803986710963455, \"f1\": 0.08122605359014622, \"threshold\": 0.03933577384379205, \"Predict_T\": 1364.0, \"Predict_F\": 29252.0, \"error\": null}, {\"feature1\": \"AvoidedCareCost\", \"feature2\": \"Stroke\", \"precision\": 0.20227038183694532, \"recall\": 0.14395886889460155, \"f1\": 0.1682042479668656, \"threshold\": 0.21365607947390508, \"Predict_T\": 176.0, \"Predict_F\": 51694.0, \"error\": null}, {\"feature1\": \"AvoidedCareCost\", \"feature2\": \"Unnamed: 0\", \"precision\": 0.05265790638166881, \"recall\": 1.0, \"f1\": 0.10004751982088649, \"threshold\": 0.051200312276364526, \"Predict_T\": 48074.0, \"Predict_F\": 3903.0, \"error\": null}, {\"feature1\": \"AvoidedCareCost\", \"feature2\": \"WeightKg\", \"precision\": 0.06489241778169877, \"recall\": 0.516380655226209, \"f1\": 0.11529585925651796, \"threshold\": 0.05363533035538827, \"Predict_T\": 20015.0, \"Predict_F\": 27130.0, \"error\": null}, {\"feature1\": \"BMI\", \"feature2\": \"CheckupRecency\", \"precision\": 0.071767309516282, \"recall\": 0.631056393963463, \"f1\": 0.12887789446237982, \"threshold\": 0.059995058165692616, \"Predict_T\": 22128.0, \"Predict_F\": 23888.0, \"error\": null}, {\"feature1\": \"BMI\", \"feature2\": \"Depression\", \"precision\": 0.07542857142857143, \"recall\": 0.260149783208514, \"f1\": 0.11694870201175239, \"threshold\": 0.06476678604083445, \"Predict_T\": 8700.0, \"Predict_F\": 37618.0, \"error\": null}, {\"feature1\": \"BMI\", \"feature2\": \"Diabetes\", \"precision\": 0.128135593220339, \"recall\": 0.3714622641509434, \"f1\": 0.19054340151443652, \"threshold\": 0.11797144163468473, \"Predict_T\": 7370.0, \"Predict_F\": 39084.0, \"error\": null}, {\"feature1\": \"BMI\", \"feature2\": \"DrankAlcohol\", \"precision\": 0.07689962190511038, \"recall\": 0.5097008892481811, \"f1\": 0.1336371343561925, \"threshold\": 0.06463578701642862, \"Predict_T\": 16396.0, \"Predict_F\": 28577.0, \"error\": null}, {\"feature1\": \"BMI\", \"feature2\": \"DrinksPerWeek\", \"precision\": 0.06660416581747035, \"recall\": 0.665038665038665, \"f1\": 0.12108188216203535, \"threshold\": 0.0531319976152526, \"Predict_T\": 24509.0, \"Predict_F\": 20027.0, \"error\": null}, {\"feature1\": \"BMI\", \"feature2\": \"ECigUse\", \"precision\": 0.06409572441124914, \"recall\": 0.670921420023933, \"f1\": 0.11701276564549458, \"threshold\": 0.05222124147380523, \"Predict_T\": 26237.0, \"Predict_F\": 19318.0, \"error\": null}, {\"feature1\": \"BMI\", \"feature2\": \"Education\", \"precision\": 0.07068706460866002, \"recall\": 0.4066797642436149, \"f1\": 0.12043986731636534, \"threshold\": 0.058922327193161365, \"Predict_T\": 14637.0, \"Predict_F\": 31785.0, \"error\": null}, {\"feature1\": \"BMI\", \"feature2\": \"EverSmoked100Cigs\", \"precision\": 0.08531065697435194, \"recall\": 0.49779911964785917, \"f1\": 0.14565891924204216, \"threshold\": 0.07152016421106819, \"Predict_T\": 14580.0, \"Predict_F\": 30928.0, \"error\": null}, {\"feature1\": \"BMI\", \"feature2\": \"ExercisedPastMonth\", \"precision\": 0.08593907605406496, \"recall\": 0.336094674556213, \"f1\": 0.1368784641012323, \"threshold\": 0.07934041042433797, \"Predict_T\": 9913.0, \"Predict_F\": 36528.0, \"error\": null}, {\"feature1\": \"BMI\", \"feature2\": \"GeneralHealth\", \"precision\": 0.1583458032920691, \"recall\": 0.458628841607565, \"f1\": 0.23541308520807713, \"threshold\": 0.11784800978890737, \"Predict_T\": 7347.0, \"Predict_F\": 39082.0, \"error\": null}, {\"feature1\": \"BMI\", \"feature2\": \"HeartAttack\", \"precision\": 0.47468354430379744, \"recall\": 0.4503602882305845, \"f1\": 0.4622021363510206, \"threshold\": 0.45976783178691016, \"Predict_T\": 2369.0, \"Predict_F\": 43943.0, \"error\": null}, {\"feature1\": \"BMI\", \"feature2\": \"HeightCm\", \"precision\": 0.06350818739587989, \"recall\": 0.6136631330977621, \"f1\": 0.11510420500546334, \"threshold\": 0.052126948699482346, \"Predict_T\": 24605.0, \"Predict_F\": 21923.0, \"error\": null}, {\"feature1\": \"BMI\", \"feature2\": \"HighBloodPressure\", \"precision\": 0.10263866451265483, \"recall\": 0.7521704814522494, \"f1\": 0.18062926457325876, \"threshold\": 0.09838140653187699, \"Predict_T\": 18563.0, \"Predict_F\": 27817.0, \"error\": null}, {\"feature1\": \"BMI\", \"feature2\": \"HighCholesterol\", \"precision\": 0.10919143054595715, \"recall\": 0.5954773869346733, \"f1\": 0.18454350785779028, \"threshold\": 0.1017202786312927, \"Predict_T\": 12964.0, \"Predict_F\": 26889.0, \"error\": null}, {\"feature1\": \"BMI\", \"feature2\": \"Income\", \"precision\": 0.08636249686638255, \"recall\": 0.3236261155472053, \"f1\": 0.1363411496649741, \"threshold\": 0.06772235326384178, \"Predict_T\": 7971.0, \"Predict_F\": 30583.0, \"error\": null}, {\"feature1\": \"BMI\", \"feature2\": \"MaritalStatus\", \"precision\": 0.09908095178144279, \"recall\": 0.3102089081592432, \"f1\": 0.15019083965796104, \"threshold\": 0.07023428618430423, \"Predict_T\": 7930.0, \"Predict_F\": 38311.0, \"error\": null}, {\"feature1\": \"BMI\", \"feature2\": \"ObeseFlag\", \"precision\": 0.06295573176076821, \"recall\": 0.6203376521397723, \"f1\": 0.11431051944499832, \"threshold\": 0.05725622095467794, \"Predict_T\": 25080.0, \"Predict_F\": 21448.0, \"error\": null}, {\"feature1\": \"BMI\", \"feature2\": \"OtherCancer\", \"precision\": 0.10768562744246635, \"recall\": 0.19581523884721674, \"f1\": 0.13895503567350434, \"threshold\": 0.09546833666548858, \"Predict_T\": 4604.0, \"Predict_F\": 41799.0, \"error\": null}, {\"feature1\": \"BMI\", \"feature2\": \"Race\", \"precision\": 0.068677421049866, \"recall\": 0.5244783306581059, \"f1\": 0.12145147049943346, \"threshold\": 0.05684434630460314, \"Predict_T\": 19029.0, \"Predict_F\": 26623.0, \"error\": null}, {\"feature1\": \"BMI\", \"feature2\": \"Sex\", \"precision\": 0.07176881549698316, \"recall\": 0.5323910482921084, \"f1\": 0.126486637729169, \"threshold\": 0.05984838318258401, \"Predict_T\": 18893.0, \"Predict_F\": 27635.0, \"error\": null}, {\"feature1\": \"BMI\", \"feature2\": \"SkinCancer\", \"precision\": 0.11318606240036438, \"recall\": 0.19628751974723538, \"f1\": 0.14357937305775087, \"threshold\": 0.09664872610989807, \"Predict_T\": 4387.0, \"Predict_F\": 42023.0, \"error\": null}, {\"feature1\": \"BMI\", \"feature2\": \"SmokelessTobacco\", \"precision\": 0.06367056514271693, \"recall\": 0.6200716845878136, \"f1\": 0.11548303354513498, \"threshold\": 0.05201352841435904, \"Predict_T\": 24447.0, \"Predict_F\": 21218.0, \"error\": null}, {\"feature1\": \"BMI\", \"feature2\": \"SmokingFrequency\", \"precision\": 0.061741230129452006, \"recall\": 0.7384677095868432, \"f1\": 0.11395499983101327, \"threshold\": 0.04990552804009995, \"Predict_T\": 29814.0, \"Predict_F\": 15641.0, \"error\": null}, {\"feature1\": \"BMI\", \"feature2\": \"SmokingQuantity\", \"precision\": 0.053171927673919706, \"recall\": 0.3062665489849956, \"f1\": 0.09061235145670729, \"threshold\": 0.04288601516285397, \"Predict_T\": 6499.0, \"Predict_F\": 21590.0, \"error\": null}, {\"feature1\": \"BMI\", \"feature2\": \"Stroke\", \"precision\": 0.20152091254752852, \"recall\": 0.14635108481262327, \"f1\": 0.16956124309568169, \"threshold\": 0.10699084938393674, \"Predict_T\": 1840.0, \"Predict_F\": 44590.0, \"error\": null}, {\"feature1\": \"BMI\", \"feature2\": \"Unnamed: 0\", \"precision\": 0.06295573176076821, \"recall\": 0.6203376521397723, \"f1\": 0.11431051944499832, \"threshold\": 0.05194078156466364, \"Predict_T\": 25080.0, \"Predict_F\": 21448.0, \"error\": null}, {\"feature1\": \"BMI\", \"feature2\": \"WeightKg\", \"precision\": 0.06525591577191703, \"recall\": 0.49155869650569295, \"f1\": 0.11521649102978415, \"threshold\": 0.05646331780175462, \"Predict_T\": 19178.0, \"Predict_F\": 27350.0, \"error\": null}, {\"feature1\": \"CheckupRecency\", \"feature2\": \"Depression\", \"precision\": 0.07775431623400819, \"recall\": 0.231680236861584, \"f1\": 0.11643262341629228, \"threshold\": 0.07785779192958643, \"Predict_T\": 0.0, \"Predict_F\": 51217.0, \"error\": null}, {\"feature1\": \"CheckupRecency\", \"feature2\": \"Diabetes\", \"precision\": 0.12696629213483146, \"recall\": 0.3754152823920266, \"f1\": 0.18975650709908837, \"threshold\": 0.09893667411083218, \"Predict_T\": 7522.0, \"Predict_F\": 43841.0, \"error\": null}, {\"feature1\": \"CheckupRecency\", \"feature2\": \"DrankAlcohol\", \"precision\": 0.07590865229977485, \"recall\": 0.5494761350407451, \"f1\": 0.13338985443677448, \"threshold\": 0.07817675511095187, \"Predict_T\": 0.0, \"Predict_F\": 47939.0, \"error\": null}, {\"feature1\": \"CheckupRecency\", \"feature2\": \"DrinksPerWeek\", \"precision\": 0.07609678277053974, \"recall\": 0.5592028135990621, \"f1\": 0.13396367719291816, \"threshold\": 0.06556217646181874, \"Predict_T\": 1.0, \"Predict_F\": 47459.0, \"error\": null}, {\"feature1\": \"CheckupRecency\", \"feature2\": \"ECigUse\", \"precision\": 0.0636373632415196, \"recall\": 0.8862940275650842, \"f1\": 0.11874839701237744, \"threshold\": 0.0634070583729912, \"Predict_T\": 0.0, \"Predict_F\": 48658.0, \"error\": null}, {\"feature1\": \"CheckupRecency\", \"feature2\": \"Education\", \"precision\": 0.06943790401986387, \"recall\": 0.5989660265878878, \"f1\": 0.12444853644510935, \"threshold\": 0.061261042305050036, \"Predict_T\": 12384.0, \"Predict_F\": 38835.0, \"error\": null}, {\"feature1\": \"CheckupRecency\", \"feature2\": \"EverSmoked100Cigs\", \"precision\": 0.08904153975763074, \"recall\": 0.528055342044581, \"f1\": 0.15238728994369705, \"threshold\": 0.08981568918029621, \"Predict_T\": 0.0, \"Predict_F\": 48605.0, \"error\": null}, {\"feature1\": \"CheckupRecency\", \"feature2\": \"ExercisedPastMonth\", \"precision\": 0.0923323966278603, \"recall\": 0.34061458718992965, \"f1\": 0.14528227394986226, \"threshold\": 0.09376098306891723, \"Predict_T\": 0.0, \"Predict_F\": 51362.0, \"error\": null}, {\"feature1\": \"CheckupRecency\", \"feature2\": \"GeneralHealth\", \"precision\": 0.16253290841069695, \"recall\": 0.4334811529933481, \"f1\": 0.23642043732806461, \"threshold\": 0.13163361306417956, \"Predict_T\": 1950.0, \"Predict_F\": 49395.0, \"error\": null}, {\"feature1\": \"CheckupRecency\", \"feature2\": \"HeartAttack\", \"precision\": 0.4706582077716098, \"recall\": 0.4452363090772693, \"f1\": 0.45759444867787197, \"threshold\": 0.27177507441395643, \"Predict_T\": 2519.0, \"Predict_F\": 48704.0, \"error\": null}, {\"feature1\": \"CheckupRecency\", \"feature2\": \"HeightCm\", \"precision\": 0.07245660633763666, \"recall\": 0.4490811638591118, \"f1\": 0.12478059675284167, \"threshold\": 0.0638806178089337, \"Predict_T\": 13329.0, \"Predict_F\": 35310.0, \"error\": null}, {\"feature1\": \"CheckupRecency\", \"feature2\": \"HighBloodPressure\", \"precision\": 0.10283361326326056, \"recall\": 0.7024426350851222, \"f1\": 0.17940356347316078, \"threshold\": 0.10567627537511345, \"Predict_T\": 0.0, \"Predict_F\": 51270.0, \"error\": null}, {\"feature1\": \"CheckupRecency\", \"feature2\": \"HighCholesterol\", \"precision\": 0.10595261028703526, \"recall\": 0.6498621504529343, \"f1\": 0.18219964661900315, \"threshold\": 0.10769002262423956, \"Predict_T\": 0.0, \"Predict_F\": 44199.0, \"error\": null}, {\"feature1\": \"CheckupRecency\", \"feature2\": \"Income\", \"precision\": 0.08239212279177527, \"recall\": 0.5182149362477231, \"f1\": 0.1421789105210551, \"threshold\": 0.0650178017827549, \"Predict_T\": 9440.0, \"Predict_F\": 31199.0, \"error\": null}, {\"feature1\": \"CheckupRecency\", \"feature2\": \"MaritalStatus\", \"precision\": 0.09490180903550353, \"recall\": 0.36387240356083084, \"f1\": 0.15054093451794204, \"threshold\": 0.07457043552599668, \"Predict_T\": 5218.0, \"Predict_F\": 45702.0, \"error\": null}, {\"feature1\": \"CheckupRecency\", \"feature2\": \"ObeseFlag\", \"precision\": 0.07072675921874379, \"recall\": 0.7061159650516283, \"f1\": 0.12857504427603317, \"threshold\": 0.06994783116670873, \"Predict_T\": 0.0, \"Predict_F\": 46016.0, \"error\": null}, {\"feature1\": \"CheckupRecency\", \"feature2\": \"OtherCancer\", \"precision\": 0.10683229813664596, \"recall\": 0.19111111111111112, \"f1\": 0.13705179278268598, \"threshold\": 0.06707289593832506, \"Predict_T\": 4728.0, \"Predict_F\": 46590.0, \"error\": null}, {\"feature1\": \"CheckupRecency\", \"feature2\": \"Race\", \"precision\": 0.06684233347786932, \"recall\": 0.755656108597285, \"f1\": 0.12282045780383981, \"threshold\": 0.06731919123825718, \"Predict_T\": 0.0, \"Predict_F\": 50262.0, \"error\": null}, {\"feature1\": \"CheckupRecency\", \"feature2\": \"Sex\", \"precision\": 0.07995240253853128, \"recall\": 0.5198968312453942, \"f1\": 0.13859149393623163, \"threshold\": 0.08092343861369969, \"Predict_T\": 0.0, \"Predict_F\": 51461.0, \"error\": null}, {\"feature1\": \"CheckupRecency\", \"feature2\": \"SkinCancer\", \"precision\": 0.11521173409037141, \"recall\": 0.18057100482017055, \"f1\": 0.14067013282361412, \"threshold\": 0.11680207234296616, \"Predict_T\": 0.0, \"Predict_F\": 51326.0, \"error\": null}, {\"feature1\": \"CheckupRecency\", \"feature2\": \"SmokelessTobacco\", \"precision\": 0.062384838115293495, \"recall\": 0.9056171188383645, \"f1\": 0.11672864283277098, \"threshold\": 0.06232616411842249, \"Predict_T\": 1076.0, \"Predict_F\": 47692.0, \"error\": null}, {\"feature1\": \"CheckupRecency\", \"feature2\": \"SmokingFrequency\", \"precision\": 0.06217424663333069, \"recall\": 0.9052388289676425, \"f1\": 0.11635679448206789, \"threshold\": 0.06085760524940032, \"Predict_T\": 4458.0, \"Predict_F\": 44079.0, \"error\": null}, {\"feature1\": \"CheckupRecency\", \"feature2\": \"SmokingQuantity\", \"precision\": 0.04567582440841553, \"recall\": 0.9067226890756303, \"f1\": 0.08697053962734914, \"threshold\": 0.04452307239800839, \"Predict_T\": 1208.0, \"Predict_F\": 29091.0, \"error\": null}, {\"feature1\": \"CheckupRecency\", \"feature2\": \"Stroke\", \"precision\": 0.20403825717321997, \"recall\": 0.14211695040710584, \"f1\": 0.16753926696730675, \"threshold\": 0.17976570746004222, \"Predict_T\": 1831.0, \"Predict_F\": 49527.0, \"error\": null}, {\"feature1\": \"CheckupRecency\", \"feature2\": \"Unnamed: 0\", \"precision\": 0.061375265194059656, \"recall\": 0.9060427413411938, \"f1\": 0.11496294909866142, \"threshold\": 0.06162250883107982, \"Predict_T\": 0.0, \"Predict_F\": 51461.0, \"error\": null}, {\"feature1\": \"CheckupRecency\", \"feature2\": \"WeightKg\", \"precision\": 0.07566611791963905, \"recall\": 0.4883903974813066, \"f1\": 0.1310315700327301, \"threshold\": 0.06257969758654562, \"Predict_T\": 16056.0, \"Predict_F\": 30682.0, \"error\": null}, {\"feature1\": \"Depression\", \"feature2\": \"Diabetes\", \"precision\": 0.1254401942926533, \"recall\": 0.37852693294246975, \"f1\": 0.18843487774444112, \"threshold\": 0.11530799266873842, \"Predict_T\": 1981.0, \"Predict_F\": 49801.0, \"error\": null}, {\"feature1\": \"Depression\", \"feature2\": \"DrankAlcohol\", \"precision\": 0.09371802741968488, \"recall\": 0.1764932562620424, \"f1\": 0.12242715846845842, \"threshold\": 0.09240617417789476, \"Predict_T\": 0.0, \"Predict_F\": 48304.0, \"error\": null}, {\"feature1\": \"Depression\", \"feature2\": \"DrinksPerWeek\", \"precision\": 0.0943664836282286, \"recall\": 0.18005432673651534, \"f1\": 0.12383239920761052, \"threshold\": 0.07346205210846744, \"Predict_T\": 0.0, \"Predict_F\": 47814.0, \"error\": null}, {\"feature1\": \"Depression\", \"feature2\": \"ECigUse\", \"precision\": 0.07453204764605785, \"recall\": 0.24971493728620298, \"f1\": 0.11479993007118235, \"threshold\": 0.07319592669708451, \"Predict_T\": 0.0, \"Predict_F\": 49045.0, \"error\": null}, {\"feature1\": \"Depression\", \"feature2\": \"Education\", \"precision\": 0.07808079665044698, \"recall\": 0.2529325513196481, \"f1\": 0.11932555119611744, \"threshold\": 0.06157756697939606, \"Predict_T\": 7310.0, \"Predict_F\": 44310.0, \"error\": null}, {\"feature1\": \"Depression\", \"feature2\": \"EverSmoked100Cigs\", \"precision\": 0.07707051346716433, \"recall\": 0.5827612509534706, \"f1\": 0.13613684958735084, \"threshold\": 0.07308447272235007, \"Predict_T\": 4940.0, \"Predict_F\": 44041.0, \"error\": null}, {\"feature1\": \"Depression\", \"feature2\": \"ExercisedPastMonth\", \"precision\": 0.08030363563723532, \"recall\": 0.3692138133725202, \"f1\": 0.1319157314138514, \"threshold\": 0.07424254515468287, \"Predict_T\": 3175.0, \"Predict_F\": 48604.0, \"error\": null}, {\"feature1\": \"Depression\", \"feature2\": \"GeneralHealth\", \"precision\": 0.1502498215560314, \"recall\": 0.4634862385321101, \"f1\": 0.22693378848157603, \"threshold\": 0.11250457852787334, \"Predict_T\": 6351.0, \"Predict_F\": 45408.0, \"error\": null}, {\"feature1\": \"Depression\", \"feature2\": \"HeartAttack\", \"precision\": 0.4722550177095632, \"recall\": 0.44726052925829296, \"f1\": 0.45941807039414106, \"threshold\": 0.4724823604874918, \"Predict_T\": 642.0, \"Predict_F\": 50994.0, \"error\": null}, {\"feature1\": \"Depression\", \"feature2\": \"HeightCm\", \"precision\": 0.06256969890074876, \"recall\": 0.5968844984802432, \"f1\": 0.1132660417996952, \"threshold\": 0.05076760829663592, \"Predict_T\": 22230.0, \"Predict_F\": 26756.0, \"error\": null}, {\"feature1\": \"Depression\", \"feature2\": \"HighBloodPressure\", \"precision\": 0.09857685009487666, \"recall\": 0.7636898199191474, \"f1\": 0.17461451197504368, \"threshold\": 0.09372643643492695, \"Predict_T\": 4442.0, \"Predict_F\": 47230.0, \"error\": null}, {\"feature1\": \"Depression\", \"feature2\": \"HighCholesterol\", \"precision\": 0.10145337329638636, \"recall\": 0.7024275646045419, \"f1\": 0.17729900674772275, \"threshold\": 0.09745863642193606, \"Predict_T\": 4056.0, \"Predict_F\": 40230.0, \"error\": null}, {\"feature1\": \"Depression\", \"feature2\": \"Income\", \"precision\": 0.08191272649297737, \"recall\": 0.34585785423268445, \"f1\": 0.13245492368609563, \"threshold\": 0.06576697536275271, \"Predict_T\": 8203.0, \"Predict_F\": 32653.0, \"error\": null}, {\"feature1\": \"Depression\", \"feature2\": \"MaritalStatus\", \"precision\": 0.10276679841897234, \"recall\": 0.28708133971291866, \"f1\": 0.15135344907343012, \"threshold\": 0.08538270240397923, \"Predict_T\": 5788.0, \"Predict_F\": 45531.0, \"error\": null}, {\"feature1\": \"Depression\", \"feature2\": \"ObeseFlag\", \"precision\": 0.0790145711281358, \"recall\": 0.20733149389042177, \"f1\": 0.11442244938357758, \"threshold\": 0.076966124459036, \"Predict_T\": 0.0, \"Predict_F\": 46318.0, \"error\": null}, {\"feature1\": \"Depression\", \"feature2\": \"OtherCancer\", \"precision\": 0.10793264353824306, \"recall\": 0.19573215599705665, \"f1\": 0.13913953179673255, \"threshold\": 0.1014938770276336, \"Predict_T\": 1076.0, \"Predict_F\": 50666.0, \"error\": null}, {\"feature1\": \"Depression\", \"feature2\": \"Race\", \"precision\": 0.07034316192009661, \"recall\": 0.2616997379258705, \"f1\": 0.11088197966203761, \"threshold\": 0.057841014537581205, \"Predict_T\": 9160.0, \"Predict_F\": 41478.0, \"error\": null}, {\"feature1\": \"Depression\", \"feature2\": \"Sex\", \"precision\": 0.06413692879057, \"recall\": 0.7264081931236284, \"f1\": 0.11786699900583288, \"threshold\": 0.05858018763389229, \"Predict_T\": 24135.0, \"Predict_F\": 27744.0, \"error\": null}, {\"feature1\": \"Depression\", \"feature2\": \"SkinCancer\", \"precision\": 0.11066694719124763, \"recall\": 0.1935958778064041, \"f1\": 0.14082998656683351, \"threshold\": 0.10706366803927778, \"Predict_T\": 846.0, \"Predict_F\": 50900.0, \"error\": null}, {\"feature1\": \"Depression\", \"feature2\": \"SmokelessTobacco\", \"precision\": 0.070613629355535, \"recall\": 0.26062215477996964, \"f1\": 0.11112009701457257, \"threshold\": 0.06953009997139462, \"Predict_T\": 254.0, \"Predict_F\": 48905.0, \"error\": null}, {\"feature1\": \"Depression\", \"feature2\": \"SmokingFrequency\", \"precision\": 0.07015187519371836, \"recall\": 0.2595565749235474, \"f1\": 0.11045140297585368, \"threshold\": 0.0679482398666873, \"Predict_T\": 2054.0, \"Predict_F\": 46861.0, \"error\": null}, {\"feature1\": \"Depression\", \"feature2\": \"SmokingQuantity\", \"precision\": 0.0560702096538274, \"recall\": 0.2875, \"f1\": 0.09383924925869273, \"threshold\": 0.03661067708990127, \"Predict_T\": 6119.0, \"Predict_F\": 24440.0, \"error\": null}, {\"feature1\": \"Depression\", \"feature2\": \"Stroke\", \"precision\": 0.20207792207792208, \"recall\": 0.14301470588235293, \"f1\": 0.16749192675447863, \"threshold\": 0.2053650737253509, \"Predict_T\": 511.0, \"Predict_F\": 51262.0, \"error\": null}, {\"feature1\": \"Depression\", \"feature2\": \"Unnamed: 0\", \"precision\": 0.0709849157054126, \"recall\": 0.26335040234089246, \"f1\": 0.11182728893137335, \"threshold\": 0.06970331158439007, \"Predict_T\": 0.0, \"Predict_F\": 51879.0, \"error\": null}, {\"feature1\": \"Depression\", \"feature2\": \"WeightKg\", \"precision\": 0.06619064306991414, \"recall\": 0.590234375, \"f1\": 0.11903261381517359, \"threshold\": 0.05108160187939417, \"Predict_T\": 22670.0, \"Predict_F\": 24382.0, \"error\": null}, {\"feature1\": \"Diabetes\", \"feature2\": \"DrankAlcohol\", \"precision\": 0.12638835695135964, \"recall\": 0.38047655649500384, \"f1\": 0.18974604691991986, \"threshold\": 0.10243521968974786, \"Predict_T\": 5084.0, \"Predict_F\": 43349.0, \"error\": null}, {\"feature1\": \"Diabetes\", \"feature2\": \"DrinksPerWeek\", \"precision\": 0.12656270137904369, \"recall\": 0.380030959752322, \"f1\": 0.1898868799779863, \"threshold\": 0.0812372695764013, \"Predict_T\": 7758.0, \"Predict_F\": 40184.0, \"error\": null}, {\"feature1\": \"Diabetes\", \"feature2\": \"ECigUse\", \"precision\": 0.12700482461859433, \"recall\": 0.36907919666540356, \"f1\": 0.18897943341165352, \"threshold\": 0.12645263259991174, \"Predict_T\": 0.0, \"Predict_F\": 49177.0, \"error\": null}, {\"feature1\": \"Diabetes\", \"feature2\": \"Education\", \"precision\": 0.12555999515679864, \"recall\": 0.3790204678362573, \"f1\": 0.18863119596079722, \"threshold\": 0.11615706889081458, \"Predict_T\": 5620.0, \"Predict_F\": 46145.0, \"error\": null}, {\"feature1\": \"Diabetes\", \"feature2\": \"EverSmoked100Cigs\", \"precision\": 0.12522135087275488, \"recall\": 0.37656903765690375, \"f1\": 0.1879449453825736, \"threshold\": 0.09616619011495596, \"Predict_T\": 3670.0, \"Predict_F\": 45443.0, \"error\": null}, {\"feature1\": \"Diabetes\", \"feature2\": \"ExercisedPastMonth\", \"precision\": 0.125, \"recall\": 0.3786656891495601, \"f1\": 0.18795487623633617, \"threshold\": 0.11023809523809536, \"Predict_T\": 3101.0, \"Predict_F\": 48821.0, \"error\": null}, {\"feature1\": \"Diabetes\", \"feature2\": \"GeneralHealth\", \"precision\": 0.19594912859161565, \"recall\": 0.3044273691913648, \"f1\": 0.2384295743899485, \"threshold\": 0.173184072834927, \"Predict_T\": 2111.0, \"Predict_F\": 49791.0, \"error\": null}, {\"feature1\": \"Diabetes\", \"feature2\": \"HeartAttack\", \"precision\": 0.4731267163593566, \"recall\": 0.44799405646359586, \"f1\": 0.460217515691308, \"threshold\": 0.44673913043478264, \"Predict_T\": 970.0, \"Predict_F\": 50815.0, \"error\": null}, {\"feature1\": \"Diabetes\", \"feature2\": \"HeightCm\", \"precision\": 0.12575757575757576, \"recall\": 0.37712987504733053, \"f1\": 0.18861850199828498, \"threshold\": 0.046096710029036106, \"Predict_T\": 7916.0, \"Predict_F\": 41213.0, \"error\": null}, {\"feature1\": \"Diabetes\", \"feature2\": \"HighBloodPressure\", \"precision\": 0.1529472417941227, \"recall\": 0.3261267863686332, \"f1\": 0.20823584459855518, \"threshold\": 0.15370889625286777, \"Predict_T\": 0.0, \"Predict_F\": 51823.0, \"error\": null}, {\"feature1\": \"Diabetes\", \"feature2\": \"HighCholesterol\", \"precision\": 0.16235693090292497, \"recall\": 0.29898516783762685, \"f1\": 0.2104395603939458, \"threshold\": 0.16131734645792964, \"Predict_T\": 0.0, \"Predict_F\": 44397.0, \"error\": null}, {\"feature1\": \"Diabetes\", \"feature2\": \"Income\", \"precision\": 0.13297491039426523, \"recall\": 0.33498871331828445, \"f1\": 0.19037844768221698, \"threshold\": 0.10770473754040476, \"Predict_T\": 4818.0, \"Predict_F\": 36128.0, \"error\": null}, {\"feature1\": \"Diabetes\", \"feature2\": \"MaritalStatus\", \"precision\": 0.13446858485026425, \"recall\": 0.33627019089574156, \"f1\": 0.19211409391892037, \"threshold\": 0.12405731523378613, \"Predict_T\": 5556.0, \"Predict_F\": 45904.0, \"error\": null}, {\"feature1\": \"Diabetes\", \"feature2\": \"ObeseFlag\", \"precision\": 0.1270836111481531, \"recall\": 0.3746069182389937, \"f1\": 0.18978392906702027, \"threshold\": 0.1226734348561762, \"Predict_T\": 6337.0, \"Predict_F\": 40117.0, \"error\": null}, {\"feature1\": \"Diabetes\", \"feature2\": \"OtherCancer\", \"precision\": 0.12524201355275896, \"recall\": 0.37967718268525313, \"f1\": 0.1883530481883561, \"threshold\": 0.11518688342364883, \"Predict_T\": 1174.0, \"Predict_F\": 50712.0, \"error\": null}, {\"feature1\": \"Diabetes\", \"feature2\": \"Race\", \"precision\": 0.13060776512553163, \"recall\": 0.3554891710231516, \"f1\": 0.19103040028176066, \"threshold\": 0.08966648441771476, \"Predict_T\": 6387.0, \"Predict_F\": 44394.0, \"error\": null}, {\"feature1\": \"Diabetes\", \"feature2\": \"Sex\", \"precision\": 0.12558812884545784, \"recall\": 0.3796498905908096, \"f1\": 0.18874082128437283, \"threshold\": 0.09513707571801568, \"Predict_T\": 3826.0, \"Predict_F\": 48200.0, \"error\": null}, {\"feature1\": \"Diabetes\", \"feature2\": \"SkinCancer\", \"precision\": 0.12543891512289623, \"recall\": 0.3801834862385321, \"f1\": 0.18863801889932702, \"threshold\": 0.115205664194201, \"Predict_T\": 942.0, \"Predict_F\": 50953.0, \"error\": null}, {\"feature1\": \"Diabetes\", \"feature2\": \"SmokelessTobacco\", \"precision\": 0.12586619629582965, \"recall\": 0.3778366111951589, \"f1\": 0.18882903313517982, \"threshold\": 0.12531044670346186, \"Predict_T\": 212.0, \"Predict_F\": 49078.0, \"error\": null}, {\"feature1\": \"Diabetes\", \"feature2\": \"SmokingFrequency\", \"precision\": 0.12487335359675786, \"recall\": 0.37604881769641496, \"f1\": 0.18748811557390435, \"threshold\": 0.12459121749749127, \"Predict_T\": 1014.0, \"Predict_F\": 48029.0, \"error\": null}, {\"feature1\": \"Diabetes\", \"feature2\": \"SmokingQuantity\", \"precision\": 0.10350143140277472, \"recall\": 0.39068994181213634, \"f1\": 0.16364902503652337, \"threshold\": 0.09696305238167997, \"Predict_T\": 305.0, \"Predict_F\": 30324.0, \"error\": null}, {\"feature1\": \"Diabetes\", \"feature2\": \"Stroke\", \"precision\": 0.1314878892733564, \"recall\": 0.4596774193548387, \"f1\": 0.20448430489814537, \"threshold\": 0.10959748305277145, \"Predict_T\": 1937.0, \"Predict_F\": 49984.0, \"error\": null}, {\"feature1\": \"Diabetes\", \"feature2\": \"Unnamed: 0\", \"precision\": 0.12558812884545784, \"recall\": 0.3796498905908096, \"f1\": 0.18874082128437283, \"threshold\": 0.12481439686404948, \"Predict_T\": 0.0, \"Predict_F\": 52026.0, \"error\": null}, {\"feature1\": \"Diabetes\", \"feature2\": \"WeightKg\", \"precision\": 0.1278297410871628, \"recall\": 0.367498051441933, \"f1\": 0.1896811827033332, \"threshold\": 0.11980994350520599, \"Predict_T\": 7358.0, \"Predict_F\": 39830.0, \"error\": null}, {\"feature1\": \"DrankAlcohol\", \"feature2\": \"DrinksPerWeek\", \"precision\": null, \"recall\": null, \"f1\": null, \"threshold\": null, \"Predict_T\": null, \"Predict_F\": null, \"error\": \"Singular matrix\"}, {\"feature1\": \"DrankAlcohol\", \"feature2\": \"ECigUse\", \"precision\": 0.0688055150470635, \"recall\": 0.5976967370441458, \"f1\": 0.12340492983802745, \"threshold\": 0.06912790278860419, \"Predict_T\": 0.0, \"Predict_F\": 48467.0, \"error\": null}, {\"feature1\": \"DrankAlcohol\", \"feature2\": \"Education\", \"precision\": 0.07228763134573997, \"recall\": 0.4387245485977718, \"f1\": 0.1241236889056597, \"threshold\": 0.06671755758321234, \"Predict_T\": 9126.0, \"Predict_F\": 39225.0, \"error\": null}, {\"feature1\": \"DrankAlcohol\", \"feature2\": \"EverSmoked100Cigs\", \"precision\": 0.09947643979057591, \"recall\": 0.34505409582689334, \"f1\": 0.15443147424109188, \"threshold\": 0.09980402737936324, \"Predict_T\": 0.0, \"Predict_F\": 48219.0, \"error\": null}, {\"feature1\": \"DrankAlcohol\", \"feature2\": \"ExercisedPastMonth\", \"precision\": 0.09253690541279387, \"recall\": 0.2609868928296068, \"f1\": 0.13662966696437928, \"threshold\": 0.0959450171821304, \"Predict_T\": 0.0, \"Predict_F\": 48436.0, \"error\": null}, {\"feature1\": \"DrankAlcohol\", \"feature2\": \"GeneralHealth\", \"precision\": 0.15248048350541427, \"recall\": 0.46576923076923077, \"f1\": 0.2297476759256544, \"threshold\": 0.10563516429028348, \"Predict_T\": 5770.0, \"Predict_F\": 42650.0, \"error\": null}, {\"feature1\": \"DrankAlcohol\", \"feature2\": \"HeartAttack\", \"precision\": 0.4739454094292804, \"recall\": 0.4481814626515448, \"f1\": 0.4607035175379788, \"threshold\": 0.4867169563791405, \"Predict_T\": 883.0, \"Predict_F\": 47410.0, \"error\": null}, {\"feature1\": \"DrankAlcohol\", \"feature2\": \"HeightCm\", \"precision\": 0.06812791004128964, \"recall\": 0.6049141965678627, \"f1\": 0.12246348201891463, \"threshold\": 0.06145606116302023, \"Predict_T\": 22739.0, \"Predict_F\": 24731.0, \"error\": null}, {\"feature1\": \"DrankAlcohol\", \"feature2\": \"HighBloodPressure\", \"precision\": 0.11586736605470213, \"recall\": 0.47631882941855985, \"f1\": 0.18639343024050523, \"threshold\": 0.11930288575072011, \"Predict_T\": 0.0, \"Predict_F\": 48349.0, \"error\": null}, {\"feature1\": \"DrankAlcohol\", \"feature2\": \"HighCholesterol\", \"precision\": 0.12405446293494705, \"recall\": 0.4374230611407468, \"f1\": 0.19329102444426907, \"threshold\": 0.12556718763901648, \"Predict_T\": 0.0, \"Predict_F\": 41521.0, \"error\": null}, {\"feature1\": \"DrankAlcohol\", \"feature2\": \"Income\", \"precision\": 0.08266550522648083, \"recall\": 0.4409851301115242, \"f1\": 0.1392312206306884, \"threshold\": 0.061645867144590485, \"Predict_T\": 10919.0, \"Predict_F\": 28528.0, \"error\": null}, {\"feature1\": \"DrankAlcohol\", \"feature2\": \"MaritalStatus\", \"precision\": 0.09966539196940727, \"recall\": 0.32175925925925924, \"f1\": 0.15218978098578465, \"threshold\": 0.08714319790093016, \"Predict_T\": 5183.0, \"Predict_F\": 42925.0, \"error\": null}, {\"feature1\": \"DrankAlcohol\", \"feature2\": \"ObeseFlag\", \"precision\": 0.07709750566893424, \"recall\": 0.46725949878738887, \"f1\": 0.13235630865441259, \"threshold\": 0.07796587306940043, \"Predict_T\": 0.0, \"Predict_F\": 44973.0, \"error\": null}, {\"feature1\": \"DrankAlcohol\", \"feature2\": \"OtherCancer\", \"precision\": 0.10803324099722991, \"recall\": 0.19545104086353124, \"f1\": 0.13915191432220125, \"threshold\": 0.09408284023668637, \"Predict_T\": 2547.0, \"Predict_F\": 45848.0, \"error\": null}, {\"feature1\": \"DrankAlcohol\", \"feature2\": \"Race\", \"precision\": 0.07491446065189987, \"recall\": 0.4894117647058824, \"f1\": 0.1299390910280443, \"threshold\": 0.07683412956820751, \"Predict_T\": 0.0, \"Predict_F\": 47478.0, \"error\": null}, {\"feature1\": \"DrankAlcohol\", \"feature2\": \"Sex\", \"precision\": 0.08382045929018789, \"recall\": 0.3080168776371308, \"f1\": 0.13177976529007435, \"threshold\": 0.08435578775165584, \"Predict_T\": 0.0, \"Predict_F\": 48527.0, \"error\": null}, {\"feature1\": \"DrankAlcohol\", \"feature2\": \"SkinCancer\", \"precision\": 0.11106194690265486, \"recall\": 0.1937475878039367, \"f1\": 0.141189706042837, \"threshold\": 0.09275730622617538, \"Predict_T\": 2153.0, \"Predict_F\": 46254.0, \"error\": null}, {\"feature1\": \"DrankAlcohol\", \"feature2\": \"SmokelessTobacco\", \"precision\": 0.06755547983132427, \"recall\": 0.6085955487336915, \"f1\": 0.1216117777683117, \"threshold\": 0.06796305926076775, \"Predict_T\": 564.0, \"Predict_F\": 47908.0, \"error\": null}, {\"feature1\": \"DrankAlcohol\", \"feature2\": \"SmokingFrequency\", \"precision\": 0.06736084329605348, \"recall\": 0.608359133126935, \"f1\": 0.12129161681782022, \"threshold\": 0.06697067348233779, \"Predict_T\": 2966.0, \"Predict_F\": 45214.0, \"error\": null}, {\"feature1\": \"DrankAlcohol\", \"feature2\": \"SmokingQuantity\", \"precision\": 0.05, \"recall\": 0.6515533165407221, \"f1\": 0.09287295791866294, \"threshold\": 0.0431072308866367, \"Predict_T\": 15329.0, \"Predict_F\": 14816.0, \"error\": null}, {\"feature1\": \"DrankAlcohol\", \"feature2\": \"Stroke\", \"precision\": 0.20174007612833061, \"recall\": 0.14296724470134875, \"f1\": 0.16734325660458838, \"threshold\": 0.19547719432732844, \"Predict_T\": 1227.0, \"Predict_F\": 47199.0, \"error\": null}, {\"feature1\": \"DrankAlcohol\", \"feature2\": \"Unnamed: 0\", \"precision\": 0.06747735873123857, \"recall\": 0.6087456846950517, \"f1\": 0.12148817268355767, \"threshold\": 0.06817840032655162, \"Predict_T\": 0.0, \"Predict_F\": 48527.0, \"error\": null}, {\"feature1\": \"DrankAlcohol\", \"feature2\": \"WeightKg\", \"precision\": 0.07740474287236877, \"recall\": 0.46610509426393903, \"f1\": 0.13276206795615017, \"threshold\": 0.06501333232256541, \"Predict_T\": 14867.0, \"Predict_F\": 30694.0, \"error\": null}, {\"feature1\": \"DrinksPerWeek\", \"feature2\": \"ECigUse\", \"precision\": 0.06898969975893053, \"recall\": 0.6084267491302667, \"f1\": 0.1239272498045545, \"threshold\": 0.057689608331920016, \"Predict_T\": 1.0, \"Predict_F\": 47973.0, \"error\": null}, {\"feature1\": \"DrinksPerWeek\", \"feature2\": \"Education\", \"precision\": 0.07494955318535601, \"recall\": 0.30174081237911027, \"f1\": 0.12007389159373975, \"threshold\": 0.06404769941199838, \"Predict_T\": 9865.0, \"Predict_F\": 37999.0, \"error\": null}, {\"feature1\": \"DrinksPerWeek\", \"feature2\": \"EverSmoked100Cigs\", \"precision\": 0.09960247349823322, \"recall\": 0.35097276264591437, \"f1\": 0.15516944775499938, \"threshold\": 0.08404232077904696, \"Predict_T\": 0.0, \"Predict_F\": 47729.0, \"error\": null}, {\"feature1\": \"DrinksPerWeek\", \"feature2\": \"ExercisedPastMonth\", \"precision\": 0.08901578770574403, \"recall\": 0.30861801242236025, \"f1\": 0.13817676193622444, \"threshold\": 0.08508531284977214, \"Predict_T\": 8775.0, \"Predict_F\": 39168.0, \"error\": null}, {\"feature1\": \"DrinksPerWeek\", \"feature2\": \"GeneralHealth\", \"precision\": 0.15642232683254875, \"recall\": 0.4504260263361735, \"f1\": 0.23220525103491144, \"threshold\": 0.11355767336464473, \"Predict_T\": 7433.0, \"Predict_F\": 40497.0, \"error\": null}, {\"feature1\": \"DrinksPerWeek\", \"feature2\": \"HeartAttack\", \"precision\": 0.4731361932528113, \"recall\": 0.4474202441906262, \"f1\": 0.45991902829012, \"threshold\": 0.22845752055287005, \"Predict_T\": 2400.0, \"Predict_F\": 45401.0, \"error\": null}, {\"feature1\": \"DrinksPerWeek\", \"feature2\": \"HeightCm\", \"precision\": 0.07000702411613205, \"recall\": 0.3523173605655931, \"f1\": 0.11680447943064053, \"threshold\": 0.058114037214641596, \"Predict_T\": 11210.0, \"Predict_F\": 35784.0, \"error\": null}, {\"feature1\": \"DrinksPerWeek\", \"feature2\": \"HighBloodPressure\", \"precision\": 0.11635249326771288, \"recall\": 0.48584722760759985, \"f1\": 0.18774348213843714, \"threshold\": 0.10642261161719273, \"Predict_T\": 0.0, \"Predict_F\": 47858.0, \"error\": null}, {\"feature1\": \"DrinksPerWeek\", \"feature2\": \"HighCholesterol\", \"precision\": 0.12439418416801293, \"recall\": 0.444903012794057, \"f1\": 0.1944269095158524, \"threshold\": 0.1081097501857402, \"Predict_T\": 0.0, \"Predict_F\": 41144.0, \"error\": null}, {\"feature1\": \"DrinksPerWeek\", \"feature2\": \"Income\", \"precision\": 0.08356193289723571, \"recall\": 0.37043966323666977, \"f1\": 0.13636363633360044, \"threshold\": 0.06604891242945791, \"Predict_T\": 9476.0, \"Predict_F\": 29628.0, \"error\": null}, {\"feature1\": \"DrinksPerWeek\", \"feature2\": \"MaritalStatus\", \"precision\": 0.09942084942084942, \"recall\": 0.3201243201243201, \"f1\": 0.15172159819620637, \"threshold\": 0.07080208815924437, \"Predict_T\": 5077.0, \"Predict_F\": 42546.0, \"error\": null}, {\"feature1\": \"DrinksPerWeek\", \"feature2\": \"ObeseFlag\", \"precision\": 0.07736598279285242, \"recall\": 0.4757834757834758, \"f1\": 0.13309045366752031, \"threshold\": 0.0643892182019778, \"Predict_T\": 0.0, \"Predict_F\": 44536.0, \"error\": null}, {\"feature1\": \"DrinksPerWeek\", \"feature2\": \"OtherCancer\", \"precision\": 0.10845706907682376, \"recall\": 0.1956521739130435, \"f1\": 0.13955420180929531, \"threshold\": 0.0509814394982818, \"Predict_T\": 4644.0, \"Predict_F\": 43259.0, \"error\": null}, {\"feature1\": \"DrinksPerWeek\", \"feature2\": \"Race\", \"precision\": 0.07519513793719836, \"recall\": 0.4980268350434096, \"f1\": 0.13066211107106082, \"threshold\": 0.06284428364379413, \"Predict_T\": 1.0, \"Predict_F\": 47005.0, \"error\": null}, {\"feature1\": \"DrinksPerWeek\", \"feature2\": \"Sex\", \"precision\": 0.08154039347007117, \"recall\": 0.37620702974121284, \"f1\": 0.1340305490281022, \"threshold\": 0.07088031753956472, \"Predict_T\": 11524.0, \"Predict_F\": 36509.0, \"error\": null}, {\"feature1\": \"DrinksPerWeek\", \"feature2\": \"SkinCancer\", \"precision\": 0.1116101504603638, \"recall\": 0.1931597357170618, \"f1\": 0.14147452315312442, \"threshold\": 0.0705864165882947, \"Predict_T\": 4449.0, \"Predict_F\": 43464.0, \"error\": null}, {\"feature1\": \"DrinksPerWeek\", \"feature2\": \"SmokelessTobacco\", \"precision\": 0.0680431112842488, \"recall\": 0.60741885625966, \"f1\": 0.12237748626112414, \"threshold\": 0.056537891188397436, \"Predict_T\": 0.0, \"Predict_F\": 47979.0, \"error\": null}, {\"feature1\": \"DrinksPerWeek\", \"feature2\": \"SmokingFrequency\", \"precision\": 0.06586031993757316, \"recall\": 0.6578332034294622, \"f1\": 0.11973329548636347, \"threshold\": 0.05567860870284552, \"Predict_T\": 25611.0, \"Predict_F\": 22080.0, \"error\": null}, {\"feature1\": \"DrinksPerWeek\", \"feature2\": \"SmokingQuantity\", \"precision\": 0.05000318086392264, \"recall\": 0.6627318718381113, \"f1\": 0.09299023956104355, \"threshold\": 0.04102791701340359, \"Predict_T\": 1222.0, \"Predict_F\": 28662.0, \"error\": null}, {\"feature1\": \"DrinksPerWeek\", \"feature2\": \"Stroke\", \"precision\": 0.2023217247097844, \"recall\": 0.1420256111757858, \"f1\": 0.1668946647942143, \"threshold\": 0.18172838035716585, \"Predict_T\": 1808.0, \"Predict_F\": 46124.0, \"error\": null}, {\"feature1\": \"DrinksPerWeek\", \"feature2\": \"Unnamed: 0\", \"precision\": 0.06768153833178712, \"recall\": 0.6199304750869061, \"f1\": 0.12203931108744884, \"threshold\": 0.05645267675589055, \"Predict_T\": 0.0, \"Predict_F\": 48033.0, \"error\": null}, {\"feature1\": \"DrinksPerWeek\", \"feature2\": \"WeightKg\", \"precision\": 0.06979638009049774, \"recall\": 0.4983844911147011, \"f1\": 0.12244492952796343, \"threshold\": 0.05627323006790599, \"Predict_T\": 17677.0, \"Predict_F\": 27440.0, \"error\": null}, {\"feature1\": \"ECigUse\", \"feature2\": \"Education\", \"precision\": 0.0680257957145829, \"recall\": 0.3715909090909091, \"f1\": 0.11499912077566979, \"threshold\": 0.06317562534423815, \"Predict_T\": 2718.0, \"Predict_F\": 46361.0, \"error\": null}, {\"feature1\": \"ECigUse\", \"feature2\": \"EverSmoked100Cigs\", \"precision\": 0.08118101545253863, \"recall\": 0.5608082348455966, \"f1\": 0.14183097910339568, \"threshold\": 0.080813434204166, \"Predict_T\": 0.0, \"Predict_F\": 48940.0, \"error\": null}, {\"feature1\": \"ECigUse\", \"feature2\": \"ExercisedPastMonth\", \"precision\": 0.08259639193491333, \"recall\": 0.35513307984790876, \"f1\": 0.13402209783134256, \"threshold\": 0.08511400078490035, \"Predict_T\": 0.0, \"Predict_F\": 49183.0, \"error\": null}, {\"feature1\": \"ECigUse\", \"feature2\": \"GeneralHealth\", \"precision\": 0.15666579702582833, \"recall\": 0.45578747628083494, \"f1\": 0.23318124450129182, \"threshold\": 0.12281331645530445, \"Predict_T\": 1959.0, \"Predict_F\": 47202.0, \"error\": null}, {\"feature1\": \"ECigUse\", \"feature2\": \"HeartAttack\", \"precision\": 0.47553017944535075, \"recall\": 0.4496721943694562, \"f1\": 0.46223984137719465, \"threshold\": 0.4530137196694663, \"Predict_T\": 2425.0, \"Predict_F\": 46613.0, \"error\": null}, {\"feature1\": \"ECigUse\", \"feature2\": \"HeightCm\", \"precision\": 0.06288313229187265, \"recall\": 0.48941900731050403, \"f1\": 0.11144697067242224, \"threshold\": 0.055606683441218635, \"Predict_T\": 16807.0, \"Predict_F\": 31319.0, \"error\": null}, {\"feature1\": \"ECigUse\", \"feature2\": \"HighBloodPressure\", \"precision\": 0.10092165898617511, \"recall\": 0.7485757690846943, \"f1\": 0.17786400755926368, \"threshold\": 0.10233175571446174, \"Predict_T\": 0.0, \"Predict_F\": 49084.0, \"error\": null}, {\"feature1\": \"ECigUse\", \"feature2\": \"HighCholesterol\", \"precision\": 0.10358880778588808, \"recall\": 0.6891946580331849, \"f1\": 0.18010681611603693, \"threshold\": 0.10478542299127898, \"Predict_T\": 0.0, \"Predict_F\": 42113.0, \"error\": null}, {\"feature1\": \"ECigUse\", \"feature2\": \"Income\", \"precision\": 0.08823075736541725, \"recall\": 0.26274689940284796, \"f1\": 0.13210161659053735, \"threshold\": 0.06642429479883931, \"Predict_T\": 6427.0, \"Predict_F\": 33473.0, \"error\": null}, {\"feature1\": \"ECigUse\", \"feature2\": \"MaritalStatus\", \"precision\": 0.11041069723018147, \"recall\": 0.2198554583491822, \"f1\": 0.14699898266149278, \"threshold\": 0.09586714776239409, \"Predict_T\": 5194.0, \"Predict_F\": 43629.0, \"error\": null}, {\"feature1\": \"ECigUse\", \"feature2\": \"ObeseFlag\", \"precision\": 0.06295851674002935, \"recall\": 0.7530913442361388, \"f1\": 0.11620249267694362, \"threshold\": 0.061884789268458376, \"Predict_T\": 0.0, \"Predict_F\": 45555.0, \"error\": null}, {\"feature1\": \"ECigUse\", \"feature2\": \"OtherCancer\", \"precision\": 0.10832982751367269, \"recall\": 0.1958174904942966, \"f1\": 0.13949079085337868, \"threshold\": 0.10929829126864134, \"Predict_T\": 101.0, \"Predict_F\": 49037.0, \"error\": null}, {\"feature1\": \"ECigUse\", \"feature2\": \"Race\", \"precision\": 0.059800664451827246, \"recall\": 0.8077369439071567, \"f1\": 0.11135703046635125, \"threshold\": 0.059799963067508836, \"Predict_T\": 0.0, \"Predict_F\": 48178.0, \"error\": null}, {\"feature1\": \"ECigUse\", \"feature2\": \"Sex\", \"precision\": 0.06934729235187845, \"recall\": 0.5661875945537065, \"f1\": 0.12356072797362473, \"threshold\": 0.06879583851891881, \"Predict_T\": 0.0, \"Predict_F\": 49275.0, \"error\": null}, {\"feature1\": \"ECigUse\", \"feature2\": \"SkinCancer\", \"precision\": 0.11094158674803836, \"recall\": 0.1936834094368341, \"f1\": 0.14107538798029637, \"threshold\": 0.11358838850022013, \"Predict_T\": 88.0, \"Predict_F\": 49060.0, \"error\": null}, {\"feature1\": \"ECigUse\", \"feature2\": \"SmokelessTobacco\", \"precision\": 0.055509200298625445, \"recall\": 0.9564888384411654, \"f1\": 0.10492891977794737, \"threshold\": 0.054584736302389525, \"Predict_T\": 62.0, \"Predict_F\": 49163.0, \"error\": null}, {\"feature1\": \"ECigUse\", \"feature2\": \"SmokingFrequency\", \"precision\": 0.0547945205479452, \"recall\": 0.9747899159663865, \"f1\": 0.10375670839779368, \"threshold\": 0.05351985056062992, \"Predict_T\": 5629.0, \"Predict_F\": 43271.0, \"error\": null}, {\"feature1\": \"ECigUse\", \"feature2\": \"SmokingQuantity\", \"precision\": 0.07766272189349112, \"recall\": 0.08735440931780367, \"f1\": 0.08222396236207535, \"threshold\": 0.039848719982399486, \"Predict_T\": 1336.0, \"Predict_F\": 29209.0, \"error\": null}, {\"feature1\": \"ECigUse\", \"feature2\": \"Stroke\", \"precision\": 0.20246384574183182, \"recall\": 0.14367160775370583, \"f1\": 0.1680746998180499, \"threshold\": 0.1978870127552179, \"Predict_T\": 1842.0, \"Predict_F\": 47328.0, \"error\": null}, {\"feature1\": \"ECigUse\", \"feature2\": \"Unnamed: 0\", \"precision\": 0.05490923037586295, \"recall\": 0.9746596066565809, \"f1\": 0.10396159430973459, \"threshold\": 0.05447888323261979, \"Predict_T\": 0.0, \"Predict_F\": 49275.0, \"error\": null}, {\"feature1\": \"ECigUse\", \"feature2\": \"WeightKg\", \"precision\": 0.06735037501913363, \"recall\": 0.5223585278986941, \"f1\": 0.11931664103553834, \"threshold\": 0.05487387309812434, \"Predict_T\": 19205.0, \"Predict_F\": 26962.0, \"error\": null}, {\"feature1\": \"Education\", \"feature2\": \"EverSmoked100Cigs\", \"precision\": 0.07712819480780841, \"recall\": 0.5828897338403042, \"f1\": 0.13623033855573924, \"threshold\": 0.07120812024558468, \"Predict_T\": 13723.0, \"Predict_F\": 35294.0, \"error\": null}, {\"feature1\": \"Education\", \"feature2\": \"ExercisedPastMonth\", \"precision\": 0.08062325209748301, \"recall\": 0.37000366703337, \"f1\": 0.1323973231565529, \"threshold\": 0.08021589513039824, \"Predict_T\": 9457.0, \"Predict_F\": 42306.0, \"error\": null}, {\"feature1\": \"Education\", \"feature2\": \"GeneralHealth\", \"precision\": 0.15532447018559958, \"recall\": 0.43191800878477304, \"f1\": 0.22848291215007469, \"threshold\": 0.11447802210143586, \"Predict_T\": 5476.0, \"Predict_F\": 46273.0, \"error\": null}, {\"feature1\": \"Education\", \"feature2\": \"HeartAttack\", \"precision\": 0.47289866457187746, \"recall\": 0.44758364312267657, \"f1\": 0.45989304807838, \"threshold\": 0.4081073011697994, \"Predict_T\": 2539.0, \"Predict_F\": 49081.0, \"error\": null}, {\"feature1\": \"Education\", \"feature2\": \"HeightCm\", \"precision\": 0.06331255135082886, \"recall\": 0.49602423324498296, \"f1\": 0.11229213095883714, \"threshold\": 0.055566849986304775, \"Predict_T\": 19709.0, \"Predict_F\": 29365.0, \"error\": null}, {\"feature1\": \"Education\", \"feature2\": \"HighBloodPressure\", \"precision\": 0.10586562920843932, \"recall\": 0.5186950146627566, \"f1\": 0.17584192864091472, \"threshold\": 0.09951707846212421, \"Predict_T\": 7360.0, \"Predict_F\": 44308.0, \"error\": null}, {\"feature1\": \"Education\", \"feature2\": \"HighCholesterol\", \"precision\": 0.11300844205679202, \"recall\": 0.4597970335675254, \"f1\": 0.18142615120812344, \"threshold\": 0.10289060649274763, \"Predict_T\": 5541.0, \"Predict_F\": 38725.0, \"error\": null}, {\"feature1\": \"Education\", \"feature2\": \"Income\", \"precision\": 0.08104925053533191, \"recall\": 0.3412984670874662, \"f1\": 0.1309915209933836, \"threshold\": 0.06557063829768384, \"Predict_T\": 7460.0, \"Predict_F\": 33480.0, \"error\": null}, {\"feature1\": \"Education\", \"feature2\": \"MaritalStatus\", \"precision\": 0.09308655416439847, \"recall\": 0.3766519823788546, \"f1\": 0.14927979045272524, \"threshold\": 0.06329625706271073, \"Predict_T\": 10944.0, \"Predict_F\": 40459.0, \"error\": null}, {\"feature1\": \"Education\", \"feature2\": \"ObeseFlag\", \"precision\": 0.06752745621846246, \"recall\": 0.5363457760314342, \"f1\": 0.1199525462255775, \"threshold\": 0.05873544513975084, \"Predict_T\": 19726.0, \"Predict_F\": 26696.0, \"error\": null}, {\"feature1\": \"Education\", \"feature2\": \"OtherCancer\", \"precision\": 0.09489993544222079, \"recall\": 0.26972477064220185, \"f1\": 0.1404011460932995, \"threshold\": 0.06307312910953394, \"Predict_T\": 5903.0, \"Predict_F\": 45820.0, \"error\": null}, {\"feature1\": \"Education\", \"feature2\": \"Race\", \"precision\": 0.07373110858740281, \"recall\": 0.3150429264650989, \"f1\": 0.11949596485670497, \"threshold\": 0.06008401522119223, \"Predict_T\": 11198.0, \"Predict_F\": 39516.0, \"error\": null}, {\"feature1\": \"Education\", \"feature2\": \"Sex\", \"precision\": 0.06647466334552814, \"recall\": 0.6231302444363371, \"f1\": 0.12013363810461207, \"threshold\": 0.0638306482975063, \"Predict_T\": 15855.0, \"Predict_F\": 36011.0, \"error\": null}, {\"feature1\": \"Education\", \"feature2\": \"SkinCancer\", \"precision\": 0.09616388308977035, \"recall\": 0.27055800293685756, \"f1\": 0.14189449360782252, \"threshold\": 0.06357244818230849, \"Predict_T\": 5755.0, \"Predict_F\": 45975.0, \"error\": null}, {\"feature1\": \"Education\", \"feature2\": \"SmokelessTobacco\", \"precision\": 0.06621357916694705, \"recall\": 0.3720226843100189, \"f1\": 0.11241859931171755, \"threshold\": 0.06142523101388346, \"Predict_T\": 2865.0, \"Predict_F\": 46327.0, \"error\": null}, {\"feature1\": \"Education\", \"feature2\": \"SmokingFrequency\", \"precision\": 0.06474490963166324, \"recall\": 0.4315669081204727, \"f1\": 0.11259760280219999, \"threshold\": 0.054755962962088005, \"Predict_T\": 16909.0, \"Predict_F\": 32039.0, \"error\": null}, {\"feature1\": \"Education\", \"feature2\": \"SmokingQuantity\", \"precision\": 0.06884615384615385, \"recall\": 0.1487946799667498, \"f1\": 0.09413620821338647, \"threshold\": 0.045047079083983074, \"Predict_T\": 2588.0, \"Predict_F\": 27960.0, \"error\": null}, {\"feature1\": \"Education\", \"feature2\": \"Stroke\", \"precision\": 0.20330237358101136, \"recall\": 0.1444811147781445, \"f1\": 0.16891747047661784, \"threshold\": 0.19991642427695985, \"Predict_T\": 1422.0, \"Predict_F\": 50336.0, \"error\": null}, {\"feature1\": \"Education\", \"feature2\": \"Unnamed: 0\", \"precision\": 0.06376001943162497, \"recall\": 0.38307187157971545, \"f1\": 0.10932375446561636, \"threshold\": 0.06055393372994807, \"Predict_T\": 3072.0, \"Predict_F\": 48794.0, \"error\": null}, {\"feature1\": \"Education\", \"feature2\": \"WeightKg\", \"precision\": 0.07080276372961038, \"recall\": 0.3872224386443319, \"f1\": 0.11971576535986769, \"threshold\": 0.059430916638305076, \"Predict_T\": 14013.0, \"Predict_F\": 33136.0, \"error\": null}, {\"feature1\": \"EverSmoked100Cigs\", \"feature2\": \"ExercisedPastMonth\", \"precision\": 0.10399717014503007, \"recall\": 0.22442748091603054, \"f1\": 0.14213197965215457, \"threshold\": 0.10715993566056592, \"Predict_T\": 0.0, \"Predict_F\": 49118.0, \"error\": null}, {\"feature1\": \"EverSmoked100Cigs\", \"feature2\": \"GeneralHealth\", \"precision\": 0.17923433874709976, \"recall\": 0.35314285714285715, \"f1\": 0.2377837629410992, \"threshold\": 0.14099233235710515, \"Predict_T\": 2014.0, \"Predict_F\": 47084.0, \"error\": null}, {\"feature1\": \"EverSmoked100Cigs\", \"feature2\": \"HeartAttack\", \"precision\": 0.47486718430731506, \"recall\": 0.44986449864498645, \"f1\": 0.4620278329520246, \"threshold\": 0.4510813594232751, \"Predict_T\": 1493.0, \"Predict_F\": 47479.0, \"error\": null}, {\"feature1\": \"EverSmoked100Cigs\", \"feature2\": \"HeightCm\", \"precision\": 0.08256594349929765, \"recall\": 0.4084942084942085, \"f1\": 0.137366917655745, \"threshold\": 0.07567502483255441, \"Predict_T\": 11096.0, \"Predict_F\": 36974.0, \"error\": null}, {\"feature1\": \"EverSmoked100Cigs\", \"feature2\": \"HighBloodPressure\", \"precision\": 0.12733519433111445, \"recall\": 0.4521540221120854, \"f1\": 0.1987098935738187, \"threshold\": 0.12913081932942022, \"Predict_T\": 0.0, \"Predict_F\": 49021.0, \"error\": null}, {\"feature1\": \"EverSmoked100Cigs\", \"feature2\": \"HighCholesterol\", \"precision\": 0.13299858375177032, \"recall\": 0.4197480698902885, \"f1\": 0.20199452479724578, \"threshold\": 0.13598394094411703, \"Predict_T\": 0.0, \"Predict_F\": 42060.0, \"error\": null}, {\"feature1\": \"EverSmoked100Cigs\", \"feature2\": \"Income\", \"precision\": 0.08742418115649009, \"recall\": 0.498846331333641, \"f1\": 0.14877511695783294, \"threshold\": 0.06981779699028418, \"Predict_T\": 9458.0, \"Predict_F\": 30408.0, \"error\": null}, {\"feature1\": \"EverSmoked100Cigs\", \"feature2\": \"MaritalStatus\", \"precision\": 0.08735228361545833, \"recall\": 0.6265750286368843, \"f1\": 0.15332866150620367, \"threshold\": 0.07276402223345124, \"Predict_T\": 18297.0, \"Predict_F\": 30459.0, \"error\": null}, {\"feature1\": \"EverSmoked100Cigs\", \"feature2\": \"ObeseFlag\", \"precision\": 0.08593573632327489, \"recall\": 0.4569827931172469, \"f1\": 0.14466683554467386, \"threshold\": 0.08452558086299647, \"Predict_T\": 0.0, \"Predict_F\": 45508.0, \"error\": null}, {\"feature1\": \"EverSmoked100Cigs\", \"feature2\": \"OtherCancer\", \"precision\": 0.108, \"recall\": 0.1957268218237314, \"f1\": 0.13919413914831047, \"threshold\": 0.08380173735309131, \"Predict_T\": 2317.0, \"Predict_F\": 46756.0, \"error\": null}, {\"feature1\": \"EverSmoked100Cigs\", \"feature2\": \"Race\", \"precision\": 0.08060686779778795, \"recall\": 0.5407925407925408, \"f1\": 0.14030136569833085, \"threshold\": 0.06871035940803344, \"Predict_T\": 16155.0, \"Predict_F\": 31962.0, \"error\": null}, {\"feature1\": \"EverSmoked100Cigs\", \"feature2\": \"Sex\", \"precision\": 0.09310244187177741, \"recall\": 0.36332574031890663, \"f1\": 0.14822272125614935, \"threshold\": 0.0935918226939899, \"Predict_T\": 0.0, \"Predict_F\": 49210.0, \"error\": null}, {\"feature1\": \"EverSmoked100Cigs\", \"feature2\": \"SkinCancer\", \"precision\": 0.11091703056768559, \"recall\": 0.19404125286478227, \"f1\": 0.14115031948691853, \"threshold\": 0.08885347146130086, \"Predict_T\": 2109.0, \"Predict_F\": 46971.0, \"error\": null}, {\"feature1\": \"EverSmoked100Cigs\", \"feature2\": \"SmokelessTobacco\", \"precision\": 0.07849451013513513, \"recall\": 0.5658295281582952, \"f1\": 0.13786389762369883, \"threshold\": 0.07759865687782408, \"Predict_T\": 0.0, \"Predict_F\": 49053.0, \"error\": null}, {\"feature1\": \"EverSmoked100Cigs\", \"feature2\": \"SmokingFrequency\", \"precision\": null, \"recall\": null, \"f1\": null, \"threshold\": null, \"Predict_T\": null, \"Predict_F\": null, \"error\": \"Singular matrix\"}, {\"feature1\": \"EverSmoked100Cigs\", \"feature2\": \"SmokingQuantity\", \"precision\": null, \"recall\": null, \"f1\": null, \"threshold\": null, \"Predict_T\": null, \"Predict_F\": null, \"error\": \"Singular matrix\"}, {\"feature1\": \"EverSmoked100Cigs\", \"feature2\": \"Stroke\", \"precision\": 0.20182992465016147, \"recall\": 0.14307516215185043, \"f1\": 0.1674480910432125, \"threshold\": 0.18749999999999997, \"Predict_T\": 1005.0, \"Predict_F\": 48099.0, \"error\": null}, {\"feature1\": \"EverSmoked100Cigs\", \"feature2\": \"Unnamed: 0\", \"precision\": 0.07697325505544683, \"recall\": 0.5823842065299925, \"f1\": 0.13597482602201383, \"threshold\": 0.07689882198622712, \"Predict_T\": 0.0, \"Predict_F\": 49210.0, \"error\": null}, {\"feature1\": \"EverSmoked100Cigs\", \"feature2\": \"WeightKg\", \"precision\": 0.08639450814284672, \"recall\": 0.4698173153296267, \"f1\": 0.14595028064737664, \"threshold\": 0.07171080324361676, \"Predict_T\": 13587.0, \"Predict_F\": 32532.0, \"error\": null}, {\"feature1\": \"ExercisedPastMonth\", \"feature2\": \"GeneralHealth\", \"precision\": 0.14989344068197963, \"recall\": 0.46458715596330274, \"f1\": 0.22665831166305114, \"threshold\": 0.11480230140062207, \"Predict_T\": 4871.0, \"Predict_F\": 47033.0, \"error\": null}, {\"feature1\": \"ExercisedPastMonth\", \"feature2\": \"HeartAttack\", \"precision\": 0.4715127701375246, \"recall\": 0.44726052925829296, \"f1\": 0.45906656460190937, \"threshold\": 0.4725778409988936, \"Predict_T\": 1037.0, \"Predict_F\": 50745.0, \"error\": null}, {\"feature1\": \"ExercisedPastMonth\", \"feature2\": \"HeightCm\", \"precision\": 0.08162396799727636, \"recall\": 0.3645001900418092, \"f1\": 0.13337969398957406, \"threshold\": 0.06855599047758629, \"Predict_T\": 11734.0, \"Predict_F\": 37392.0, \"error\": null}, {\"feature1\": \"ExercisedPastMonth\", \"feature2\": \"HighBloodPressure\", \"precision\": 0.09843897824030275, \"recall\": 0.7647923557515619, \"f1\": 0.1744268890456334, \"threshold\": 0.0875781795872459, \"Predict_T\": 6426.0, \"Predict_F\": 45393.0, \"error\": null}, {\"feature1\": \"ExercisedPastMonth\", \"feature2\": \"HighCholesterol\", \"precision\": 0.10122508891774402, \"recall\": 0.70203602192639, \"f1\": 0.1769378792891681, \"threshold\": 0.08991116502954644, \"Predict_T\": 4937.0, \"Predict_F\": 39455.0, \"error\": null}, {\"feature1\": \"ExercisedPastMonth\", \"feature2\": \"Income\", \"precision\": 0.08739014515651229, \"recall\": 0.4011786038077969, \"f1\": 0.14351739233258065, \"threshold\": 0.06821954920136335, \"Predict_T\": 9069.0, \"Predict_F\": 31879.0, \"error\": null}, {\"feature1\": \"ExercisedPastMonth\", \"feature2\": \"MaritalStatus\", \"precision\": 0.1040650406504065, \"recall\": 0.2828729281767956, \"f1\": 0.15215453190718545, \"threshold\": 0.09131482006234064, \"Predict_T\": 3935.0, \"Predict_F\": 47523.0, \"error\": null}, {\"feature1\": \"ExercisedPastMonth\", \"feature2\": \"ObeseFlag\", \"precision\": 0.08833413346135381, \"recall\": 0.2903353057199211, \"f1\": 0.13545596757258402, \"threshold\": 0.08967709051659531, \"Predict_T\": 0.0, \"Predict_F\": 46441.0, \"error\": null}, {\"feature1\": \"ExercisedPastMonth\", \"feature2\": \"OtherCancer\", \"precision\": 0.08247681123088493, \"recall\": 0.4841795437821928, \"f1\": 0.14094462887091788, \"threshold\": 0.07315307161443618, \"Predict_T\": 4937.0, \"Predict_F\": 46945.0, \"error\": null}, {\"feature1\": \"ExercisedPastMonth\", \"feature2\": \"Race\", \"precision\": 0.09130289903365545, \"recall\": 0.30786516853932583, \"f1\": 0.14083783085651874, \"threshold\": 0.092782919766055, \"Predict_T\": 255.0, \"Predict_F\": 50526.0, \"error\": null}, {\"feature1\": \"ExercisedPastMonth\", \"feature2\": \"Sex\", \"precision\": 0.08041597205683892, \"recall\": 0.3706549579216978, \"f1\": 0.13215916500657837, \"threshold\": 0.07077494512915757, \"Predict_T\": 5157.0, \"Predict_F\": 46869.0, \"error\": null}, {\"feature1\": \"ExercisedPastMonth\", \"feature2\": \"SkinCancer\", \"precision\": 0.0828537838005074, \"recall\": 0.49300441826215025, \"f1\": 0.14186576254356914, \"threshold\": 0.07391466654955085, \"Predict_T\": 4762.0, \"Predict_F\": 47129.0, \"error\": null}, {\"feature1\": \"ExercisedPastMonth\", \"feature2\": \"SmokelessTobacco\", \"precision\": 0.08180802612357137, \"recall\": 0.36129032258064514, \"f1\": 0.13340807171877092, \"threshold\": 0.08301678923135745, \"Predict_T\": 11502.0, \"Predict_F\": 37792.0, \"error\": null}, {\"feature1\": \"ExercisedPastMonth\", \"feature2\": \"SmokingFrequency\", \"precision\": 0.08070234678372447, \"recall\": 0.3657230298393267, \"f1\": 0.1322268326121514, \"threshold\": 0.08100175206738072, \"Predict_T\": 10152.0, \"Predict_F\": 38897.0, \"error\": null}, {\"feature1\": \"ExercisedPastMonth\", \"feature2\": \"SmokingQuantity\", \"precision\": 0.06378099469686112, \"recall\": 0.37083333333333335, \"f1\": 0.10884187352271259, \"threshold\": 0.06171478588352842, \"Predict_T\": 767.0, \"Predict_F\": 29865.0, \"error\": null}, {\"feature1\": \"ExercisedPastMonth\", \"feature2\": \"Stroke\", \"precision\": 0.20185854414042334, \"recall\": 0.14380286870172856, \"f1\": 0.16795532641189154, \"threshold\": 0.2014218009478672, \"Predict_T\": 810.0, \"Predict_F\": 51108.0, \"error\": null}, {\"feature1\": \"ExercisedPastMonth\", \"feature2\": \"Unnamed: 0\", \"precision\": 0.08041597205683892, \"recall\": 0.3706549579216978, \"f1\": 0.13215916500657837, \"threshold\": 0.08225844741631697, \"Predict_T\": 0.0, \"Predict_F\": 52026.0, \"error\": null}, {\"feature1\": \"ExercisedPastMonth\", \"feature2\": \"WeightKg\", \"precision\": 0.08540056933712892, \"recall\": 0.3285099726241689, \"f1\": 0.13556039696555436, \"threshold\": 0.07615771334854785, \"Predict_T\": 9773.0, \"Predict_F\": 37403.0, \"error\": null}, {\"feature1\": \"GeneralHealth\", \"feature2\": \"HeartAttack\", \"precision\": 0.4724842767295597, \"recall\": 0.44733903982136214, \"f1\": 0.45956796018708573, \"threshold\": 0.3267469106080029, \"Predict_T\": 2430.0, \"Predict_F\": 49328.0, \"error\": null}, {\"feature1\": \"GeneralHealth\", \"feature2\": \"HeightCm\", \"precision\": 0.16292307692307692, \"recall\": 0.40189753320683114, \"f1\": 0.23185550077996864, \"threshold\": 0.11333757942004204, \"Predict_T\": 5969.0, \"Predict_F\": 43140.0, \"error\": null}, {\"feature1\": \"GeneralHealth\", \"feature2\": \"HighBloodPressure\", \"precision\": 0.1974035891561665, \"recall\": 0.3793103448275862, \"f1\": 0.2596685082422673, \"threshold\": 0.16534689488149362, \"Predict_T\": 1408.0, \"Predict_F\": 50388.0, \"error\": null}, {\"feature1\": \"GeneralHealth\", \"feature2\": \"HighCholesterol\", \"precision\": 0.21675729115175482, \"recall\": 0.342578125, \"f1\": 0.26551619734883647, \"threshold\": 0.18152701793251483, \"Predict_T\": 1058.0, \"Predict_F\": 43316.0, \"error\": null}, {\"feature1\": \"GeneralHealth\", \"feature2\": \"Income\", \"precision\": 0.158968500081606, \"recall\": 0.44052464947987335, \"f1\": 0.23362916762713584, \"threshold\": 0.12165340387305655, \"Predict_T\": 5724.0, \"Predict_F\": 35208.0, \"error\": null}, {\"feature1\": \"GeneralHealth\", \"feature2\": \"MaritalStatus\", \"precision\": 0.17032484635645304, \"recall\": 0.4279411764705882, \"f1\": 0.2436675737503533, \"threshold\": 0.12310265696310696, \"Predict_T\": 5732.0, \"Predict_F\": 45708.0, \"error\": null}, {\"feature1\": \"GeneralHealth\", \"feature2\": \"ObeseFlag\", \"precision\": 0.15520189398921477, \"recall\": 0.4649330181245075, \"f1\": 0.232718666760619, \"threshold\": 0.1080679837961204, \"Predict_T\": 6230.0, \"Predict_F\": 40199.0, \"error\": null}, {\"feature1\": \"GeneralHealth\", \"feature2\": \"OtherCancer\", \"precision\": 0.15021968887305545, \"recall\": 0.46456114579507896, \"f1\": 0.22702799709157134, \"threshold\": 0.11111230341701465, \"Predict_T\": 3072.0, \"Predict_F\": 48792.0, \"error\": null}, {\"feature1\": \"GeneralHealth\", \"feature2\": \"Race\", \"precision\": 0.17189480354879594, \"recall\": 0.40530444527456105, \"f1\": 0.24140616304639517, \"threshold\": 0.12409383387187693, \"Predict_T\": 6135.0, \"Predict_F\": 44629.0, \"error\": null}, {\"feature1\": \"GeneralHealth\", \"feature2\": \"Sex\", \"precision\": 0.17875856509471988, \"recall\": 0.3239590942293645, \"f1\": 0.23038961034378158, \"threshold\": 0.14485041248268904, \"Predict_T\": 2120.0, \"Predict_F\": 49886.0, \"error\": null}, {\"feature1\": \"GeneralHealth\", \"feature2\": \"SkinCancer\", \"precision\": 0.14317158579289646, \"recall\": 0.525909592061742, \"f1\": 0.2250707769402524, \"threshold\": 0.1080441269799559, \"Predict_T\": 4332.0, \"Predict_F\": 47538.0, \"error\": null}, {\"feature1\": \"GeneralHealth\", \"feature2\": \"SmokelessTobacco\", \"precision\": 0.15321872254988078, \"recall\": 0.4625, \"f1\": 0.23018192097307852, \"threshold\": 0.11507557949397895, \"Predict_T\": 7898.0, \"Predict_F\": 41375.0, \"error\": null}, {\"feature1\": \"GeneralHealth\", \"feature2\": \"SmokingFrequency\", \"precision\": 0.15163219536506353, \"recall\": 0.46485867074102366, \"f1\": 0.2286734310038693, \"threshold\": 0.0984645346492415, \"Predict_T\": 7130.0, \"Predict_F\": 41899.0, \"error\": null}, {\"feature1\": \"GeneralHealth\", \"feature2\": \"SmokingQuantity\", \"precision\": 0.1231722428748451, \"recall\": 0.413477537437604, \"f1\": 0.18980332247752085, \"threshold\": 0.09796360552026805, \"Predict_T\": 1167.0, \"Predict_F\": 29475.0, \"error\": null}, {\"feature1\": \"GeneralHealth\", \"feature2\": \"Stroke\", \"precision\": 0.14861169541438787, \"recall\": 0.5187224669603524, \"f1\": 0.2310333550994542, \"threshold\": 0.07743150827888362, \"Predict_T\": 9413.0, \"Predict_F\": 42485.0, \"error\": null}, {\"feature1\": \"GeneralHealth\", \"feature2\": \"Unnamed: 0\", \"precision\": 0.15, \"recall\": 0.464572680788897, \"f1\": 0.2267783918333084, \"threshold\": 0.11884116972676831, \"Predict_T\": 2120.0, \"Predict_F\": 49886.0, \"error\": null}, {\"feature1\": \"GeneralHealth\", \"feature2\": \"WeightKg\", \"precision\": 0.1638830897703549, \"recall\": 0.42912924638812966, \"f1\": 0.23718571270414915, \"threshold\": 0.11876747071645641, \"Predict_T\": 6589.0, \"Predict_F\": 40574.0, \"error\": null}, {\"feature1\": \"HeartAttack\", \"feature2\": \"HeightCm\", \"precision\": 0.4731270358306189, \"recall\": 0.44778420038535643, \"f1\": 0.46010690947290467, \"threshold\": 0.40114131667829844, \"Predict_T\": 2455.0, \"Predict_F\": 46530.0, \"error\": null}, {\"feature1\": \"HeartAttack\", \"feature2\": \"HighBloodPressure\", \"precision\": 0.4721131186174391, \"recall\": 0.44800596347372346, \"f1\": 0.4597437368022049, \"threshold\": 0.36745406824147, \"Predict_T\": 1864.0, \"Predict_F\": 49809.0, \"error\": null}, {\"feature1\": \"HeartAttack\", \"feature2\": \"HighCholesterol\", \"precision\": 0.47655259822560203, \"recall\": 0.4458498023715415, \"f1\": 0.4606902184511785, \"threshold\": 0.3671660042800368, \"Predict_T\": 1571.0, \"Predict_F\": 42714.0, \"error\": null}, {\"feature1\": \"HeartAttack\", \"feature2\": \"Income\", \"precision\": 0.48510014655593553, \"recall\": 0.45508707607699356, \"f1\": 0.46961456604132545, \"threshold\": 0.46701939340103404, \"Predict_T\": 1950.0, \"Predict_F\": 38892.0, \"error\": null}, {\"feature1\": \"HeartAttack\", \"feature2\": \"MaritalStatus\", \"precision\": 0.4733937721718565, \"recall\": 0.4484690067214339, \"f1\": 0.46059443906796554, \"threshold\": 0.41237113402061853, \"Predict_T\": 2478.0, \"Predict_F\": 48835.0, \"error\": null}, {\"feature1\": \"HeartAttack\", \"feature2\": \"ObeseFlag\", \"precision\": 0.474283305227656, \"recall\": 0.4503602882305845, \"f1\": 0.4620123202785756, \"threshold\": 0.45810754481033755, \"Predict_T\": 1765.0, \"Predict_F\": 44547.0, \"error\": null}, {\"feature1\": \"HeartAttack\", \"feature2\": \"OtherCancer\", \"precision\": 0.471675845790716, \"recall\": 0.4472211861245804, \"f1\": 0.45912310927417865, \"threshold\": 0.4791790247953491, \"Predict_T\": 465.0, \"Predict_F\": 51280.0, \"error\": null}, {\"feature1\": \"HeartAttack\", \"feature2\": \"Race\", \"precision\": 0.47330389401846645, \"recall\": 0.44726858877086495, \"f1\": 0.459918080699016, \"threshold\": 0.36902800658978574, \"Predict_T\": 2333.0, \"Predict_F\": 48306.0, \"error\": null}, {\"feature1\": \"HeartAttack\", \"feature2\": \"Sex\", \"precision\": 0.4722222222222222, \"recall\": 0.44770029673590506, \"f1\": 0.45963442493099516, \"threshold\": 0.4455023803558003, \"Predict_T\": 1554.0, \"Predict_F\": 50327.0, \"error\": null}, {\"feature1\": \"HeartAttack\", \"feature2\": \"SkinCancer\", \"precision\": 0.4707038930397169, \"recall\": 0.44680851063829785, \"f1\": 0.45844504016451115, \"threshold\": 0.47131003856491754, \"Predict_T\": 442.0, \"Predict_F\": 51308.0, \"error\": null}, {\"feature1\": \"HeartAttack\", \"feature2\": \"SmokelessTobacco\", \"precision\": 0.47615165103954343, \"recall\": 0.44957659738260203, \"f1\": 0.4624826766477249, \"threshold\": 0.48104649384281767, \"Predict_T\": 2402.0, \"Predict_F\": 46747.0, \"error\": null}, {\"feature1\": \"HeartAttack\", \"feature2\": \"SmokingFrequency\", \"precision\": 0.4745693191140279, \"recall\": 0.44914596273291924, \"f1\": 0.46150777817101907, \"threshold\": 0.44023606886863925, \"Predict_T\": 2083.0, \"Predict_F\": 46819.0, \"error\": null}, {\"feature1\": \"HeartAttack\", \"feature2\": \"SmokingQuantity\", \"precision\": 0.4458058435438266, \"recall\": 0.40152801358234297, \"f1\": 0.422510049079212, \"threshold\": 0.4527596475035139, \"Predict_T\": 107.0, \"Predict_F\": 30441.0, \"error\": null}, {\"feature1\": \"HeartAttack\", \"feature2\": \"Stroke\", \"precision\": 0.47194978422910944, \"recall\": 0.4477112020841087, \"f1\": 0.45951107710817074, \"threshold\": 0.4731195613303134, \"Predict_T\": 440.0, \"Predict_F\": 51351.0, \"error\": null}, {\"feature1\": \"HeartAttack\", \"feature2\": \"Unnamed: 0\", \"precision\": 0.4722222222222222, \"recall\": 0.44770029673590506, \"f1\": 0.45963442493099516, \"threshold\": 0.48355136590996545, \"Predict_T\": 0.0, \"Predict_F\": 51881.0, \"error\": null}, {\"feature1\": \"HeartAttack\", \"feature2\": \"WeightKg\", \"precision\": 0.4744983277591973, \"recall\": 0.4503968253968254, \"f1\": 0.4621335504386333, \"threshold\": 0.4448274176324493, \"Predict_T\": 2391.0, \"Predict_F\": 44651.0, \"error\": null}, {\"feature1\": \"HeightCm\", \"feature2\": \"HighBloodPressure\", \"precision\": 0.10004464064282526, \"recall\": 0.7666286583048271, \"f1\": 0.176991926971505, \"threshold\": 0.08661535786531577, \"Predict_T\": 20141.0, \"Predict_F\": 28908.0, \"error\": null}, {\"feature1\": \"HeightCm\", \"feature2\": \"HighCholesterol\", \"precision\": 0.10766733652805689, \"recall\": 0.563055780113177, \"f1\": 0.18076823251911675, \"threshold\": 0.09695218281513808, \"Predict_T\": 11466.0, \"Predict_F\": 30622.0, \"error\": null}, {\"feature1\": \"HeightCm\", \"feature2\": \"Income\", \"precision\": 0.08669772256728779, \"recall\": 0.3060758337140247, \"f1\": 0.13512150848632012, \"threshold\": 0.06825536033473435, \"Predict_T\": 7603.0, \"Predict_F\": 32600.0, \"error\": null}, {\"feature1\": \"HeightCm\", \"feature2\": \"MaritalStatus\", \"precision\": 0.10989611809732094, \"recall\": 0.2291904218928164, \"f1\": 0.14855875827104442, \"threshold\": 0.0793505174986481, \"Predict_T\": 5430.0, \"Predict_F\": 43419.0, \"error\": null}, {\"feature1\": \"HeightCm\", \"feature2\": \"ObeseFlag\", \"precision\": 0.06626942139555606, \"recall\": 0.4672163329407146, \"f1\": 0.11607491219049344, \"threshold\": 0.06038627137541358, \"Predict_T\": 15394.0, \"Predict_F\": 31134.0, \"error\": null}, {\"feature1\": \"HeightCm\", \"feature2\": \"OtherCancer\", \"precision\": 0.10880609652836579, \"recall\": 0.19551160136934195, \"f1\": 0.13980688149900655, \"threshold\": 0.08365446228487952, \"Predict_T\": 4712.0, \"Predict_F\": 44369.0, \"error\": null}, {\"feature1\": \"HeightCm\", \"feature2\": \"Race\", \"precision\": 0.06647348594610258, \"recall\": 0.44354215003866976, \"f1\": 0.1156191723980752, \"threshold\": 0.05880415908223424, \"Predict_T\": 14404.0, \"Predict_F\": 33807.0, \"error\": null}, {\"feature1\": \"HeightCm\", \"feature2\": \"Sex\", \"precision\": 0.07294773699909221, \"recall\": 0.4254916792738275, \"f1\": 0.12454334105771012, \"threshold\": 0.06413693519642182, \"Predict_T\": 12782.0, \"Predict_F\": 36436.0, \"error\": null}, {\"feature1\": \"HeightCm\", \"feature2\": \"SkinCancer\", \"precision\": 0.11166522116218561, \"recall\": 0.19604111153406928, \"f1\": 0.14228484592696022, \"threshold\": 0.05205513223194451, \"Predict_T\": 4607.0, \"Predict_F\": 44485.0, \"error\": null}, {\"feature1\": \"HeightCm\", \"feature2\": \"SmokelessTobacco\", \"precision\": 0.06201550387596899, \"recall\": 0.4946236559139785, \"f1\": 0.11021263849472565, \"threshold\": 0.0545679150854094, \"Predict_T\": 17298.0, \"Predict_F\": 30940.0, \"error\": null}, {\"feature1\": \"HeightCm\", \"feature2\": \"SmokingFrequency\", \"precision\": 0.06166952173711746, \"recall\": 0.5156794425087108, \"f1\": 0.11016458520960139, \"threshold\": 0.05440678310278827, \"Predict_T\": 18611.0, \"Predict_F\": 29399.0, \"error\": null}, {\"feature1\": \"HeightCm\", \"feature2\": \"SmokingQuantity\", \"precision\": 0.06045589692765114, \"recall\": 0.1548223350253807, \"f1\": 0.0869565216987378, \"threshold\": 0.03885522962812451, \"Predict_T\": 1985.0, \"Predict_F\": 27863.0, \"error\": null}, {\"feature1\": \"HeightCm\", \"feature2\": \"Stroke\", \"precision\": 0.2022411953041622, \"recall\": 0.14405169137210186, \"f1\": 0.16825749162732745, \"threshold\": 0.05995844400247923, \"Predict_T\": 1869.0, \"Predict_F\": 47245.0, \"error\": null}, {\"feature1\": \"HeightCm\", \"feature2\": \"Unnamed: 0\", \"precision\": 0.06027060270602706, \"recall\": 0.5003782148260212, \"f1\": 0.10758284202187628, \"threshold\": 0.05408406854674084, \"Predict_T\": 18268.0, \"Predict_F\": 30950.0, \"error\": null}, {\"feature1\": \"HeightCm\", \"feature2\": \"WeightKg\", \"precision\": 0.06547945205479452, \"recall\": 0.46862745098039216, \"f1\": 0.11490384613233288, \"threshold\": 0.05478239895870224, \"Predict_T\": 18237.0, \"Predict_F\": 28559.0, \"error\": null}, {\"feature1\": \"HighBloodPressure\", \"feature2\": \"HighCholesterol\", \"precision\": 0.13689819919147372, \"recall\": 0.5831702544031311, \"f1\": 0.22174268915738898, \"threshold\": 0.14109327129068658, \"Predict_T\": 0.0, \"Predict_F\": 44338.0, \"error\": null}, {\"feature1\": \"HighBloodPressure\", \"feature2\": \"Income\", \"precision\": 0.11617594891805605, \"recall\": 0.5932971014492754, \"f1\": 0.1943043606964337, \"threshold\": 0.09319636027186783, \"Predict_T\": 8372.0, \"Predict_F\": 32534.0, \"error\": null}, {\"feature1\": \"HighBloodPressure\", \"feature2\": \"MaritalStatus\", \"precision\": 0.10461812712383711, \"recall\": 0.6914580265095729, \"f1\": 0.18173900418678016, \"threshold\": 0.09622706029864352, \"Predict_T\": 7012.0, \"Predict_F\": 44351.0, \"error\": null}, {\"feature1\": \"HighBloodPressure\", \"feature2\": \"ObeseFlag\", \"precision\": 0.10194581023119573, \"recall\": 0.7691397000789266, \"f1\": 0.18002955844968188, \"threshold\": 0.10313634862991072, \"Predict_T\": 4018.0, \"Predict_F\": 42362.0, \"error\": null}, {\"feature1\": \"HighBloodPressure\", \"feature2\": \"OtherCancer\", \"precision\": 0.09840412937443765, \"recall\": 0.7645327446651949, \"f1\": 0.1743654289707736, \"threshold\": 0.09294941975038323, \"Predict_T\": 2904.0, \"Predict_F\": 48875.0, \"error\": null}, {\"feature1\": \"HighBloodPressure\", \"feature2\": \"Race\", \"precision\": 0.10422799874725963, \"recall\": 0.6227544910179641, \"f1\": 0.17856951223599385, \"threshold\": 0.10745974367400571, \"Predict_T\": 0.0, \"Predict_F\": 50697.0, \"error\": null}, {\"feature1\": \"HighBloodPressure\", \"feature2\": \"Sex\", \"precision\": 0.11688819390148554, \"recall\": 0.43745427944403803, \"f1\": 0.18448249263986563, \"threshold\": 0.12186581782566103, \"Predict_T\": 0.0, \"Predict_F\": 51917.0, \"error\": null}, {\"feature1\": \"HighBloodPressure\", \"feature2\": \"SkinCancer\", \"precision\": 0.09822020259396005, \"recall\": 0.7637099742362901, \"f1\": 0.17405527825854644, \"threshold\": 0.09236521857366231, \"Predict_T\": 2727.0, \"Predict_F\": 49057.0, \"error\": null}, {\"feature1\": \"HighBloodPressure\", \"feature2\": \"SmokelessTobacco\", \"precision\": 0.10046399031672383, \"recall\": 0.755117513267627, \"f1\": 0.17733463898933288, \"threshold\": 0.0976966309759433, \"Predict_T\": 19596.0, \"Predict_F\": 29600.0, \"error\": null}, {\"feature1\": \"HighBloodPressure\", \"feature2\": \"SmokingFrequency\", \"precision\": 0.09963154750049791, \"recall\": 0.7649082568807339, \"f1\": 0.17629955945097334, \"threshold\": 0.09998988178419799, \"Predict_T\": 2674.0, \"Predict_F\": 46279.0, \"error\": null}, {\"feature1\": \"HighBloodPressure\", \"feature2\": \"SmokingQuantity\", \"precision\": 0.07859007832898172, \"recall\": 0.7512479201331115, \"f1\": 0.14229435863397158, \"threshold\": 0.07319469150929253, \"Predict_T\": 11459.0, \"Predict_F\": 19111.0, \"error\": null}, {\"feature1\": \"HighBloodPressure\", \"feature2\": \"Stroke\", \"precision\": 0.0989458109857592, \"recall\": 0.7867647058823529, \"f1\": 0.17578445866259126, \"threshold\": 0.08954882924043425, \"Predict_T\": 1932.0, \"Predict_F\": 49881.0, \"error\": null}, {\"feature1\": \"HighBloodPressure\", \"feature2\": \"Unnamed: 0\", \"precision\": 0.09858889046203219, \"recall\": 0.7640819312362839, \"f1\": 0.17464364835161517, \"threshold\": 0.10074780663015935, \"Predict_T\": 0.0, \"Predict_F\": 51917.0, \"error\": null}, {\"feature1\": \"HighBloodPressure\", \"feature2\": \"WeightKg\", \"precision\": 0.1043178519593614, \"recall\": 0.6746186937817755, \"f1\": 0.1806944953415958, \"threshold\": 0.10245613225113506, \"Predict_T\": 16164.0, \"Predict_F\": 30950.0, \"error\": null}, {\"feature1\": \"HighCholesterol\", \"feature2\": \"Income\", \"precision\": 0.12542106445093196, \"recall\": 0.5349616858237548, \"f1\": 0.2032017463763609, \"threshold\": 0.09555658833612043, \"Predict_T\": 6415.0, \"Predict_F\": 29076.0, \"error\": null}, {\"feature1\": \"HighCholesterol\", \"feature2\": \"MaritalStatus\", \"precision\": 0.13388581952117865, \"recall\": 0.2847630238934587, \"f1\": 0.18213704116907078, \"threshold\": 0.11332312404287904, \"Predict_T\": 5095.0, \"Predict_F\": 38926.0, \"error\": null}, {\"feature1\": \"HighCholesterol\", \"feature2\": \"ObeseFlag\", \"precision\": 0.1088457477053042, \"recall\": 0.5611390284757118, \"f1\": 0.18232532822640934, \"threshold\": 0.10916412051557034, \"Predict_T\": 0.0, \"Predict_F\": 39853.0, \"error\": null}, {\"feature1\": \"HighCholesterol\", \"feature2\": \"OtherCancer\", \"precision\": 0.10135593220338983, \"recall\": 0.7024275646045419, \"f1\": 0.17715019253251757, \"threshold\": 0.09517917324693506, \"Predict_T\": 2394.0, \"Predict_F\": 41956.0, \"error\": null}, {\"feature1\": \"HighCholesterol\", \"feature2\": \"Race\", \"precision\": 0.10684426810259318, \"recall\": 0.5998408910103421, \"f1\": 0.18138080343837013, \"threshold\": 0.10926335642522955, \"Predict_T\": 282.0, \"Predict_F\": 43170.0, \"error\": null}, {\"feature1\": \"HighCholesterol\", \"feature2\": \"Sex\", \"precision\": 0.12638420799229658, \"recall\": 0.4091971940763835, \"f1\": 0.19312120651167028, \"threshold\": 0.1303153764901163, \"Predict_T\": 0.0, \"Predict_F\": 44467.0, \"error\": null}, {\"feature1\": \"HighCholesterol\", \"feature2\": \"SkinCancer\", \"precision\": 0.10127226463104326, \"recall\": 0.7012529365700861, \"f1\": 0.17698502888253664, \"threshold\": 0.09484970824275513, \"Predict_T\": 2412.0, \"Predict_F\": 41946.0, \"error\": null}, {\"feature1\": \"HighCholesterol\", \"feature2\": \"SmokelessTobacco\", \"precision\": 0.10277679727026709, \"recall\": 0.7055735056542811, \"f1\": 0.17941871210679683, \"threshold\": 0.10408130336608122, \"Predict_T\": 425.0, \"Predict_F\": 41786.0, \"error\": null}, {\"feature1\": \"HighCholesterol\", \"feature2\": \"SmokingFrequency\", \"precision\": 0.1024609559867487, \"recall\": 0.7057864710676447, \"f1\": 0.17894410577391356, \"threshold\": 0.10210360203511885, \"Predict_T\": 2093.0, \"Predict_F\": 39908.0, \"error\": null}, {\"feature1\": \"HighCholesterol\", \"feature2\": \"SmokingQuantity\", \"precision\": 0.07890665291387312, \"recall\": 0.6904332129963899, \"f1\": 0.14162732572444026, \"threshold\": 0.06595753468350851, \"Predict_T\": 9691.0, \"Predict_F\": 16315.0, \"error\": null}, {\"feature1\": \"HighCholesterol\", \"feature2\": \"Stroke\", \"precision\": 0.10306588388780169, \"recall\": 0.7423649177760376, \"f1\": 0.18100238661343537, \"threshold\": 0.09255140074546106, \"Predict_T\": 1766.0, \"Predict_F\": 42617.0, \"error\": null}, {\"feature1\": \"HighCholesterol\", \"feature2\": \"Unnamed: 0\", \"precision\": 0.10150397115980397, \"recall\": 0.7022603273577552, \"f1\": 0.1773709335868699, \"threshold\": 0.10347202698903578, \"Predict_T\": 0.0, \"Predict_F\": 44467.0, \"error\": null}, {\"feature1\": \"HighCholesterol\", \"feature2\": \"WeightKg\", \"precision\": 0.11191848325398814, \"recall\": 0.5564784053156147, \"f1\": 0.18635699879000353, \"threshold\": 0.09950963074105817, \"Predict_T\": 11859.0, \"Predict_F\": 28546.0, \"error\": null}, {\"feature1\": \"Income\", \"feature2\": \"MaritalStatus\", \"precision\": 0.10677872692201708, \"recall\": 0.3511554145899411, \"f1\": 0.1637612255321208, \"threshold\": 0.08147781444151707, \"Predict_T\": 7185.0, \"Predict_F\": 33615.0, \"error\": null}, {\"feature1\": \"Income\", \"feature2\": \"ObeseFlag\", \"precision\": 0.07983031237948322, \"recall\": 0.4861437294504462, \"f1\": 0.13714058563894652, \"threshold\": 0.06273635738081199, \"Predict_T\": 9226.0, \"Predict_F\": 29328.0, \"error\": null}, {\"feature1\": \"Income\", \"feature2\": \"OtherCancer\", \"precision\": 0.09559879848504636, \"recall\": 0.33167195287720885, \"f1\": 0.1484184914494485, \"threshold\": 0.07467647240212777, \"Predict_T\": 6043.0, \"Predict_F\": 34863.0, \"error\": null}, {\"feature1\": \"Income\", \"feature2\": \"Race\", \"precision\": 0.080849478390462, \"recall\": 0.4974782209995415, \"f1\": 0.13909364781903596, \"threshold\": 0.054419364603158216, \"Predict_T\": 13167.0, \"Predict_F\": 27207.0, \"error\": null}, {\"feature1\": \"Income\", \"feature2\": \"Sex\", \"precision\": 0.08216707545808685, \"recall\": 0.5132942767012167, \"f1\": 0.14165785707464956, \"threshold\": 0.06513323853195854, \"Predict_T\": 10405.0, \"Predict_F\": 30599.0, \"error\": null}, {\"feature1\": \"Income\", \"feature2\": \"SkinCancer\", \"precision\": 0.09662265109192483, \"recall\": 0.3448119619392841, \"f1\": 0.15094713871419368, \"threshold\": 0.06871582405332481, \"Predict_T\": 7677.0, \"Predict_F\": 33229.0, \"error\": null}, {\"feature1\": \"Income\", \"feature2\": \"SmokelessTobacco\", \"precision\": 0.08570179274158286, \"recall\": 0.2696011004126547, \"f1\": 0.1300597212639919, \"threshold\": 0.07301236520439082, \"Predict_T\": 4425.0, \"Predict_F\": 35558.0, \"error\": null}, {\"feature1\": \"Income\", \"feature2\": \"SmokingFrequency\", \"precision\": 0.07855958740099465, \"recall\": 0.394177449168207, \"f1\": 0.13100906156036882, \"threshold\": 0.06448874817780388, \"Predict_T\": 6825.0, \"Predict_F\": 33006.0, \"error\": null}, {\"feature1\": \"Income\", \"feature2\": \"SmokingQuantity\", \"precision\": 0.06876040923150131, \"recall\": 0.29489795918367345, \"f1\": 0.1115184255915608, \"threshold\": 0.04825208827353715, \"Predict_T\": 4201.0, \"Predict_F\": 20278.0, \"error\": null}, {\"feature1\": \"Income\", \"feature2\": \"Stroke\", \"precision\": 0.20905459387483355, \"recall\": 0.14233907524932005, \"f1\": 0.16936353824737946, \"threshold\": 0.17136934892896627, \"Predict_T\": 1472.0, \"Predict_F\": 39457.0, \"error\": null}, {\"feature1\": \"Income\", \"feature2\": \"Unnamed: 0\", \"precision\": 0.08514851485148515, \"recall\": 0.27129337539432175, \"f1\": 0.1296156744172911, \"threshold\": 0.07262549682870996, \"Predict_T\": 4480.0, \"Predict_F\": 36524.0, \"error\": null}, {\"feature1\": \"Income\", \"feature2\": \"WeightKg\", \"precision\": 0.08689809630459126, \"recall\": 0.3621091927204853, \"f1\": 0.14016075134600817, \"threshold\": 0.06595120540618957, \"Predict_T\": 8902.0, \"Predict_F\": 30153.0, \"error\": null}, {\"feature1\": \"MaritalStatus\", \"feature2\": \"ObeseFlag\", \"precision\": 0.09655470353169888, \"recall\": 0.35238470634607805, \"f1\": 0.15157680566308307, \"threshold\": 0.07247561759037564, \"Predict_T\": 5014.0, \"Predict_F\": 41227.0, \"error\": null}, {\"feature1\": \"MaritalStatus\", \"feature2\": \"OtherCancer\", \"precision\": 0.1060281690140845, \"recall\": 0.3468485071876152, \"f1\": 0.16240938898726565, \"threshold\": 0.09936003530839677, \"Predict_T\": 4392.0, \"Predict_F\": 47026.0, \"error\": null}, {\"feature1\": \"MaritalStatus\", \"feature2\": \"Race\", \"precision\": 0.08972084772663617, \"recall\": 0.36019490254872566, \"f1\": 0.14365797141586134, \"threshold\": 0.06678082191780814, \"Predict_T\": 10415.0, \"Predict_F\": 40080.0, \"error\": null}, {\"feature1\": \"MaritalStatus\", \"feature2\": \"Sex\", \"precision\": 0.10109356014580802, \"recall\": 0.3048735800659582, \"f1\": 0.15183867137422344, \"threshold\": 0.0846926550548338, \"Predict_T\": 5515.0, \"Predict_F\": 46045.0, \"error\": null}, {\"feature1\": \"MaritalStatus\", \"feature2\": \"SkinCancer\", \"precision\": 0.10796859877406173, \"recall\": 0.37007003317360854, \"f1\": 0.16716616713119797, \"threshold\": 0.09678124487676913, \"Predict_T\": 4735.0, \"Predict_F\": 46694.0, \"error\": null}, {\"feature1\": \"MaritalStatus\", \"feature2\": \"SmokelessTobacco\", \"precision\": 0.10955534531693473, \"recall\": 0.21981776765375854, \"f1\": 0.1462305846253849, \"threshold\": 0.10678807179575238, \"Predict_T\": 91.0, \"Predict_F\": 48847.0, \"error\": null}, {\"feature1\": \"MaritalStatus\", \"feature2\": \"SmokingFrequency\", \"precision\": 0.10263972865359092, \"recall\": 0.2664624808575804, \"f1\": 0.14819546466761083, \"threshold\": 0.07029256819689442, \"Predict_T\": 6609.0, \"Predict_F\": 42080.0, \"error\": null}, {\"feature1\": \"MaritalStatus\", \"feature2\": \"SmokingQuantity\", \"precision\": 0.09235209235209235, \"recall\": 0.2673350041771094, \"f1\": 0.13728013724197072, \"threshold\": 0.06716080962901923, \"Predict_T\": 3463.0, \"Predict_F\": 26918.0, \"error\": null}, {\"feature1\": \"MaritalStatus\", \"feature2\": \"Stroke\", \"precision\": 0.12539500143636886, \"recall\": 0.32154696132596683, \"f1\": 0.18042781849843395, \"threshold\": 0.0936822393061306, \"Predict_T\": 1930.0, \"Predict_F\": 49522.0, \"error\": null}, {\"feature1\": \"MaritalStatus\", \"feature2\": \"Unnamed: 0\", \"precision\": 0.10879419764279238, \"recall\": 0.21986075485525833, \"f1\": 0.14556040752485144, \"threshold\": 0.10655811442965095, \"Predict_T\": 0.0, \"Predict_F\": 51560.0, \"error\": null}, {\"feature1\": \"MaritalStatus\", \"feature2\": \"WeightKg\", \"precision\": 0.09851694915254237, \"recall\": 0.326953125, \"f1\": 0.15141099851723522, \"threshold\": 0.07152432866788237, \"Predict_T\": 8464.0, \"Predict_F\": 38500.0, \"error\": null}, {\"feature1\": \"ObeseFlag\", \"feature2\": \"OtherCancer\", \"precision\": 0.10805457746478873, \"recall\": 0.19384129490722463, \"f1\": 0.13875936126532742, \"threshold\": 0.09342128721697276, \"Predict_T\": 3170.0, \"Predict_F\": 43233.0, \"error\": null}, {\"feature1\": \"ObeseFlag\", \"feature2\": \"Race\", \"precision\": 0.06639109161464485, \"recall\": 0.6316211878009631, \"f1\": 0.12015267173851164, \"threshold\": 0.06633878170022724, \"Predict_T\": 0.0, \"Predict_F\": 45652.0, \"error\": null}, {\"feature1\": \"ObeseFlag\", \"feature2\": \"Sex\", \"precision\": 0.07276320517427237, \"recall\": 0.47703180212014135, \"f1\": 0.12626656272060363, \"threshold\": 0.07212338314423175, \"Predict_T\": 0.0, \"Predict_F\": 46528.0, \"error\": null}, {\"feature1\": \"ObeseFlag\", \"feature2\": \"SkinCancer\", \"precision\": 0.11315610088616224, \"recall\": 0.1966824644549763, \"f1\": 0.14366075287444718, \"threshold\": 0.09628886659979932, \"Predict_T\": 2929.0, \"Predict_F\": 43481.0, \"error\": null}, {\"feature1\": \"ObeseFlag\", \"feature2\": \"SmokelessTobacco\", \"precision\": 0.062181986387365364, \"recall\": 0.7495021903624054, \"f1\": 0.1148366232277595, \"threshold\": 0.06094365644113547, \"Predict_T\": 0.0, \"Predict_F\": 45665.0, \"error\": null}, {\"feature1\": \"ObeseFlag\", \"feature2\": \"SmokingFrequency\", \"precision\": 0.061184063388606665, \"recall\": 0.7681508223024468, \"f1\": 0.11334043559239418, \"threshold\": 0.06032433646684767, \"Predict_T\": 3985.0, \"Predict_F\": 41470.0, \"error\": null}, {\"feature1\": \"ObeseFlag\", \"feature2\": \"SmokingQuantity\", \"precision\": 0.045593019053028344, \"recall\": 0.7793468667255075, \"f1\": 0.08614634145297188, \"threshold\": 0.0291746856612682, \"Predict_T\": 19356.0, \"Predict_F\": 8733.0, \"error\": null}, {\"feature1\": \"ObeseFlag\", \"feature2\": \"Stroke\", \"precision\": 0.20468488566648077, \"recall\": 0.14477317554240632, \"f1\": 0.16959334560766184, \"threshold\": 0.19691300280636118, \"Predict_T\": 1280.0, \"Predict_F\": 45150.0, \"error\": null}, {\"feature1\": \"ObeseFlag\", \"feature2\": \"Unnamed: 0\", \"precision\": 0.061119270068431084, \"recall\": 0.767962308598351, \"f1\": 0.11322720693279748, \"threshold\": 0.060539217596670185, \"Predict_T\": 0.0, \"Predict_F\": 46528.0, \"error\": null}, {\"feature1\": \"ObeseFlag\", \"feature2\": \"WeightKg\", \"precision\": 0.06575382948332759, \"recall\": 0.5241460541813898, \"f1\": 0.11684901529747838, \"threshold\": 0.05822725096812646, \"Predict_T\": 19950.0, \"Predict_F\": 26578.0, \"error\": null}, {\"feature1\": \"OtherCancer\", \"feature2\": \"Race\", \"precision\": 0.1065320420358541, \"recall\": 0.19377811094452774, \"f1\": 0.13748171781088808, \"threshold\": 0.09179926560587513, \"Predict_T\": 4661.0, \"Predict_F\": 46079.0, \"error\": null}, {\"feature1\": \"OtherCancer\", \"feature2\": \"Sex\", \"precision\": 0.10765501918804282, \"recall\": 0.1951666056389601, \"f1\": 0.138765946322309, \"threshold\": 0.08307132219096469, \"Predict_T\": 2031.0, \"Predict_F\": 49953.0, \"error\": null}, {\"feature1\": \"OtherCancer\", \"feature2\": \"SkinCancer\", \"precision\": 0.1042032548881864, \"recall\": 0.3275671696724328, \"f1\": 0.1581097885581581, \"threshold\": 0.097381448671183, \"Predict_T\": 4752.0, \"Predict_F\": 47107.0, \"error\": null}, {\"feature1\": \"OtherCancer\", \"feature2\": \"SmokelessTobacco\", \"precision\": 0.10798909624659257, \"recall\": 0.1954459203036053, \"f1\": 0.1391139923906744, \"threshold\": 0.10908132173979014, \"Predict_T\": 104.0, \"Predict_F\": 49146.0, \"error\": null}, {\"feature1\": \"OtherCancer\", \"feature2\": \"SmokingFrequency\", \"precision\": 0.10797132011809363, \"recall\": 0.19586840091813312, \"f1\": 0.13920609022063352, \"threshold\": 0.10820653510678782, \"Predict_T\": 564.0, \"Predict_F\": 48439.0, \"error\": null}, {\"feature1\": \"OtherCancer\", \"feature2\": \"SmokingQuantity\", \"precision\": 0.08199079401611047, \"recall\": 0.2375, \"f1\": 0.12189905898665335, \"threshold\": 0.04978682340875988, \"Predict_T\": 3190.0, \"Predict_F\": 27438.0, \"error\": null}, {\"feature1\": \"OtherCancer\", \"feature2\": \"Stroke\", \"precision\": 0.127365020766036, \"recall\": 0.304635761589404, \"f1\": 0.17962902696785632, \"threshold\": 0.09538261435074787, \"Predict_T\": 1923.0, \"Predict_F\": 49960.0, \"error\": null}, {\"feature1\": \"OtherCancer\", \"feature2\": \"Unnamed: 0\", \"precision\": 0.10765501918804282, \"recall\": 0.1951666056389601, \"f1\": 0.138765946322309, \"threshold\": 0.10916266986410872, \"Predict_T\": 0.0, \"Predict_F\": 51984.0, \"error\": null}, {\"feature1\": \"OtherCancer\", \"feature2\": \"WeightKg\", \"precision\": 0.10586787033237587, \"recall\": 0.20187793427230047, \"f1\": 0.138896366038312, \"threshold\": 0.08280713236400665, \"Predict_T\": 4860.0, \"Predict_F\": 42278.0, \"error\": null}, {\"feature1\": \"Race\", \"feature2\": \"Sex\", \"precision\": 0.07497756841633019, \"recall\": 0.4983227730152814, \"f1\": 0.13034365096434694, \"threshold\": 0.07451329182725588, \"Predict_T\": 0.0, \"Predict_F\": 50875.0, \"error\": null}, {\"feature1\": \"Race\", \"feature2\": \"SkinCancer\", \"precision\": 0.11011332050459696, \"recall\": 0.19302848575712145, \"f1\": 0.1402314499197039, \"threshold\": 0.10077519379844962, \"Predict_T\": 4621.0, \"Predict_F\": 46126.0, \"error\": null}, {\"feature1\": \"Race\", \"feature2\": \"SmokelessTobacco\", \"precision\": 0.05900664276383446, \"recall\": 0.8196911196911197, \"f1\": 0.11008841296162164, \"threshold\": 0.05396332630874887, \"Predict_T\": 35492.0, \"Predict_F\": 12797.0, \"error\": null}, {\"feature1\": \"Race\", \"feature2\": \"SmokingFrequency\", \"precision\": 0.058464364834927326, \"recall\": 0.8426791277258567, \"f1\": 0.10934263047647218, \"threshold\": 0.05787370035030661, \"Predict_T\": 5251.0, \"Predict_F\": 42803.0, \"error\": null}, {\"feature1\": \"Race\", \"feature2\": \"SmokingQuantity\", \"precision\": 0.04318038402596232, \"recall\": 0.8139337298215803, \"f1\": 0.08201001582743908, \"threshold\": 0.03829011651588697, \"Predict_T\": 22172.0, \"Predict_F\": 7847.0, \"error\": null}, {\"feature1\": \"Race\", \"feature2\": \"Stroke\", \"precision\": 0.20137058513442277, \"recall\": 0.1430175964058405, \"f1\": 0.16725043777980675, \"threshold\": 0.1716686674669866, \"Predict_T\": 1696.0, \"Predict_F\": 49080.0, \"error\": null}, {\"feature1\": \"Race\", \"feature2\": \"Unnamed: 0\", \"precision\": 0.057752896758234605, \"recall\": 0.8266865449124114, \"f1\": 0.1079633956264223, \"threshold\": 0.05796270475247268, \"Predict_T\": 0.0, \"Predict_F\": 50875.0, \"error\": null}, {\"feature1\": \"Race\", \"feature2\": \"WeightKg\", \"precision\": 0.06992248902379533, \"recall\": 0.513126491646778, \"f1\": 0.12307398748068017, \"threshold\": 0.057153057117290545, \"Predict_T\": 18426.0, \"Predict_F\": 27933.0, \"error\": null}, {\"feature1\": \"Sex\", \"feature2\": \"SkinCancer\", \"precision\": 0.11059907834101383, \"recall\": 0.1934065934065934, \"f1\": 0.14072494664880572, \"threshold\": 0.07735403970906228, \"Predict_T\": 2330.0, \"Predict_F\": 49664.0, \"error\": null}, {\"feature1\": \"Sex\", \"feature2\": \"SmokelessTobacco\", \"precision\": 0.06846214256017, \"recall\": 0.5594563986409966, \"f1\": 0.12199539016825665, \"threshold\": 0.06787842954905816, \"Predict_T\": 86.0, \"Predict_F\": 49302.0, \"error\": null}, {\"feature1\": \"Sex\", \"feature2\": \"SmokingFrequency\", \"precision\": 0.06611950602132392, \"recall\": 0.6562618956985155, \"f1\": 0.12013518691065433, \"threshold\": 0.04680781760490133, \"Predict_T\": 25219.0, \"Predict_F\": 23921.0, \"error\": null}, {\"feature1\": \"Sex\", \"feature2\": \"SmokingQuantity\", \"precision\": 0.048652966378621744, \"recall\": 0.5555555555555556, \"f1\": 0.08947052145144037, \"threshold\": 0.042152454758750214, \"Predict_T\": 13581.0, \"Predict_F\": 17111.0, \"error\": null}, {\"feature1\": \"Sex\", \"feature2\": \"Stroke\", \"precision\": 0.20277920741121977, \"recall\": 0.14416392242956458, \"f1\": 0.16852010260326636, \"threshold\": 0.18492993337927863, \"Predict_T\": 864.0, \"Predict_F\": 51158.0, \"error\": null}, {\"feature1\": \"Sex\", \"feature2\": \"Unnamed: 0\", \"precision\": 0.06536163198021842, \"recall\": 0.5773571168547507, \"f1\": 0.1174292906673505, \"threshold\": 0.06582997624212378, \"Predict_T\": 0.0, \"Predict_F\": 52130.0, \"error\": null}, {\"feature1\": \"Sex\", \"feature2\": \"WeightKg\", \"precision\": 0.06977566693613581, \"recall\": 0.5373540856031128, \"f1\": 0.1235131025643982, \"threshold\": 0.061511875558510676, \"Predict_T\": 19710.0, \"Predict_F\": 27555.0, \"error\": null}, {\"feature1\": \"SkinCancer\", \"feature2\": \"SmokelessTobacco\", \"precision\": 0.111038678835289, \"recall\": 0.19407519939232815, \"f1\": 0.14125777465999212, \"threshold\": 0.11333610751110898, \"Predict_T\": 98.0, \"Predict_F\": 49163.0, \"error\": null}, {\"feature1\": \"SkinCancer\", \"feature2\": \"SmokingFrequency\", \"precision\": 0.11072210065645514, \"recall\": 0.19379548065875143, \"f1\": 0.14092744738444105, \"threshold\": 0.11248955304074021, \"Predict_T\": 375.0, \"Predict_F\": 48636.0, \"error\": null}, {\"feature1\": \"SkinCancer\", \"feature2\": \"SmokingQuantity\", \"precision\": 0.08874598070739549, \"recall\": 0.22980849292256453, \"f1\": 0.12804453719014547, \"threshold\": 0.07202787541346813, \"Predict_T\": 2771.0, \"Predict_F\": 27844.0, \"error\": null}, {\"feature1\": \"SkinCancer\", \"feature2\": \"Stroke\", \"precision\": 0.1316859555833594, \"recall\": 0.30990062569009935, \"f1\": 0.184831522293782, \"threshold\": 0.10009943652635073, \"Predict_T\": 1934.0, \"Predict_F\": 49958.0, \"error\": null}, {\"feature1\": \"SkinCancer\", \"feature2\": \"Unnamed: 0\", \"precision\": 0.11059907834101383, \"recall\": 0.1934065934065934, \"f1\": 0.14072494664880572, \"threshold\": 0.11254565094388151, \"Predict_T\": 0.0, \"Predict_F\": 51994.0, \"error\": null}, {\"feature1\": \"SkinCancer\", \"feature2\": \"WeightKg\", \"precision\": 0.11043074324324324, \"recall\": 0.20469667318982387, \"f1\": 0.14346454528433283, \"threshold\": 0.08119473692410503, \"Predict_T\": 4721.0, \"Predict_F\": 42422.0, \"error\": null}, {\"feature1\": \"SmokelessTobacco\", \"feature2\": \"SmokingFrequency\", \"precision\": 0.05392136380729537, \"recall\": 0.9839878002287457, \"f1\": 0.10224009189135563, \"threshold\": 0.05261024027448992, \"Predict_T\": 6450.0, \"Predict_F\": 42566.0, \"error\": null}, {\"feature1\": \"SmokelessTobacco\", \"feature2\": \"SmokingQuantity\", \"precision\": 0.07473309608540925, \"recall\": 0.08728179551122195, \"f1\": 0.080521472342938, \"threshold\": 0.0395442358662052, \"Predict_T\": 1366.0, \"Predict_F\": 29240.0, \"error\": null}, {\"feature1\": \"SmokelessTobacco\", \"feature2\": \"Stroke\", \"precision\": 0.2016042780748663, \"recall\": 0.1430197268588771, \"f1\": 0.16733244557949642, \"threshold\": 0.21506660417595436, \"Predict_T\": 52.0, \"Predict_F\": 49231.0, \"error\": null}, {\"feature1\": \"SmokelessTobacco\", \"feature2\": \"Unnamed: 0\", \"precision\": 0.05408176074312733, \"recall\": 0.975839939599849, \"f1\": 0.10248379486387733, \"threshold\": 0.05339528461384989, \"Predict_T\": 0.0, \"Predict_F\": 49388.0, \"error\": null}, {\"feature1\": \"SmokelessTobacco\", \"feature2\": \"WeightKg\", \"precision\": 0.06673002851283077, \"recall\": 0.5270644014223627, \"f1\": 0.11846194829725097, \"threshold\": 0.05368003571836297, \"Predict_T\": 19979.0, \"Predict_F\": 26299.0, \"error\": null}, {\"feature1\": \"SmokingFrequency\", \"feature2\": \"SmokingQuantity\", \"precision\": 0.07512402551381998, \"recall\": 0.087893864013267, \"f1\": 0.08100878863964574, \"threshold\": 0.03943436551856914, \"Predict_T\": 1384.0, \"Predict_F\": 29308.0, \"error\": null}, {\"feature1\": \"SmokingFrequency\", \"feature2\": \"Stroke\", \"precision\": 0.2018348623853211, \"recall\": 0.14302103250478013, \"f1\": 0.16741271257455187, \"threshold\": 0.1984175607778653, \"Predict_T\": 1606.0, \"Predict_F\": 47429.0, \"error\": null}, {\"feature1\": \"SmokingFrequency\", \"feature2\": \"Unnamed: 0\", \"precision\": 0.05345950345950346, \"recall\": 1.0, \"f1\": 0.10149322926770456, \"threshold\": 0.05242249493506433, \"Predict_T\": 6467.0, \"Predict_F\": 42673.0, \"error\": null}, {\"feature1\": \"SmokingFrequency\", \"feature2\": \"WeightKg\", \"precision\": 0.06430635838150289, \"recall\": 0.6023089171974523, \"f1\": 0.1162058371561469, \"threshold\": 0.052551788321944466, \"Predict_T\": 23515.0, \"Predict_F\": 22549.0, \"error\": null}, {\"feature1\": \"SmokingQuantity\", \"feature2\": \"Stroke\", \"precision\": 0.13552361396303902, \"recall\": 0.16486261448792672, \"f1\": 0.14876033052898938, \"threshold\": 0.06916170666765661, \"Predict_T\": 1098.0, \"Predict_F\": 29541.0, \"error\": null}, {\"feature1\": \"SmokingQuantity\", \"feature2\": \"Unnamed: 0\", \"precision\": 0.07512402551381998, \"recall\": 0.087893864013267, \"f1\": 0.08100878863964574, \"threshold\": 0.039446031988735385, \"Predict_T\": 1368.0, \"Predict_F\": 29324.0, \"error\": null}, {\"feature1\": \"SmokingQuantity\", \"feature2\": \"WeightKg\", \"precision\": 0.04779697960454616, \"recall\": 0.5376532399299475, \"f1\": 0.08778953387119293, \"threshold\": 0.038328516920425736, \"Predict_T\": 12617.0, \"Predict_F\": 15933.0, \"error\": null}, {\"feature1\": \"Stroke\", \"feature2\": \"Unnamed: 0\", \"precision\": 0.20277920741121977, \"recall\": 0.14416392242956458, \"f1\": 0.16852010260326636, \"threshold\": 0.21587778612571998, \"Predict_T\": 0.0, \"Predict_F\": 52022.0, \"error\": null}, {\"feature1\": \"Stroke\", \"feature2\": \"WeightKg\", \"precision\": 0.2043956043956044, \"recall\": 0.145426114151681, \"f1\": 0.16994061210308822, \"threshold\": 0.17149050495682416, \"Predict_T\": 1819.0, \"Predict_F\": 45347.0, \"error\": null}, {\"feature1\": \"Unnamed: 0\", \"feature2\": \"WeightKg\", \"precision\": 0.06527526861272226, \"recall\": 0.5342412451361868, \"f1\": 0.11633621418157787, \"threshold\": 0.05347570785883992, \"Predict_T\": 20617.0, \"Predict_F\": 26648.0, \"error\": null}]}}, {\"mode\": \"vega-lite\"});\n",
       "</script>"
      ],
      "text/plain": [
       "alt.Chart(...)"
      ]
     },
     "execution_count": 82,
     "metadata": {},
     "output_type": "execute_result"
    }
   ],
   "source": [
    "#Visualize using heatmap\n",
    "\n",
    "heatmap = alt.Chart(bi_results_df).mark_rect().encode(\n",
    "    x=alt.X('feature1:O', title='Feature'),\n",
    "    y=alt.Y('feature2:O', title='Feature'),\n",
    "    color=alt.Color('f1:Q', scale=alt.Scale(scheme='redblue', domain=(-1, 1))),\n",
    "    tooltip=['feature1:O','feature2:O','precision:Q','recall:Q','f1:Q','threshold:Q','Predict_T:Q','Predict_F:Q']\n",
    ").properties(\n",
    "    title='Two feature logistic regression',\n",
    "    width=500,\n",
    "    height=500\n",
    ")\n",
    "heatmap = apply_alt_config(heatmap)\n",
    "heatmap\n"
   ]
  },
  {
   "cell_type": "markdown",
   "id": "c1963b65",
   "metadata": {},
   "source": [
    "__Insights:__\n",
    "* As seen from other EDAs, usage of HeartAttack as a feature tends to bring higher F1 score. \n",
    "* As the shades of colors are similar horizontally and vertically, there aren't any particular pair of features that performed better. "
   ]
  },
  {
   "cell_type": "markdown",
   "id": "ec21e630",
   "metadata": {},
   "source": [
    "## Cluster analysis"
   ]
  },
  {
   "cell_type": "code",
   "execution_count": 83,
   "id": "c66c11b8",
   "metadata": {},
   "outputs": [],
   "source": [
    "cluster_df = train_df.copy()\n",
    "cluster_df = pd.concat([cluster_df,pd.get_dummies(cluster_df[cat_col])],axis=1)\n",
    "cluster_df  = cluster_df.drop(cat_col,axis=1).dropna().reset_index(drop=True)\n",
    "\n",
    "for q_col in quant_col: \n",
    "    scaler = StandardScaler()\n",
    "    cluster_df[q_col] = scaler.fit_transform(cluster_df[[q_col]])\n",
    "\n",
    "cluster_cols = cluster_df.columns.to_list()"
   ]
  },
  {
   "cell_type": "markdown",
   "id": "e7753aaf",
   "metadata": {},
   "source": [
    "### Simple KNN"
   ]
  },
  {
   "cell_type": "code",
   "execution_count": 84,
   "id": "8eabeeeb",
   "metadata": {},
   "outputs": [
    {
     "data": {
      "text/plain": [
       "0    76436\n",
       "1        0\n",
       "2        0\n",
       "3        0\n",
       "4        0\n",
       "dtype: int64"
      ]
     },
     "execution_count": 84,
     "metadata": {},
     "output_type": "execute_result"
    }
   ],
   "source": [
    "k=5\n",
    "knn_model = NearestNeighbors(n_neighbors=k+1)  \n",
    "knn_model.fit(cluster_df)\n",
    "\n",
    "#Find closest cluster for each point, count the total. \n",
    "distances, indices = knn_model.kneighbors(cluster_df)\n",
    "min_dist = np.min(distances[:,1:],axis=1)\n",
    "min_mask = np.tile(min_dist[:, np.newaxis], (1, k))\n",
    "\n",
    "pd.DataFrame(distances[:,1:] == min_mask).sum()\n",
    "\n"
   ]
  },
  {
   "cell_type": "markdown",
   "id": "3824fcb9",
   "metadata": {},
   "source": [
    "__Insights:__\n",
    "* KNN doesn't do any clustering, regardless of # of clusters chosen. "
   ]
  },
  {
   "cell_type": "markdown",
   "id": "cdc2e622",
   "metadata": {},
   "source": [
    "### DBSCAN\n",
    "As KNN didn't tell much, trying DBSCAN"
   ]
  },
  {
   "cell_type": "markdown",
   "id": "9e674884",
   "metadata": {},
   "source": [
    "#### Euclidean"
   ]
  },
  {
   "cell_type": "code",
   "execution_count": 85,
   "id": "33d23ee5",
   "metadata": {},
   "outputs": [
    {
     "data": {
      "image/png": "[encoded data removed]",
      "text/plain": [
       "<Figure size 640x480 with 1 Axes>"
      ]
     },
     "metadata": {},
     "output_type": "display_data"
    }
   ],
   "source": [
    "#Look at the elbow shape to find eps to use for DBSCAN\n",
    "knn_model = NearestNeighbors(n_neighbors=5+1)  # +1 to include the point itself\n",
    "knn_model.fit(cluster_df)\n",
    "\n",
    "distances, indices = knn_model.kneighbors(cluster_df)\n",
    "\n",
    "k_dist = np.sort(distances[:, 5])  # 5-1 = 4\n",
    "plt.plot(k_dist)\n",
    "plt.ylabel(\"5th Nearest Neighbor Distance\")\n",
    "plt.title(\"Choose eps\")\n",
    "plt.ylim(0, 10000)\n",
    "plt.show()\n"
   ]
  },
  {
   "cell_type": "code",
   "execution_count": 86,
   "id": "24824c18",
   "metadata": {},
   "outputs": [
    {
     "data": {
      "text/html": [
       "<div>\n",
       "<style scoped>\n",
       "    .dataframe tbody tr th:only-of-type {\n",
       "        vertical-align: middle;\n",
       "    }\n",
       "\n",
       "    .dataframe tbody tr th {\n",
       "        vertical-align: top;\n",
       "    }\n",
       "\n",
       "    .dataframe thead th {\n",
       "        text-align: right;\n",
       "    }\n",
       "</style>\n",
       "<table border=\"1\" class=\"dataframe\">\n",
       "  <thead>\n",
       "    <tr style=\"text-align: right;\">\n",
       "      <th></th>\n",
       "      <th>Cluster ID</th>\n",
       "      <th>Cluster Total</th>\n",
       "      <th>Cluster Heart Disease</th>\n",
       "      <th>Cluster Heart disease / Cluster total</th>\n",
       "      <th>Cluster Heart disease / Heart disease Total</th>\n",
       "      <th>Cluster total / Total</th>\n",
       "    </tr>\n",
       "  </thead>\n",
       "  <tbody>\n",
       "    <tr>\n",
       "      <th>0</th>\n",
       "      <td>-1</td>\n",
       "      <td>4344</td>\n",
       "      <td>130.0</td>\n",
       "      <td>0.029926</td>\n",
       "      <td>0.040086</td>\n",
       "      <td>0.056832</td>\n",
       "    </tr>\n",
       "    <tr>\n",
       "      <th>1</th>\n",
       "      <td>0</td>\n",
       "      <td>48910</td>\n",
       "      <td>2106.0</td>\n",
       "      <td>0.043059</td>\n",
       "      <td>0.649399</td>\n",
       "      <td>0.639882</td>\n",
       "    </tr>\n",
       "    <tr>\n",
       "      <th>2</th>\n",
       "      <td>1</td>\n",
       "      <td>20861</td>\n",
       "      <td>848.0</td>\n",
       "      <td>0.040650</td>\n",
       "      <td>0.261486</td>\n",
       "      <td>0.272921</td>\n",
       "    </tr>\n",
       "    <tr>\n",
       "      <th>3</th>\n",
       "      <td>2</td>\n",
       "      <td>470</td>\n",
       "      <td>54.0</td>\n",
       "      <td>0.114894</td>\n",
       "      <td>0.016651</td>\n",
       "      <td>0.006149</td>\n",
       "    </tr>\n",
       "    <tr>\n",
       "      <th>4</th>\n",
       "      <td>3</td>\n",
       "      <td>5</td>\n",
       "      <td>1.0</td>\n",
       "      <td>0.200000</td>\n",
       "      <td>0.000308</td>\n",
       "      <td>0.000065</td>\n",
       "    </tr>\n",
       "    <tr>\n",
       "      <th>...</th>\n",
       "      <td>...</td>\n",
       "      <td>...</td>\n",
       "      <td>...</td>\n",
       "      <td>...</td>\n",
       "      <td>...</td>\n",
       "      <td>...</td>\n",
       "    </tr>\n",
       "    <tr>\n",
       "      <th>124</th>\n",
       "      <td>123</td>\n",
       "      <td>5</td>\n",
       "      <td>0.0</td>\n",
       "      <td>0.000000</td>\n",
       "      <td>0.000000</td>\n",
       "      <td>0.000065</td>\n",
       "    </tr>\n",
       "    <tr>\n",
       "      <th>125</th>\n",
       "      <td>124</td>\n",
       "      <td>4</td>\n",
       "      <td>0.0</td>\n",
       "      <td>0.000000</td>\n",
       "      <td>0.000000</td>\n",
       "      <td>0.000052</td>\n",
       "    </tr>\n",
       "    <tr>\n",
       "      <th>126</th>\n",
       "      <td>125</td>\n",
       "      <td>5</td>\n",
       "      <td>0.0</td>\n",
       "      <td>0.000000</td>\n",
       "      <td>0.000000</td>\n",
       "      <td>0.000065</td>\n",
       "    </tr>\n",
       "    <tr>\n",
       "      <th>127</th>\n",
       "      <td>126</td>\n",
       "      <td>5</td>\n",
       "      <td>0.0</td>\n",
       "      <td>0.000000</td>\n",
       "      <td>0.000000</td>\n",
       "      <td>0.000065</td>\n",
       "    </tr>\n",
       "    <tr>\n",
       "      <th>128</th>\n",
       "      <td>127</td>\n",
       "      <td>5</td>\n",
       "      <td>0.0</td>\n",
       "      <td>0.000000</td>\n",
       "      <td>0.000000</td>\n",
       "      <td>0.000065</td>\n",
       "    </tr>\n",
       "  </tbody>\n",
       "</table>\n",
       "<p>129 rows × 6 columns</p>\n",
       "</div>"
      ],
      "text/plain": [
       "     Cluster ID  Cluster Total  Cluster Heart Disease  \\\n",
       "0            -1           4344                  130.0   \n",
       "1             0          48910                 2106.0   \n",
       "2             1          20861                  848.0   \n",
       "3             2            470                   54.0   \n",
       "4             3              5                    1.0   \n",
       "..          ...            ...                    ...   \n",
       "124         123              5                    0.0   \n",
       "125         124              4                    0.0   \n",
       "126         125              5                    0.0   \n",
       "127         126              5                    0.0   \n",
       "128         127              5                    0.0   \n",
       "\n",
       "     Cluster Heart disease / Cluster total  \\\n",
       "0                                 0.029926   \n",
       "1                                 0.043059   \n",
       "2                                 0.040650   \n",
       "3                                 0.114894   \n",
       "4                                 0.200000   \n",
       "..                                     ...   \n",
       "124                               0.000000   \n",
       "125                               0.000000   \n",
       "126                               0.000000   \n",
       "127                               0.000000   \n",
       "128                               0.000000   \n",
       "\n",
       "     Cluster Heart disease / Heart disease Total  Cluster total / Total  \n",
       "0                                       0.040086               0.056832  \n",
       "1                                       0.649399               0.639882  \n",
       "2                                       0.261486               0.272921  \n",
       "3                                       0.016651               0.006149  \n",
       "4                                       0.000308               0.000065  \n",
       "..                                           ...                    ...  \n",
       "124                                     0.000000               0.000065  \n",
       "125                                     0.000000               0.000052  \n",
       "126                                     0.000000               0.000065  \n",
       "127                                     0.000000               0.000065  \n",
       "128                                     0.000000               0.000065  \n",
       "\n",
       "[129 rows x 6 columns]"
      ]
     },
     "execution_count": 86,
     "metadata": {},
     "output_type": "execute_result"
    }
   ],
   "source": [
    "#Looking at above graph, I'll pick eps around 220\n",
    "db_eu = DBSCAN(eps=220, min_samples=5, metric='euclidean').fit(cluster_df)\n",
    "cluster_df_dbeu = pd.concat([cluster_df, pd.Series(db_eu.labels_,name='db_eu_idx')],axis=1)\n",
    "db_eu_df = pd.pivot_table(data=cluster_df_dbeu, \n",
    "                          index='db_eu_idx',\n",
    "                          values=[TARGET_COL],\n",
    "                          aggfunc=['count','sum']).reset_index()\n",
    "db_eu_df.columns = ['_'.join(col) for col in db_eu_df.columns]\n",
    "db_eu_df[f'{TARGET_COL}_pct_cluster'] = db_eu_df[f'sum_{TARGET_COL}'] / db_eu_df[f'count_{TARGET_COL}']\n",
    "db_eu_df[f'{TARGET_COL}_total'] = db_eu_df[f'sum_{TARGET_COL}'] / db_eu_df[f'sum_{TARGET_COL}'].sum()\n",
    "db_eu_df['count_pct_total'] = db_eu_df[f'count_{TARGET_COL}'] / db_eu_df[f'count_{TARGET_COL}'].sum()\n",
    "db_eu_df.rename(columns = {'db_eu_idx_':'Cluster ID',\n",
    "                           f'sum_{TARGET_COL}':'Cluster Heart Disease',\n",
    "                           f'count_{TARGET_COL}':'Cluster Total',\n",
    "                           'count_pct_total':'Cluster total / Total',\n",
    "                           f'{TARGET_COL}_pct_cluster':'Cluster Heart disease / Cluster total',\n",
    "                           f'{TARGET_COL}_total':'Cluster Heart disease / Heart disease Total',}\n",
    "                           )\n",
    "\n"
   ]
  },
  {
   "cell_type": "markdown",
   "id": "47bb843f",
   "metadata": {},
   "source": [
    "#### Hamming"
   ]
  },
  {
   "cell_type": "code",
   "execution_count": 88,
   "id": "41e43a36",
   "metadata": {},
   "outputs": [
    {
     "data": {
      "text/html": [
       "<div>\n",
       "<style scoped>\n",
       "    .dataframe tbody tr th:only-of-type {\n",
       "        vertical-align: middle;\n",
       "    }\n",
       "\n",
       "    .dataframe tbody tr th {\n",
       "        vertical-align: top;\n",
       "    }\n",
       "\n",
       "    .dataframe thead th {\n",
       "        text-align: right;\n",
       "    }\n",
       "</style>\n",
       "<table border=\"1\" class=\"dataframe\">\n",
       "  <thead>\n",
       "    <tr style=\"text-align: right;\">\n",
       "      <th></th>\n",
       "      <th>db_ham_idx_</th>\n",
       "      <th>Cluster Total</th>\n",
       "      <th>Cluster Heart Disease</th>\n",
       "      <th>Cluster Heart disease / Cluster total</th>\n",
       "      <th>Cluster Heart disease / Heart disease Total</th>\n",
       "      <th>Cluster total / Total</th>\n",
       "    </tr>\n",
       "  </thead>\n",
       "  <tbody>\n",
       "    <tr>\n",
       "      <th>0</th>\n",
       "      <td>-1</td>\n",
       "      <td>69442</td>\n",
       "      <td>3226.0</td>\n",
       "      <td>0.046456</td>\n",
       "      <td>0.994758</td>\n",
       "      <td>0.908499</td>\n",
       "    </tr>\n",
       "    <tr>\n",
       "      <th>1</th>\n",
       "      <td>0</td>\n",
       "      <td>5640</td>\n",
       "      <td>14.0</td>\n",
       "      <td>0.002482</td>\n",
       "      <td>0.004317</td>\n",
       "      <td>0.073787</td>\n",
       "    </tr>\n",
       "    <tr>\n",
       "      <th>2</th>\n",
       "      <td>1</td>\n",
       "      <td>6</td>\n",
       "      <td>0.0</td>\n",
       "      <td>0.000000</td>\n",
       "      <td>0.000000</td>\n",
       "      <td>0.000078</td>\n",
       "    </tr>\n",
       "    <tr>\n",
       "      <th>3</th>\n",
       "      <td>2</td>\n",
       "      <td>51</td>\n",
       "      <td>0.0</td>\n",
       "      <td>0.000000</td>\n",
       "      <td>0.000000</td>\n",
       "      <td>0.000667</td>\n",
       "    </tr>\n",
       "    <tr>\n",
       "      <th>4</th>\n",
       "      <td>3</td>\n",
       "      <td>53</td>\n",
       "      <td>0.0</td>\n",
       "      <td>0.000000</td>\n",
       "      <td>0.000000</td>\n",
       "      <td>0.000693</td>\n",
       "    </tr>\n",
       "    <tr>\n",
       "      <th>...</th>\n",
       "      <td>...</td>\n",
       "      <td>...</td>\n",
       "      <td>...</td>\n",
       "      <td>...</td>\n",
       "      <td>...</td>\n",
       "      <td>...</td>\n",
       "    </tr>\n",
       "    <tr>\n",
       "      <th>143</th>\n",
       "      <td>142</td>\n",
       "      <td>3</td>\n",
       "      <td>0.0</td>\n",
       "      <td>0.000000</td>\n",
       "      <td>0.000000</td>\n",
       "      <td>0.000039</td>\n",
       "    </tr>\n",
       "    <tr>\n",
       "      <th>144</th>\n",
       "      <td>143</td>\n",
       "      <td>5</td>\n",
       "      <td>0.0</td>\n",
       "      <td>0.000000</td>\n",
       "      <td>0.000000</td>\n",
       "      <td>0.000065</td>\n",
       "    </tr>\n",
       "    <tr>\n",
       "      <th>145</th>\n",
       "      <td>144</td>\n",
       "      <td>5</td>\n",
       "      <td>0.0</td>\n",
       "      <td>0.000000</td>\n",
       "      <td>0.000000</td>\n",
       "      <td>0.000065</td>\n",
       "    </tr>\n",
       "    <tr>\n",
       "      <th>146</th>\n",
       "      <td>145</td>\n",
       "      <td>7</td>\n",
       "      <td>0.0</td>\n",
       "      <td>0.000000</td>\n",
       "      <td>0.000000</td>\n",
       "      <td>0.000092</td>\n",
       "    </tr>\n",
       "    <tr>\n",
       "      <th>147</th>\n",
       "      <td>146</td>\n",
       "      <td>4</td>\n",
       "      <td>0.0</td>\n",
       "      <td>0.000000</td>\n",
       "      <td>0.000000</td>\n",
       "      <td>0.000052</td>\n",
       "    </tr>\n",
       "  </tbody>\n",
       "</table>\n",
       "<p>148 rows × 6 columns</p>\n",
       "</div>"
      ],
      "text/plain": [
       "     db_ham_idx_  Cluster Total  Cluster Heart Disease  \\\n",
       "0             -1          69442                 3226.0   \n",
       "1              0           5640                   14.0   \n",
       "2              1              6                    0.0   \n",
       "3              2             51                    0.0   \n",
       "4              3             53                    0.0   \n",
       "..           ...            ...                    ...   \n",
       "143          142              3                    0.0   \n",
       "144          143              5                    0.0   \n",
       "145          144              5                    0.0   \n",
       "146          145              7                    0.0   \n",
       "147          146              4                    0.0   \n",
       "\n",
       "     Cluster Heart disease / Cluster total  \\\n",
       "0                                 0.046456   \n",
       "1                                 0.002482   \n",
       "2                                 0.000000   \n",
       "3                                 0.000000   \n",
       "4                                 0.000000   \n",
       "..                                     ...   \n",
       "143                               0.000000   \n",
       "144                               0.000000   \n",
       "145                               0.000000   \n",
       "146                               0.000000   \n",
       "147                               0.000000   \n",
       "\n",
       "     Cluster Heart disease / Heart disease Total  Cluster total / Total  \n",
       "0                                       0.994758               0.908499  \n",
       "1                                       0.004317               0.073787  \n",
       "2                                       0.000000               0.000078  \n",
       "3                                       0.000000               0.000667  \n",
       "4                                       0.000000               0.000693  \n",
       "..                                           ...                    ...  \n",
       "143                                     0.000000               0.000039  \n",
       "144                                     0.000000               0.000065  \n",
       "145                                     0.000000               0.000065  \n",
       "146                                     0.000000               0.000092  \n",
       "147                                     0.000000               0.000052  \n",
       "\n",
       "[148 rows x 6 columns]"
      ]
     },
     "execution_count": 88,
     "metadata": {},
     "output_type": "execute_result"
    }
   ],
   "source": [
    "db_ham = DBSCAN(eps=0.1, min_samples=5, metric='hamming').fit(cluster_df)\n",
    "\n",
    "cluster_df_dbham = pd.concat([cluster_df, pd.Series(db_ham.labels_,name='db_ham_idx')],axis=1)\n",
    "db_ham_df = pd.pivot_table(data=cluster_df_dbham, \n",
    "                          index='db_ham_idx',\n",
    "                          values=[TARGET_COL],\n",
    "                          aggfunc=['count','sum']).reset_index()\n",
    "db_ham_df.columns = ['_'.join(col) for col in db_ham_df.columns]\n",
    "db_ham_df[f'{TARGET_COL}_pct_cluster'] = db_ham_df[f'sum_{TARGET_COL}'] / db_ham_df[f'count_{TARGET_COL}']\n",
    "db_ham_df[f'{TARGET_COL}_total'] = db_ham_df[f'sum_{TARGET_COL}'] / db_ham_df[f'sum_{TARGET_COL}'].sum()\n",
    "db_ham_df['count_pct_total'] = db_ham_df[f'count_{TARGET_COL}'] / db_ham_df[f'count_{TARGET_COL}'].sum()\n",
    "db_ham_df.rename(columns = {'db_eu_idx_':'Cluster ID',\n",
    "                           f'sum_{TARGET_COL}':'Cluster Heart Disease',\n",
    "                           f'count_{TARGET_COL}':'Cluster Total',\n",
    "                           'count_pct_total':'Cluster total / Total',\n",
    "                           f'{TARGET_COL}_pct_cluster':'Cluster Heart disease / Cluster total',\n",
    "                           f'{TARGET_COL}_total':'Cluster Heart disease / Heart disease Total',}\n",
    "                           )\n"
   ]
  },
  {
   "cell_type": "markdown",
   "id": "a5a76ba2",
   "metadata": {},
   "source": [
    "__Insights:__ \n",
    "* When using DBSCAN w/ Euclidean, there were some separation via clusters, but rate of heart disease ppl in each cluster was not hugely different (i.e. not helpful)\n",
    "* When using DBSCAN w/ Hamming, it did some clustering of data points, majority (80%) of the points are unclustered even with change in hyperparameters"
   ]
  }
 ],
 "metadata": {
  "kernelspec": {
   "display_name": "heart-disease",
   "language": "python",
   "name": "python3"
  },
  "language_info": {
   "codemirror_mode": {
    "name": "ipython",
    "version": 3
   },
   "file_extension": ".py",
   "mimetype": "text/x-python",
   "name": "python",
   "nbconvert_exporter": "python",
   "pygments_lexer": "ipython3",
   "version": "3.11.13"
  }
 },
 "nbformat": 4,
 "nbformat_minor": 5
}
